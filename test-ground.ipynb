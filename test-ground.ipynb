{
 "cells": [
  {
   "cell_type": "code",
   "execution_count": 1,
   "metadata": {},
   "outputs": [],
   "source": [
    "import pandas as pd\n"
   ]
  },
  {
   "cell_type": "code",
   "execution_count": 2,
   "metadata": {},
   "outputs": [
    {
     "data": {
      "text/html": [
       "<div>\n",
       "<style scoped>\n",
       "    .dataframe tbody tr th:only-of-type {\n",
       "        vertical-align: middle;\n",
       "    }\n",
       "\n",
       "    .dataframe tbody tr th {\n",
       "        vertical-align: top;\n",
       "    }\n",
       "\n",
       "    .dataframe thead th {\n",
       "        text-align: right;\n",
       "    }\n",
       "</style>\n",
       "<table border=\"1\" class=\"dataframe\">\n",
       "  <thead>\n",
       "    <tr style=\"text-align: right;\">\n",
       "      <th></th>\n",
       "      <th>Event.Id</th>\n",
       "      <th>Name</th>\n",
       "      <th>Value</th>\n",
       "    </tr>\n",
       "  </thead>\n",
       "  <tbody>\n",
       "    <tr>\n",
       "      <th>0</th>\n",
       "      <td>A</td>\n",
       "      <td>X</td>\n",
       "      <td>10</td>\n",
       "    </tr>\n",
       "    <tr>\n",
       "      <th>1</th>\n",
       "      <td>A</td>\n",
       "      <td>X</td>\n",
       "      <td>10</td>\n",
       "    </tr>\n",
       "    <tr>\n",
       "      <th>2</th>\n",
       "      <td>B</td>\n",
       "      <td>Y</td>\n",
       "      <td>20</td>\n",
       "    </tr>\n",
       "    <tr>\n",
       "      <th>3</th>\n",
       "      <td>B</td>\n",
       "      <td>Y</td>\n",
       "      <td>30</td>\n",
       "    </tr>\n",
       "    <tr>\n",
       "      <th>4</th>\n",
       "      <td>B</td>\n",
       "      <td>Z</td>\n",
       "      <td>20</td>\n",
       "    </tr>\n",
       "    <tr>\n",
       "      <th>5</th>\n",
       "      <td>C</td>\n",
       "      <td>W</td>\n",
       "      <td>40</td>\n",
       "    </tr>\n",
       "    <tr>\n",
       "      <th>6</th>\n",
       "      <td>C</td>\n",
       "      <td>W</td>\n",
       "      <td>40</td>\n",
       "    </tr>\n",
       "  </tbody>\n",
       "</table>\n",
       "</div>"
      ],
      "text/plain": [
       "  Event.Id Name  Value\n",
       "0        A    X     10\n",
       "1        A    X     10\n",
       "2        B    Y     20\n",
       "3        B    Y     30\n",
       "4        B    Z     20\n",
       "5        C    W     40\n",
       "6        C    W     40"
      ]
     },
     "execution_count": 2,
     "metadata": {},
     "output_type": "execute_result"
    }
   ],
   "source": [
    "\n",
    "# Sample DataFrame\n",
    "data = {\n",
    "    'Event.Id': ['A', 'A', 'B', 'B', 'B', 'C', 'C'],\n",
    "    'Name': ['X', 'X', 'Y', 'Y', 'Z', 'W', 'W'],\n",
    "    'Value': [10, 10, 20, 30, 20, 40, 40]\n",
    "}\n",
    "\n",
    "df = pd.DataFrame(data)\n",
    "df"
   ]
  },
  {
   "cell_type": "code",
   "execution_count": 3,
   "metadata": {},
   "outputs": [
    {
     "name": "stdout",
     "output_type": "stream",
     "text": [
      "  Event.Id  Is Event.Id Duplicated   Name  Value\n",
      "0        A                    True   True   True\n",
      "1        A                    True   True   True\n",
      "2        B                    True   True   True\n",
      "3        B                    True   True  False\n",
      "4        B                    True  False   True\n",
      "5        C                    True   True   True\n",
      "6        C                    True   True   True\n"
     ]
    }
   ],
   "source": [
    "# Identify duplicated rows based on 'Event.Id'\n",
    "duplicated_event_mask = df.duplicated(subset=['Event.Id'], keep=False)\n",
    "\n",
    "# Apply duplication check for each column (excluding 'Event.Id' itself)\n",
    "duplicate_checks = {}\n",
    "\n",
    "for col in df.columns:\n",
    "    if col != 'Event.Id':  # Skip 'Event.Id' as we already checked it\n",
    "        duplicate_checks[col] = df.duplicated(subset=['Event.Id', col], keep=False)\n",
    "\n",
    "# Combine results into a DataFrame\n",
    "result_df = pd.DataFrame(duplicate_checks)\n",
    "result_df.insert(0, 'Event.Id', df['Event.Id'])  # Keep 'Event.Id' for reference\n",
    "result_df.insert(1, 'Is Event.Id Duplicated', duplicated_event_mask)\n",
    "\n",
    "# Display final result\n",
    "print(result_df)\n"
   ]
  },
  {
   "cell_type": "code",
   "execution_count": null,
   "metadata": {},
   "outputs": [],
   "source": []
  }
 ],
 "metadata": {
  "kernelspec": {
   "display_name": "learn-env",
   "language": "python",
   "name": "python3"
  },
  "language_info": {
   "codemirror_mode": {
    "name": "ipython",
    "version": 3
   },
   "file_extension": ".py",
   "mimetype": "text/x-python",
   "name": "python",
   "nbconvert_exporter": "python",
   "pygments_lexer": "ipython3",
   "version": "3.8.5"
  }
 },
 "nbformat": 4,
 "nbformat_minor": 2
}
