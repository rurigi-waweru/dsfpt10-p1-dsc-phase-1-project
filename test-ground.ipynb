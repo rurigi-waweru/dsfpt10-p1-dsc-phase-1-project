{
 "cells": [
  {
   "cell_type": "code",
   "execution_count": 80,
   "metadata": {},
   "outputs": [],
   "source": [
    "import numpy as np\n",
    "import pandas as pd\n",
    "import seaborn as sns\n",
    "import matplotlib.pyplot as plt"
   ]
  },
  {
   "cell_type": "code",
   "execution_count": 81,
   "metadata": {},
   "outputs": [],
   "source": [
    "# file path\n",
    "file_path = r'data/AviationData.csv'\n",
    "# dataframe\n",
    "df = pd.read_csv(file_path, encoding='ISO-8859-1');"
   ]
  },
  {
   "cell_type": "markdown",
   "metadata": {},
   "source": [
    "## 1. Shape"
   ]
  },
  {
   "cell_type": "code",
   "execution_count": 82,
   "metadata": {},
   "outputs": [
    {
     "data": {
      "text/plain": [
       "(88889, 31)"
      ]
     },
     "execution_count": 82,
     "metadata": {},
     "output_type": "execute_result"
    }
   ],
   "source": [
    "df.shape # (88889, 31)"
   ]
  },
  {
   "cell_type": "markdown",
   "metadata": {},
   "source": [
    "## 2. Dataframe Basic Information"
   ]
  },
  {
   "cell_type": "code",
   "execution_count": 83,
   "metadata": {},
   "outputs": [
    {
     "data": {
      "text/html": [
       "<div>\n",
       "<style scoped>\n",
       "    .dataframe tbody tr th:only-of-type {\n",
       "        vertical-align: middle;\n",
       "    }\n",
       "\n",
       "    .dataframe tbody tr th {\n",
       "        vertical-align: top;\n",
       "    }\n",
       "\n",
       "    .dataframe thead th {\n",
       "        text-align: right;\n",
       "    }\n",
       "</style>\n",
       "<table border=\"1\" class=\"dataframe\">\n",
       "  <thead>\n",
       "    <tr style=\"text-align: right;\">\n",
       "      <th></th>\n",
       "      <th>Event.Id</th>\n",
       "      <th>Investigation.Type</th>\n",
       "      <th>Accident.Number</th>\n",
       "      <th>Event.Date</th>\n",
       "      <th>Location</th>\n",
       "      <th>Country</th>\n",
       "      <th>Latitude</th>\n",
       "      <th>Longitude</th>\n",
       "      <th>Airport.Code</th>\n",
       "      <th>Airport.Name</th>\n",
       "      <th>...</th>\n",
       "      <th>Purpose.of.flight</th>\n",
       "      <th>Air.carrier</th>\n",
       "      <th>Total.Fatal.Injuries</th>\n",
       "      <th>Total.Serious.Injuries</th>\n",
       "      <th>Total.Minor.Injuries</th>\n",
       "      <th>Total.Uninjured</th>\n",
       "      <th>Weather.Condition</th>\n",
       "      <th>Broad.phase.of.flight</th>\n",
       "      <th>Report.Status</th>\n",
       "      <th>Publication.Date</th>\n",
       "    </tr>\n",
       "  </thead>\n",
       "  <tbody>\n",
       "    <tr>\n",
       "      <th>0</th>\n",
       "      <td>20001218X45444</td>\n",
       "      <td>Accident</td>\n",
       "      <td>SEA87LA080</td>\n",
       "      <td>1948-10-24</td>\n",
       "      <td>MOOSE CREEK, ID</td>\n",
       "      <td>United States</td>\n",
       "      <td>NaN</td>\n",
       "      <td>NaN</td>\n",
       "      <td>NaN</td>\n",
       "      <td>NaN</td>\n",
       "      <td>...</td>\n",
       "      <td>Personal</td>\n",
       "      <td>NaN</td>\n",
       "      <td>2.0</td>\n",
       "      <td>0.0</td>\n",
       "      <td>0.0</td>\n",
       "      <td>0.0</td>\n",
       "      <td>UNK</td>\n",
       "      <td>Cruise</td>\n",
       "      <td>Probable Cause</td>\n",
       "      <td>NaN</td>\n",
       "    </tr>\n",
       "    <tr>\n",
       "      <th>1</th>\n",
       "      <td>20001218X45447</td>\n",
       "      <td>Accident</td>\n",
       "      <td>LAX94LA336</td>\n",
       "      <td>1962-07-19</td>\n",
       "      <td>BRIDGEPORT, CA</td>\n",
       "      <td>United States</td>\n",
       "      <td>NaN</td>\n",
       "      <td>NaN</td>\n",
       "      <td>NaN</td>\n",
       "      <td>NaN</td>\n",
       "      <td>...</td>\n",
       "      <td>Personal</td>\n",
       "      <td>NaN</td>\n",
       "      <td>4.0</td>\n",
       "      <td>0.0</td>\n",
       "      <td>0.0</td>\n",
       "      <td>0.0</td>\n",
       "      <td>UNK</td>\n",
       "      <td>Unknown</td>\n",
       "      <td>Probable Cause</td>\n",
       "      <td>19-09-1996</td>\n",
       "    </tr>\n",
       "  </tbody>\n",
       "</table>\n",
       "<p>2 rows × 31 columns</p>\n",
       "</div>"
      ],
      "text/plain": [
       "         Event.Id Investigation.Type Accident.Number  Event.Date  \\\n",
       "0  20001218X45444           Accident      SEA87LA080  1948-10-24   \n",
       "1  20001218X45447           Accident      LAX94LA336  1962-07-19   \n",
       "\n",
       "          Location        Country Latitude Longitude Airport.Code  \\\n",
       "0  MOOSE CREEK, ID  United States      NaN       NaN          NaN   \n",
       "1   BRIDGEPORT, CA  United States      NaN       NaN          NaN   \n",
       "\n",
       "  Airport.Name  ... Purpose.of.flight Air.carrier Total.Fatal.Injuries  \\\n",
       "0          NaN  ...          Personal         NaN                  2.0   \n",
       "1          NaN  ...          Personal         NaN                  4.0   \n",
       "\n",
       "  Total.Serious.Injuries Total.Minor.Injuries Total.Uninjured  \\\n",
       "0                    0.0                  0.0             0.0   \n",
       "1                    0.0                  0.0             0.0   \n",
       "\n",
       "  Weather.Condition  Broad.phase.of.flight   Report.Status Publication.Date  \n",
       "0               UNK                 Cruise  Probable Cause              NaN  \n",
       "1               UNK                Unknown  Probable Cause       19-09-1996  \n",
       "\n",
       "[2 rows x 31 columns]"
      ]
     },
     "execution_count": 83,
     "metadata": {},
     "output_type": "execute_result"
    }
   ],
   "source": [
    "# Check the first few rows\n",
    "df.head(2)"
   ]
  },
  {
   "cell_type": "code",
   "execution_count": 84,
   "metadata": {},
   "outputs": [
    {
     "data": {
      "text/html": [
       "<div>\n",
       "<style scoped>\n",
       "    .dataframe tbody tr th:only-of-type {\n",
       "        vertical-align: middle;\n",
       "    }\n",
       "\n",
       "    .dataframe tbody tr th {\n",
       "        vertical-align: top;\n",
       "    }\n",
       "\n",
       "    .dataframe thead th {\n",
       "        text-align: right;\n",
       "    }\n",
       "</style>\n",
       "<table border=\"1\" class=\"dataframe\">\n",
       "  <thead>\n",
       "    <tr style=\"text-align: right;\">\n",
       "      <th></th>\n",
       "      <th>Event.Id</th>\n",
       "      <th>Investigation.Type</th>\n",
       "      <th>Accident.Number</th>\n",
       "      <th>Event.Date</th>\n",
       "      <th>Location</th>\n",
       "      <th>Country</th>\n",
       "      <th>Latitude</th>\n",
       "      <th>Longitude</th>\n",
       "      <th>Airport.Code</th>\n",
       "      <th>Airport.Name</th>\n",
       "      <th>...</th>\n",
       "      <th>Purpose.of.flight</th>\n",
       "      <th>Air.carrier</th>\n",
       "      <th>Total.Fatal.Injuries</th>\n",
       "      <th>Total.Serious.Injuries</th>\n",
       "      <th>Total.Minor.Injuries</th>\n",
       "      <th>Total.Uninjured</th>\n",
       "      <th>Weather.Condition</th>\n",
       "      <th>Broad.phase.of.flight</th>\n",
       "      <th>Report.Status</th>\n",
       "      <th>Publication.Date</th>\n",
       "    </tr>\n",
       "  </thead>\n",
       "  <tbody>\n",
       "    <tr>\n",
       "      <th>88887</th>\n",
       "      <td>20221227106498</td>\n",
       "      <td>Accident</td>\n",
       "      <td>WPR23LA076</td>\n",
       "      <td>2022-12-26</td>\n",
       "      <td>Morgan, UT</td>\n",
       "      <td>United States</td>\n",
       "      <td>NaN</td>\n",
       "      <td>NaN</td>\n",
       "      <td>NaN</td>\n",
       "      <td>NaN</td>\n",
       "      <td>...</td>\n",
       "      <td>Personal</td>\n",
       "      <td>MC CESSNA 210N LLC</td>\n",
       "      <td>0.0</td>\n",
       "      <td>0.0</td>\n",
       "      <td>0.0</td>\n",
       "      <td>0.0</td>\n",
       "      <td>NaN</td>\n",
       "      <td>NaN</td>\n",
       "      <td>NaN</td>\n",
       "      <td>NaN</td>\n",
       "    </tr>\n",
       "    <tr>\n",
       "      <th>88888</th>\n",
       "      <td>20221230106513</td>\n",
       "      <td>Accident</td>\n",
       "      <td>ERA23LA097</td>\n",
       "      <td>2022-12-29</td>\n",
       "      <td>Athens, GA</td>\n",
       "      <td>United States</td>\n",
       "      <td>NaN</td>\n",
       "      <td>NaN</td>\n",
       "      <td>NaN</td>\n",
       "      <td>NaN</td>\n",
       "      <td>...</td>\n",
       "      <td>Personal</td>\n",
       "      <td>NaN</td>\n",
       "      <td>0.0</td>\n",
       "      <td>1.0</td>\n",
       "      <td>0.0</td>\n",
       "      <td>1.0</td>\n",
       "      <td>NaN</td>\n",
       "      <td>NaN</td>\n",
       "      <td>NaN</td>\n",
       "      <td>30-12-2022</td>\n",
       "    </tr>\n",
       "  </tbody>\n",
       "</table>\n",
       "<p>2 rows × 31 columns</p>\n",
       "</div>"
      ],
      "text/plain": [
       "             Event.Id Investigation.Type Accident.Number  Event.Date  \\\n",
       "88887  20221227106498           Accident      WPR23LA076  2022-12-26   \n",
       "88888  20221230106513           Accident      ERA23LA097  2022-12-29   \n",
       "\n",
       "         Location        Country Latitude Longitude Airport.Code Airport.Name  \\\n",
       "88887  Morgan, UT  United States      NaN       NaN          NaN          NaN   \n",
       "88888  Athens, GA  United States      NaN       NaN          NaN          NaN   \n",
       "\n",
       "       ... Purpose.of.flight         Air.carrier Total.Fatal.Injuries  \\\n",
       "88887  ...          Personal  MC CESSNA 210N LLC                  0.0   \n",
       "88888  ...          Personal                 NaN                  0.0   \n",
       "\n",
       "      Total.Serious.Injuries Total.Minor.Injuries Total.Uninjured  \\\n",
       "88887                    0.0                  0.0             0.0   \n",
       "88888                    1.0                  0.0             1.0   \n",
       "\n",
       "      Weather.Condition  Broad.phase.of.flight Report.Status Publication.Date  \n",
       "88887               NaN                    NaN           NaN              NaN  \n",
       "88888               NaN                    NaN           NaN       30-12-2022  \n",
       "\n",
       "[2 rows x 31 columns]"
      ]
     },
     "execution_count": 84,
     "metadata": {},
     "output_type": "execute_result"
    }
   ],
   "source": [
    "# Check the last few rows\n",
    "df.tail(2)"
   ]
  },
  {
   "cell_type": "code",
   "execution_count": 85,
   "metadata": {},
   "outputs": [
    {
     "data": {
      "text/plain": [
       "Event.Id                   object\n",
       "Investigation.Type         object\n",
       "Accident.Number            object\n",
       "Event.Date                 object\n",
       "Location                   object\n",
       "Country                    object\n",
       "Latitude                   object\n",
       "Longitude                  object\n",
       "Airport.Code               object\n",
       "Airport.Name               object\n",
       "Injury.Severity            object\n",
       "Aircraft.damage            object\n",
       "Aircraft.Category          object\n",
       "Registration.Number        object\n",
       "Make                       object\n",
       "Model                      object\n",
       "Amateur.Built              object\n",
       "Number.of.Engines         float64\n",
       "Engine.Type                object\n",
       "FAR.Description            object\n",
       "Schedule                   object\n",
       "Purpose.of.flight          object\n",
       "Air.carrier                object\n",
       "Total.Fatal.Injuries      float64\n",
       "Total.Serious.Injuries    float64\n",
       "Total.Minor.Injuries      float64\n",
       "Total.Uninjured           float64\n",
       "Weather.Condition          object\n",
       "Broad.phase.of.flight      object\n",
       "Report.Status              object\n",
       "Publication.Date           object\n",
       "dtype: object"
      ]
     },
     "execution_count": 85,
     "metadata": {},
     "output_type": "execute_result"
    }
   ],
   "source": [
    "# Get data types of each column\n",
    "df.dtypes"
   ]
  },
  {
   "cell_type": "code",
   "execution_count": 86,
   "metadata": {},
   "outputs": [
    {
     "data": {
      "text/plain": [
       "31"
      ]
     },
     "execution_count": 86,
     "metadata": {},
     "output_type": "execute_result"
    }
   ],
   "source": [
    "# Get the number of columns\n",
    "len(df.columns)"
   ]
  },
  {
   "cell_type": "code",
   "execution_count": 87,
   "metadata": {},
   "outputs": [
    {
     "data": {
      "text/html": [
       "<div>\n",
       "<style scoped>\n",
       "    .dataframe tbody tr th:only-of-type {\n",
       "        vertical-align: middle;\n",
       "    }\n",
       "\n",
       "    .dataframe tbody tr th {\n",
       "        vertical-align: top;\n",
       "    }\n",
       "\n",
       "    .dataframe thead th {\n",
       "        text-align: right;\n",
       "    }\n",
       "</style>\n",
       "<table border=\"1\" class=\"dataframe\">\n",
       "  <thead>\n",
       "    <tr style=\"text-align: right;\">\n",
       "      <th></th>\n",
       "      <th>0</th>\n",
       "    </tr>\n",
       "  </thead>\n",
       "  <tbody>\n",
       "    <tr>\n",
       "      <th>Event.Id</th>\n",
       "      <td>0</td>\n",
       "    </tr>\n",
       "    <tr>\n",
       "      <th>Investigation.Type</th>\n",
       "      <td>0</td>\n",
       "    </tr>\n",
       "    <tr>\n",
       "      <th>Accident.Number</th>\n",
       "      <td>0</td>\n",
       "    </tr>\n",
       "    <tr>\n",
       "      <th>Event.Date</th>\n",
       "      <td>0</td>\n",
       "    </tr>\n",
       "    <tr>\n",
       "      <th>Location</th>\n",
       "      <td>52</td>\n",
       "    </tr>\n",
       "    <tr>\n",
       "      <th>Country</th>\n",
       "      <td>226</td>\n",
       "    </tr>\n",
       "    <tr>\n",
       "      <th>Latitude</th>\n",
       "      <td>54507</td>\n",
       "    </tr>\n",
       "    <tr>\n",
       "      <th>Longitude</th>\n",
       "      <td>54516</td>\n",
       "    </tr>\n",
       "    <tr>\n",
       "      <th>Airport.Code</th>\n",
       "      <td>38640</td>\n",
       "    </tr>\n",
       "    <tr>\n",
       "      <th>Airport.Name</th>\n",
       "      <td>36099</td>\n",
       "    </tr>\n",
       "    <tr>\n",
       "      <th>Injury.Severity</th>\n",
       "      <td>1000</td>\n",
       "    </tr>\n",
       "    <tr>\n",
       "      <th>Aircraft.damage</th>\n",
       "      <td>3194</td>\n",
       "    </tr>\n",
       "    <tr>\n",
       "      <th>Aircraft.Category</th>\n",
       "      <td>56602</td>\n",
       "    </tr>\n",
       "    <tr>\n",
       "      <th>Registration.Number</th>\n",
       "      <td>1317</td>\n",
       "    </tr>\n",
       "    <tr>\n",
       "      <th>Make</th>\n",
       "      <td>63</td>\n",
       "    </tr>\n",
       "    <tr>\n",
       "      <th>Model</th>\n",
       "      <td>92</td>\n",
       "    </tr>\n",
       "    <tr>\n",
       "      <th>Amateur.Built</th>\n",
       "      <td>102</td>\n",
       "    </tr>\n",
       "    <tr>\n",
       "      <th>Number.of.Engines</th>\n",
       "      <td>6084</td>\n",
       "    </tr>\n",
       "    <tr>\n",
       "      <th>Engine.Type</th>\n",
       "      <td>7077</td>\n",
       "    </tr>\n",
       "    <tr>\n",
       "      <th>FAR.Description</th>\n",
       "      <td>56866</td>\n",
       "    </tr>\n",
       "    <tr>\n",
       "      <th>Schedule</th>\n",
       "      <td>76307</td>\n",
       "    </tr>\n",
       "    <tr>\n",
       "      <th>Purpose.of.flight</th>\n",
       "      <td>6192</td>\n",
       "    </tr>\n",
       "    <tr>\n",
       "      <th>Air.carrier</th>\n",
       "      <td>72241</td>\n",
       "    </tr>\n",
       "    <tr>\n",
       "      <th>Total.Fatal.Injuries</th>\n",
       "      <td>11401</td>\n",
       "    </tr>\n",
       "    <tr>\n",
       "      <th>Total.Serious.Injuries</th>\n",
       "      <td>12510</td>\n",
       "    </tr>\n",
       "    <tr>\n",
       "      <th>Total.Minor.Injuries</th>\n",
       "      <td>11933</td>\n",
       "    </tr>\n",
       "    <tr>\n",
       "      <th>Total.Uninjured</th>\n",
       "      <td>5912</td>\n",
       "    </tr>\n",
       "    <tr>\n",
       "      <th>Weather.Condition</th>\n",
       "      <td>4492</td>\n",
       "    </tr>\n",
       "    <tr>\n",
       "      <th>Broad.phase.of.flight</th>\n",
       "      <td>27165</td>\n",
       "    </tr>\n",
       "    <tr>\n",
       "      <th>Report.Status</th>\n",
       "      <td>6381</td>\n",
       "    </tr>\n",
       "    <tr>\n",
       "      <th>Publication.Date</th>\n",
       "      <td>13771</td>\n",
       "    </tr>\n",
       "  </tbody>\n",
       "</table>\n",
       "</div>"
      ],
      "text/plain": [
       "                            0\n",
       "Event.Id                    0\n",
       "Investigation.Type          0\n",
       "Accident.Number             0\n",
       "Event.Date                  0\n",
       "Location                   52\n",
       "Country                   226\n",
       "Latitude                54507\n",
       "Longitude               54516\n",
       "Airport.Code            38640\n",
       "Airport.Name            36099\n",
       "Injury.Severity          1000\n",
       "Aircraft.damage          3194\n",
       "Aircraft.Category       56602\n",
       "Registration.Number      1317\n",
       "Make                       63\n",
       "Model                      92\n",
       "Amateur.Built             102\n",
       "Number.of.Engines        6084\n",
       "Engine.Type              7077\n",
       "FAR.Description         56866\n",
       "Schedule                76307\n",
       "Purpose.of.flight        6192\n",
       "Air.carrier             72241\n",
       "Total.Fatal.Injuries    11401\n",
       "Total.Serious.Injuries  12510\n",
       "Total.Minor.Injuries    11933\n",
       "Total.Uninjured          5912\n",
       "Weather.Condition        4492\n",
       "Broad.phase.of.flight   27165\n",
       "Report.Status            6381\n",
       "Publication.Date        13771"
      ]
     },
     "execution_count": 87,
     "metadata": {},
     "output_type": "execute_result"
    }
   ],
   "source": [
    "# Check for missing values\n",
    "df.isnull().sum().to_frame()"
   ]
  },
  {
   "cell_type": "markdown",
   "metadata": {},
   "source": [
    "## 3. Summary Statistics"
   ]
  },
  {
   "cell_type": "code",
   "execution_count": 88,
   "metadata": {},
   "outputs": [
    {
     "data": {
      "text/html": [
       "<div>\n",
       "<style scoped>\n",
       "    .dataframe tbody tr th:only-of-type {\n",
       "        vertical-align: middle;\n",
       "    }\n",
       "\n",
       "    .dataframe tbody tr th {\n",
       "        vertical-align: top;\n",
       "    }\n",
       "\n",
       "    .dataframe thead th {\n",
       "        text-align: right;\n",
       "    }\n",
       "</style>\n",
       "<table border=\"1\" class=\"dataframe\">\n",
       "  <thead>\n",
       "    <tr style=\"text-align: right;\">\n",
       "      <th></th>\n",
       "      <th>Number.of.Engines</th>\n",
       "      <th>Total.Fatal.Injuries</th>\n",
       "      <th>Total.Serious.Injuries</th>\n",
       "      <th>Total.Minor.Injuries</th>\n",
       "      <th>Total.Uninjured</th>\n",
       "    </tr>\n",
       "  </thead>\n",
       "  <tbody>\n",
       "    <tr>\n",
       "      <th>count</th>\n",
       "      <td>82805.000000</td>\n",
       "      <td>77488.000000</td>\n",
       "      <td>76379.000000</td>\n",
       "      <td>76956.000000</td>\n",
       "      <td>82977.000000</td>\n",
       "    </tr>\n",
       "    <tr>\n",
       "      <th>mean</th>\n",
       "      <td>1.146585</td>\n",
       "      <td>0.647855</td>\n",
       "      <td>0.279881</td>\n",
       "      <td>0.357061</td>\n",
       "      <td>5.325440</td>\n",
       "    </tr>\n",
       "    <tr>\n",
       "      <th>std</th>\n",
       "      <td>0.446510</td>\n",
       "      <td>5.485960</td>\n",
       "      <td>1.544084</td>\n",
       "      <td>2.235625</td>\n",
       "      <td>27.913634</td>\n",
       "    </tr>\n",
       "    <tr>\n",
       "      <th>min</th>\n",
       "      <td>0.000000</td>\n",
       "      <td>0.000000</td>\n",
       "      <td>0.000000</td>\n",
       "      <td>0.000000</td>\n",
       "      <td>0.000000</td>\n",
       "    </tr>\n",
       "    <tr>\n",
       "      <th>25%</th>\n",
       "      <td>1.000000</td>\n",
       "      <td>0.000000</td>\n",
       "      <td>0.000000</td>\n",
       "      <td>0.000000</td>\n",
       "      <td>0.000000</td>\n",
       "    </tr>\n",
       "    <tr>\n",
       "      <th>50%</th>\n",
       "      <td>1.000000</td>\n",
       "      <td>0.000000</td>\n",
       "      <td>0.000000</td>\n",
       "      <td>0.000000</td>\n",
       "      <td>1.000000</td>\n",
       "    </tr>\n",
       "    <tr>\n",
       "      <th>75%</th>\n",
       "      <td>1.000000</td>\n",
       "      <td>0.000000</td>\n",
       "      <td>0.000000</td>\n",
       "      <td>0.000000</td>\n",
       "      <td>2.000000</td>\n",
       "    </tr>\n",
       "    <tr>\n",
       "      <th>max</th>\n",
       "      <td>8.000000</td>\n",
       "      <td>349.000000</td>\n",
       "      <td>161.000000</td>\n",
       "      <td>380.000000</td>\n",
       "      <td>699.000000</td>\n",
       "    </tr>\n",
       "  </tbody>\n",
       "</table>\n",
       "</div>"
      ],
      "text/plain": [
       "       Number.of.Engines  Total.Fatal.Injuries  Total.Serious.Injuries  \\\n",
       "count       82805.000000          77488.000000            76379.000000   \n",
       "mean            1.146585              0.647855                0.279881   \n",
       "std             0.446510              5.485960                1.544084   \n",
       "min             0.000000              0.000000                0.000000   \n",
       "25%             1.000000              0.000000                0.000000   \n",
       "50%             1.000000              0.000000                0.000000   \n",
       "75%             1.000000              0.000000                0.000000   \n",
       "max             8.000000            349.000000              161.000000   \n",
       "\n",
       "       Total.Minor.Injuries  Total.Uninjured  \n",
       "count          76956.000000     82977.000000  \n",
       "mean               0.357061         5.325440  \n",
       "std                2.235625        27.913634  \n",
       "min                0.000000         0.000000  \n",
       "25%                0.000000         0.000000  \n",
       "50%                0.000000         1.000000  \n",
       "75%                0.000000         2.000000  \n",
       "max              380.000000       699.000000  "
      ]
     },
     "execution_count": 88,
     "metadata": {},
     "output_type": "execute_result"
    }
   ],
   "source": [
    "# General statistics for numerical columns\n",
    "df.describe()"
   ]
  },
  {
   "cell_type": "markdown",
   "metadata": {},
   "source": [
    "## 4.  Structure"
   ]
  },
  {
   "cell_type": "code",
   "execution_count": 89,
   "metadata": {},
   "outputs": [
    {
     "data": {
      "text/plain": [
       "0"
      ]
     },
     "execution_count": 89,
     "metadata": {},
     "output_type": "execute_result"
    }
   ],
   "source": [
    "# Check for duplicate rows\n",
    "df.duplicated().sum() # 0"
   ]
  },
  {
   "cell_type": "code",
   "execution_count": 90,
   "metadata": {},
   "outputs": [
    {
     "data": {
      "text/plain": [
       "['Event.Id',\n",
       " 'Investigation.Type',\n",
       " 'Accident.Number',\n",
       " 'Event.Date',\n",
       " 'Location',\n",
       " 'Country',\n",
       " 'Latitude',\n",
       " 'Longitude',\n",
       " 'Airport.Code',\n",
       " 'Airport.Name',\n",
       " 'Injury.Severity',\n",
       " 'Aircraft.damage',\n",
       " 'Aircraft.Category',\n",
       " 'Registration.Number',\n",
       " 'Make',\n",
       " 'Model',\n",
       " 'Amateur.Built',\n",
       " 'Number.of.Engines',\n",
       " 'Engine.Type',\n",
       " 'FAR.Description',\n",
       " 'Schedule',\n",
       " 'Purpose.of.flight',\n",
       " 'Air.carrier',\n",
       " 'Total.Fatal.Injuries',\n",
       " 'Total.Serious.Injuries',\n",
       " 'Total.Minor.Injuries',\n",
       " 'Total.Uninjured',\n",
       " 'Weather.Condition',\n",
       " 'Broad.phase.of.flight',\n",
       " 'Report.Status',\n",
       " 'Publication.Date']"
      ]
     },
     "execution_count": 90,
     "metadata": {},
     "output_type": "execute_result"
    }
   ],
   "source": [
    "df.columns.tolist()"
   ]
  },
  {
   "cell_type": "markdown",
   "metadata": {},
   "source": [
    "## 5. Missing Values and column analysis"
   ]
  },
  {
   "cell_type": "code",
   "execution_count": 91,
   "metadata": {},
   "outputs": [
    {
     "name": "stdout",
     "output_type": "stream",
     "text": [
      "# column 1 # Event.Id\n",
      "# column 2 # Investigation.Type\n",
      "# column 3 # Accident.Number\n",
      "# column 4 # Event.Date\n",
      "# column 5 # Location\n",
      "# column 6 # Country\n",
      "# column 7 # Latitude\n",
      "# column 8 # Longitude\n",
      "# column 9 # Airport.Code\n",
      "# column 10 # Airport.Name\n",
      "# column 11 # Injury.Severity\n",
      "# column 12 # Aircraft.damage\n",
      "# column 13 # Aircraft.Category\n",
      "# column 14 # Registration.Number\n",
      "# column 15 # Make\n",
      "# column 16 # Model\n",
      "# column 17 # Amateur.Built\n",
      "# column 18 # Number.of.Engines\n",
      "# column 19 # Engine.Type\n",
      "# column 20 # FAR.Description\n",
      "# column 21 # Schedule\n",
      "# column 22 # Purpose.of.flight\n",
      "# column 23 # Air.carrier\n",
      "# column 24 # Total.Fatal.Injuries\n",
      "# column 25 # Total.Serious.Injuries\n",
      "# column 26 # Total.Minor.Injuries\n",
      "# column 27 # Total.Uninjured\n",
      "# column 28 # Weather.Condition\n",
      "# column 29 # Broad.phase.of.flight\n",
      "# column 30 # Report.Status\n",
      "# column 31 # Publication.Date\n"
     ]
    }
   ],
   "source": [
    "col_list = list(df.columns)\n",
    "\n",
    "for i in range(len(list(df.columns))):\n",
    "    print(f\"# column {i + 1} # {col_list[i]}\")"
   ]
  },
  {
   "cell_type": "code",
   "execution_count": 92,
   "metadata": {},
   "outputs": [
    {
     "data": {
      "text/html": [
       "<div>\n",
       "<style scoped>\n",
       "    .dataframe tbody tr th:only-of-type {\n",
       "        vertical-align: middle;\n",
       "    }\n",
       "\n",
       "    .dataframe tbody tr th {\n",
       "        vertical-align: top;\n",
       "    }\n",
       "\n",
       "    .dataframe thead th {\n",
       "        text-align: right;\n",
       "    }\n",
       "</style>\n",
       "<table border=\"1\" class=\"dataframe\">\n",
       "  <thead>\n",
       "    <tr style=\"text-align: right;\">\n",
       "      <th></th>\n",
       "      <th>null_count</th>\n",
       "    </tr>\n",
       "  </thead>\n",
       "  <tbody>\n",
       "    <tr>\n",
       "      <th>Schedule</th>\n",
       "      <td>76307</td>\n",
       "    </tr>\n",
       "    <tr>\n",
       "      <th>Air.carrier</th>\n",
       "      <td>72241</td>\n",
       "    </tr>\n",
       "    <tr>\n",
       "      <th>FAR.Description</th>\n",
       "      <td>56866</td>\n",
       "    </tr>\n",
       "    <tr>\n",
       "      <th>Aircraft.Category</th>\n",
       "      <td>56602</td>\n",
       "    </tr>\n",
       "    <tr>\n",
       "      <th>Longitude</th>\n",
       "      <td>54516</td>\n",
       "    </tr>\n",
       "    <tr>\n",
       "      <th>Latitude</th>\n",
       "      <td>54507</td>\n",
       "    </tr>\n",
       "    <tr>\n",
       "      <th>Airport.Code</th>\n",
       "      <td>38640</td>\n",
       "    </tr>\n",
       "    <tr>\n",
       "      <th>Airport.Name</th>\n",
       "      <td>36099</td>\n",
       "    </tr>\n",
       "    <tr>\n",
       "      <th>Broad.phase.of.flight</th>\n",
       "      <td>27165</td>\n",
       "    </tr>\n",
       "    <tr>\n",
       "      <th>Publication.Date</th>\n",
       "      <td>13771</td>\n",
       "    </tr>\n",
       "    <tr>\n",
       "      <th>Total.Serious.Injuries</th>\n",
       "      <td>12510</td>\n",
       "    </tr>\n",
       "    <tr>\n",
       "      <th>Total.Minor.Injuries</th>\n",
       "      <td>11933</td>\n",
       "    </tr>\n",
       "    <tr>\n",
       "      <th>Total.Fatal.Injuries</th>\n",
       "      <td>11401</td>\n",
       "    </tr>\n",
       "    <tr>\n",
       "      <th>Engine.Type</th>\n",
       "      <td>7077</td>\n",
       "    </tr>\n",
       "    <tr>\n",
       "      <th>Report.Status</th>\n",
       "      <td>6381</td>\n",
       "    </tr>\n",
       "    <tr>\n",
       "      <th>Purpose.of.flight</th>\n",
       "      <td>6192</td>\n",
       "    </tr>\n",
       "    <tr>\n",
       "      <th>Number.of.Engines</th>\n",
       "      <td>6084</td>\n",
       "    </tr>\n",
       "    <tr>\n",
       "      <th>Total.Uninjured</th>\n",
       "      <td>5912</td>\n",
       "    </tr>\n",
       "    <tr>\n",
       "      <th>Weather.Condition</th>\n",
       "      <td>4492</td>\n",
       "    </tr>\n",
       "    <tr>\n",
       "      <th>Aircraft.damage</th>\n",
       "      <td>3194</td>\n",
       "    </tr>\n",
       "    <tr>\n",
       "      <th>Registration.Number</th>\n",
       "      <td>1317</td>\n",
       "    </tr>\n",
       "    <tr>\n",
       "      <th>Injury.Severity</th>\n",
       "      <td>1000</td>\n",
       "    </tr>\n",
       "    <tr>\n",
       "      <th>Country</th>\n",
       "      <td>226</td>\n",
       "    </tr>\n",
       "    <tr>\n",
       "      <th>Amateur.Built</th>\n",
       "      <td>102</td>\n",
       "    </tr>\n",
       "    <tr>\n",
       "      <th>Model</th>\n",
       "      <td>92</td>\n",
       "    </tr>\n",
       "    <tr>\n",
       "      <th>Make</th>\n",
       "      <td>63</td>\n",
       "    </tr>\n",
       "    <tr>\n",
       "      <th>Location</th>\n",
       "      <td>52</td>\n",
       "    </tr>\n",
       "    <tr>\n",
       "      <th>Investigation.Type</th>\n",
       "      <td>0</td>\n",
       "    </tr>\n",
       "    <tr>\n",
       "      <th>Event.Date</th>\n",
       "      <td>0</td>\n",
       "    </tr>\n",
       "    <tr>\n",
       "      <th>Accident.Number</th>\n",
       "      <td>0</td>\n",
       "    </tr>\n",
       "    <tr>\n",
       "      <th>Event.Id</th>\n",
       "      <td>0</td>\n",
       "    </tr>\n",
       "  </tbody>\n",
       "</table>\n",
       "</div>"
      ],
      "text/plain": [
       "                        null_count\n",
       "Schedule                     76307\n",
       "Air.carrier                  72241\n",
       "FAR.Description              56866\n",
       "Aircraft.Category            56602\n",
       "Longitude                    54516\n",
       "Latitude                     54507\n",
       "Airport.Code                 38640\n",
       "Airport.Name                 36099\n",
       "Broad.phase.of.flight        27165\n",
       "Publication.Date             13771\n",
       "Total.Serious.Injuries       12510\n",
       "Total.Minor.Injuries         11933\n",
       "Total.Fatal.Injuries         11401\n",
       "Engine.Type                   7077\n",
       "Report.Status                 6381\n",
       "Purpose.of.flight             6192\n",
       "Number.of.Engines             6084\n",
       "Total.Uninjured               5912\n",
       "Weather.Condition             4492\n",
       "Aircraft.damage               3194\n",
       "Registration.Number           1317\n",
       "Injury.Severity               1000\n",
       "Country                        226\n",
       "Amateur.Built                  102\n",
       "Model                           92\n",
       "Make                            63\n",
       "Location                        52\n",
       "Investigation.Type               0\n",
       "Event.Date                       0\n",
       "Accident.Number                  0\n",
       "Event.Id                         0"
      ]
     },
     "execution_count": 92,
     "metadata": {},
     "output_type": "execute_result"
    }
   ],
   "source": [
    "# Checking the number of missing values \n",
    "# in each column\n",
    "df.isnull().sum().to_frame()\n",
    "df.isnull().sum().to_frame(name='null_count').sort_values(by='null_count', ascending=False)"
   ]
  },
  {
   "cell_type": "code",
   "execution_count": 93,
   "metadata": {},
   "outputs": [
    {
     "name": "stdout",
     "output_type": "stream",
     "text": [
      "The Column count 88889,\n",
      "Number of unique values are 87951.\n",
      " \n",
      "There are 938 missing values in \"Event.Id\".\n"
     ]
    }
   ],
   "source": [
    "# column 1 # Event.Id  #  type: object\n",
    "df['Event.Id'].describe().to_frame()\n",
    "df.duplicated(subset='Event.Id').sum() # 938\n",
    "evt_id_inf = df['Event.Id'].describe().to_frame()\n",
    "\n",
    "type(evt_id_inf.loc[evt_id_inf.index[0]][0])\n",
    "evt_count = evt_id_inf.loc[evt_id_inf.index[0]][0]\n",
    "evt_uniq = df['Event.Id'].nunique()\n",
    "evt_mis = evt_count - 87951\n",
    "\n",
    "print(\n",
    "f'The Column count {evt_count},', # row 0\n",
    "f'Number of unique values are {evt_uniq}.', # row 1\n",
    "' ',\n",
    "f'There are {evt_mis} missing values in \"{list(df.columns)[0]}\".', # missing \n",
    "sep = '\\n')\n",
    "\n",
    "# df.drop_duplicates(inplace=True) # subset = 'Event.Id'\n",
    "df.drop_duplicates(subset=['Event.Id'], inplace=True)\n",
    "\n",
    "# Drop the column\n",
    "df = df.drop(columns=['Event.Id'])\n"
   ]
  },
  {
   "cell_type": "code",
   "execution_count": 94,
   "metadata": {},
   "outputs": [
    {
     "name": "stdout",
     "output_type": "stream",
     "text": [
      "The values in the 'Investigation.Type' column are ['Accident', 'Incident']\n",
      "\n",
      "Investigation.Type 'Accident' has 95.72%\n",
      "Investigation.Type 'Incident' has 4.28%\n"
     ]
    }
   ],
   "source": [
    "# column 2 # 'Investigation.Type'  #  type: object\n",
    "print(f\"The values in the 'Investigation.Type' column are {df['Investigation.Type'].unique().tolist()}\",\n",
    "      end = '\\n\\n')\n",
    "df['Investigation.Type'].value_counts().to_frame()\n",
    "\n",
    "for i in range(2):\n",
    "    print(f\"Investigation.Type '{df['Investigation.Type'].unique().tolist()[i]}' has {df['Investigation.Type'].value_counts()[i] / df.shape[0] * 100:.2f}%\")\n",
    "\n",
    "# dropping 'Incident'\n",
    "df = df.loc[(df['Investigation.Type'] == 'Accident')]\n",
    "# Now, dropping the column\n",
    "df = df.drop(columns=['Investigation.Type'])"
   ]
  },
  {
   "cell_type": "code",
   "execution_count": 95,
   "metadata": {},
   "outputs": [],
   "source": [
    "# column 3 # Accident.Number\n",
    "df['Accident.Number'].isnull().sum()\n",
    "df['Accident.Number'].nunique() # 63011\n",
    "# >>> dropping\n",
    "df = df.drop(columns=['Accident.Number'])"
   ]
  },
  {
   "cell_type": "code",
   "execution_count": 96,
   "metadata": {},
   "outputs": [
    {
     "name": "stdout",
     "output_type": "stream",
     "text": [
      "object\n"
     ]
    }
   ],
   "source": [
    "# column 4 # Event.Date\n",
    "print(df['Event.Date'].dtype) # object\n",
    "# check number of missing values\n",
    "df['Event.Date'].isnull().sum()  # 0\n",
    "# convert to datetime\n",
    "df['Event.Date'] = pd.to_datetime(df['Event.Date'])"
   ]
  },
  {
   "cell_type": "code",
   "execution_count": 97,
   "metadata": {},
   "outputs": [],
   "source": [
    "# column 5 # Location\n",
    "df.Location.isnull().sum() # 52\n",
    "df.Location # number of rows # 87951\n",
    "# >>> dropping\n",
    "df.dropna(subset=['Location'], inplace=True)"
   ]
  },
  {
   "cell_type": "code",
   "execution_count": 98,
   "metadata": {},
   "outputs": [
    {
     "name": "stdout",
     "output_type": "stream",
     "text": [
      "The shape if the dataframe is '84150'.\n",
      "The shape of the new dataframe is 83947\n",
      "Having lost 222\n"
     ]
    }
   ],
   "source": [
    "# column 6 # Country\n",
    "df.Country.isnull().sum()\n",
    "print(f\"The shape if the dataframe is '{df.shape[0]}'.\", sep = '\\n\\n')\n",
    "# drop all null values in col\n",
    "df = df.dropna(subset=['Country'])\n",
    "print(f\"\"\"The shape of the new dataframe is {df.shape[0]}\n",
    "Having lost 222\"\"\")\n",
    "# comvert the name to title format\n",
    "df['Country'] = df['Country'].apply(lambda x: x.title() if isinstance(x, str) else x)\n",
    "# finding out which country stands out\n",
    "df['Country'].value_counts().idxmax() # 'United States' with 79101 values\n",
    "# percentage of USA\n",
    "df['Country'].value_counts()[0] / df.shape[0] * 100 # 94.2%\n",
    "# retaining only 'United States'\n",
    "df = df.loc[(df.Country == 'United States')]"
   ]
  },
  {
   "cell_type": "code",
   "execution_count": 99,
   "metadata": {},
   "outputs": [
    {
     "name": "stdout",
     "output_type": "stream",
     "text": [
      "There are '47735' missing values in the latitude column,\n",
      "whilst the longitude column has '47745' missing values.\n"
     ]
    }
   ],
   "source": [
    "# column 7 # Latitude # and\n",
    "# column 8 # Longitude\n",
    "print(f\"\"\"There are \\'{df['Latitude'].isnull().sum()}\\' missing values in the latitude column,\n",
    "whilst the longitude column has '{df['Longitude'].isnull().sum()}' missing values.\"\"\")"
   ]
  },
  {
   "cell_type": "code",
   "execution_count": 100,
   "metadata": {},
   "outputs": [],
   "source": [
    "# column 9 # Airport.Code\n",
    "df['Airport.Code'].unique()\n",
    "df['Airport.Code'].nunique()\n",
    "df['Airport.Code'].value_counts()\n",
    "df['Airport.Code'].isnull().sum() # 38144 \n",
    "df['Airport.Code'].isnull().sum() / df.shape[0] * 100 # 43.5% missing\n",
    "# > > > dropping \n",
    "df.drop(columns=['Airport.Code'], inplace = True)"
   ]
  },
  {
   "cell_type": "code",
   "execution_count": 101,
   "metadata": {},
   "outputs": [],
   "source": [
    "# column 10 # Airport.Name\t\n",
    "# > > > dropping col\n",
    "df.drop(columns=['Airport.Name'], inplace = True)"
   ]
  },
  {
   "cell_type": "code",
   "execution_count": 102,
   "metadata": {},
   "outputs": [
    {
     "data": {
      "text/html": [
       "<div>\n",
       "<style scoped>\n",
       "    .dataframe tbody tr th:only-of-type {\n",
       "        vertical-align: middle;\n",
       "    }\n",
       "\n",
       "    .dataframe tbody tr th {\n",
       "        vertical-align: top;\n",
       "    }\n",
       "\n",
       "    .dataframe thead th {\n",
       "        text-align: right;\n",
       "    }\n",
       "</style>\n",
       "<table border=\"1\" class=\"dataframe\">\n",
       "  <thead>\n",
       "    <tr style=\"text-align: right;\">\n",
       "      <th></th>\n",
       "      <th>Injury.Severity</th>\n",
       "    </tr>\n",
       "  </thead>\n",
       "  <tbody>\n",
       "    <tr>\n",
       "      <th>Non-Fatal</th>\n",
       "      <td>63930</td>\n",
       "    </tr>\n",
       "    <tr>\n",
       "      <th>Fatal(1)</th>\n",
       "      <td>5769</td>\n",
       "    </tr>\n",
       "    <tr>\n",
       "      <th>Fatal</th>\n",
       "      <td>3550</td>\n",
       "    </tr>\n",
       "    <tr>\n",
       "      <th>Fatal(2)</th>\n",
       "      <td>3369</td>\n",
       "    </tr>\n",
       "    <tr>\n",
       "      <th>Fatal(3)</th>\n",
       "      <td>975</td>\n",
       "    </tr>\n",
       "    <tr>\n",
       "      <th>Fatal(4)</th>\n",
       "      <td>675</td>\n",
       "    </tr>\n",
       "    <tr>\n",
       "      <th>Minor</th>\n",
       "      <td>202</td>\n",
       "    </tr>\n",
       "    <tr>\n",
       "      <th>Fatal(5)</th>\n",
       "      <td>167</td>\n",
       "    </tr>\n",
       "    <tr>\n",
       "      <th>Serious</th>\n",
       "      <td>153</td>\n",
       "    </tr>\n",
       "    <tr>\n",
       "      <th>Fatal(6)</th>\n",
       "      <td>106</td>\n",
       "    </tr>\n",
       "    <tr>\n",
       "      <th>Fatal(7)</th>\n",
       "      <td>31</td>\n",
       "    </tr>\n",
       "    <tr>\n",
       "      <th>Fatal(8)</th>\n",
       "      <td>27</td>\n",
       "    </tr>\n",
       "    <tr>\n",
       "      <th>Fatal(10)</th>\n",
       "      <td>15</td>\n",
       "    </tr>\n",
       "    <tr>\n",
       "      <th>Unavailable</th>\n",
       "      <td>15</td>\n",
       "    </tr>\n",
       "    <tr>\n",
       "      <th>Fatal(9)</th>\n",
       "      <td>8</td>\n",
       "    </tr>\n",
       "    <tr>\n",
       "      <th>Fatal(12)</th>\n",
       "      <td>5</td>\n",
       "    </tr>\n",
       "    <tr>\n",
       "      <th>Fatal(14)</th>\n",
       "      <td>5</td>\n",
       "    </tr>\n",
       "    <tr>\n",
       "      <th>Fatal(11)</th>\n",
       "      <td>4</td>\n",
       "    </tr>\n",
       "    <tr>\n",
       "      <th>Fatal(13)</th>\n",
       "      <td>3</td>\n",
       "    </tr>\n",
       "    <tr>\n",
       "      <th>Fatal(18)</th>\n",
       "      <td>3</td>\n",
       "    </tr>\n",
       "    <tr>\n",
       "      <th>Fatal(17)</th>\n",
       "      <td>2</td>\n",
       "    </tr>\n",
       "    <tr>\n",
       "      <th>Fatal(23)</th>\n",
       "      <td>2</td>\n",
       "    </tr>\n",
       "    <tr>\n",
       "      <th>Fatal(20)</th>\n",
       "      <td>2</td>\n",
       "    </tr>\n",
       "    <tr>\n",
       "      <th>Fatal(25)</th>\n",
       "      <td>2</td>\n",
       "    </tr>\n",
       "    <tr>\n",
       "      <th>Fatal(132)</th>\n",
       "      <td>1</td>\n",
       "    </tr>\n",
       "    <tr>\n",
       "      <th>Fatal(43)</th>\n",
       "      <td>1</td>\n",
       "    </tr>\n",
       "    <tr>\n",
       "      <th>Fatal(19)</th>\n",
       "      <td>1</td>\n",
       "    </tr>\n",
       "    <tr>\n",
       "      <th>Fatal(27)</th>\n",
       "      <td>1</td>\n",
       "    </tr>\n",
       "    <tr>\n",
       "      <th>Fatal(65)</th>\n",
       "      <td>1</td>\n",
       "    </tr>\n",
       "    <tr>\n",
       "      <th>Fatal(88)</th>\n",
       "      <td>1</td>\n",
       "    </tr>\n",
       "    <tr>\n",
       "      <th>Fatal(21)</th>\n",
       "      <td>1</td>\n",
       "    </tr>\n",
       "    <tr>\n",
       "      <th>Fatal(15)</th>\n",
       "      <td>1</td>\n",
       "    </tr>\n",
       "    <tr>\n",
       "      <th>Fatal(31)</th>\n",
       "      <td>1</td>\n",
       "    </tr>\n",
       "    <tr>\n",
       "      <th>Fatal(78)</th>\n",
       "      <td>1</td>\n",
       "    </tr>\n",
       "    <tr>\n",
       "      <th>Fatal(92)</th>\n",
       "      <td>1</td>\n",
       "    </tr>\n",
       "    <tr>\n",
       "      <th>Fatal(34)</th>\n",
       "      <td>1</td>\n",
       "    </tr>\n",
       "    <tr>\n",
       "      <th>Fatal(68)</th>\n",
       "      <td>1</td>\n",
       "    </tr>\n",
       "    <tr>\n",
       "      <th>Fatal(73)</th>\n",
       "      <td>1</td>\n",
       "    </tr>\n",
       "    <tr>\n",
       "      <th>Fatal(156)</th>\n",
       "      <td>1</td>\n",
       "    </tr>\n",
       "    <tr>\n",
       "      <th>Fatal(37)</th>\n",
       "      <td>1</td>\n",
       "    </tr>\n",
       "    <tr>\n",
       "      <th>Fatal(228)</th>\n",
       "      <td>1</td>\n",
       "    </tr>\n",
       "    <tr>\n",
       "      <th>Fatal(82)</th>\n",
       "      <td>1</td>\n",
       "    </tr>\n",
       "    <tr>\n",
       "      <th>Fatal(29)</th>\n",
       "      <td>1</td>\n",
       "    </tr>\n",
       "    <tr>\n",
       "      <th>Fatal(135)</th>\n",
       "      <td>1</td>\n",
       "    </tr>\n",
       "    <tr>\n",
       "      <th>Fatal(64)</th>\n",
       "      <td>1</td>\n",
       "    </tr>\n",
       "    <tr>\n",
       "      <th>Fatal(28)</th>\n",
       "      <td>1</td>\n",
       "    </tr>\n",
       "    <tr>\n",
       "      <th>Fatal(153)</th>\n",
       "      <td>1</td>\n",
       "    </tr>\n",
       "    <tr>\n",
       "      <th>Fatal(265)</th>\n",
       "      <td>1</td>\n",
       "    </tr>\n",
       "    <tr>\n",
       "      <th>Fatal(16)</th>\n",
       "      <td>1</td>\n",
       "    </tr>\n",
       "    <tr>\n",
       "      <th>Fatal(111)</th>\n",
       "      <td>1</td>\n",
       "    </tr>\n",
       "    <tr>\n",
       "      <th>Fatal(110)</th>\n",
       "      <td>1</td>\n",
       "    </tr>\n",
       "    <tr>\n",
       "      <th>Fatal(49)</th>\n",
       "      <td>1</td>\n",
       "    </tr>\n",
       "    <tr>\n",
       "      <th>Fatal(70)</th>\n",
       "      <td>1</td>\n",
       "    </tr>\n",
       "    <tr>\n",
       "      <th>Fatal(230)</th>\n",
       "      <td>1</td>\n",
       "    </tr>\n",
       "    <tr>\n",
       "      <th>Fatal(44)</th>\n",
       "      <td>1</td>\n",
       "    </tr>\n",
       "  </tbody>\n",
       "</table>\n",
       "</div>"
      ],
      "text/plain": [
       "             Injury.Severity\n",
       "Non-Fatal              63930\n",
       "Fatal(1)                5769\n",
       "Fatal                   3550\n",
       "Fatal(2)                3369\n",
       "Fatal(3)                 975\n",
       "Fatal(4)                 675\n",
       "Minor                    202\n",
       "Fatal(5)                 167\n",
       "Serious                  153\n",
       "Fatal(6)                 106\n",
       "Fatal(7)                  31\n",
       "Fatal(8)                  27\n",
       "Fatal(10)                 15\n",
       "Unavailable               15\n",
       "Fatal(9)                   8\n",
       "Fatal(12)                  5\n",
       "Fatal(14)                  5\n",
       "Fatal(11)                  4\n",
       "Fatal(13)                  3\n",
       "Fatal(18)                  3\n",
       "Fatal(17)                  2\n",
       "Fatal(23)                  2\n",
       "Fatal(20)                  2\n",
       "Fatal(25)                  2\n",
       "Fatal(132)                 1\n",
       "Fatal(43)                  1\n",
       "Fatal(19)                  1\n",
       "Fatal(27)                  1\n",
       "Fatal(65)                  1\n",
       "Fatal(88)                  1\n",
       "Fatal(21)                  1\n",
       "Fatal(15)                  1\n",
       "Fatal(31)                  1\n",
       "Fatal(78)                  1\n",
       "Fatal(92)                  1\n",
       "Fatal(34)                  1\n",
       "Fatal(68)                  1\n",
       "Fatal(73)                  1\n",
       "Fatal(156)                 1\n",
       "Fatal(37)                  1\n",
       "Fatal(228)                 1\n",
       "Fatal(82)                  1\n",
       "Fatal(29)                  1\n",
       "Fatal(135)                 1\n",
       "Fatal(64)                  1\n",
       "Fatal(28)                  1\n",
       "Fatal(153)                 1\n",
       "Fatal(265)                 1\n",
       "Fatal(16)                  1\n",
       "Fatal(111)                 1\n",
       "Fatal(110)                 1\n",
       "Fatal(49)                  1\n",
       "Fatal(70)                  1\n",
       "Fatal(230)                 1\n",
       "Fatal(44)                  1"
      ]
     },
     "execution_count": 102,
     "metadata": {},
     "output_type": "execute_result"
    }
   ],
   "source": [
    "# column 10 # Injury.Severity\n",
    "df['Injury.Severity'].isnull().sum() # 50\n",
    "df['Injury.Severity'].isnull().sum() / df.shape[0] * 100 # 0.06%\n",
    "# drop the null values\n",
    "df = df.dropna(subset=['Injury.Severity'])\n",
    "df['Injury.Severity'].nunique() # 55\n",
    "# df['Injury.Severity'].unique()\n",
    "df['Injury.Severity'].value_counts().to_frame()"
   ]
  },
  {
   "cell_type": "code",
   "execution_count": 103,
   "metadata": {},
   "outputs": [
    {
     "data": {
      "text/plain": [
       "{'Substantial': 61138, 'Destroyed': 16205, 'Minor': 565}"
      ]
     },
     "execution_count": 103,
     "metadata": {},
     "output_type": "execute_result"
    }
   ],
   "source": [
    "# column 11 # Aircraft.damage\n",
    "df['Aircraft.damage'].unique()\n",
    "df['Aircraft.damage'].value_counts().to_frame()\n",
    "df['Aircraft.damage'].isnull().sum() / df.shape[0] * 100 # 1.38%\n",
    "# >> dropping null values in columns\n",
    "df.dropna(subset=['Aircraft.damage'], inplace=True)\n",
    "df = df.loc[df['Aircraft.damage'] != 'Unknown']#['Aircraft.damage'].unique()\n",
    "dict(df['Aircraft.damage'].value_counts())"
   ]
  },
  {
   "cell_type": "code",
   "execution_count": 104,
   "metadata": {},
   "outputs": [
    {
     "name": "stdout",
     "output_type": "stream",
     "text": [
      "14\n"
     ]
    },
    {
     "data": {
      "text/plain": [
       "{'Airplane': 23223,\n",
       " 'Helicopter': 2645,\n",
       " 'Glider': 495,\n",
       " 'Gyrocraft': 172,\n",
       " 'Weight-Shift': 160,\n",
       " 'Balloon': 133,\n",
       " 'Powered Parachute': 87,\n",
       " 'Ultralight': 25,\n",
       " 'WSFT': 9,\n",
       " 'Blimp': 4,\n",
       " 'Unknown': 3,\n",
       " 'Powered-Lift': 2,\n",
       " 'ULTR': 1,\n",
       " 'Rocket': 1}"
      ]
     },
     "execution_count": 104,
     "metadata": {},
     "output_type": "execute_result"
    }
   ],
   "source": [
    "# column 12 # Aircraft.Category\n",
    "df['Aircraft.Category'].isnull().sum() # 50958 values \n",
    "# which is this perc\n",
    "df['Aircraft.Category'].isnull().sum() / df.shape[0] * 100 # 65.3%\n",
    "# dict\n",
    "print(len(dict(df['Aircraft.Category'].value_counts())))\n",
    "dict(df['Aircraft.Category'].value_counts())\n",
    "# >>> dropping the entire col\n",
    "# df = df.drop(columns=['Aircraft.Category'])\n",
    "# df = df.drop(columns=['Publication.Date'])"
   ]
  },
  {
   "cell_type": "code",
   "execution_count": 105,
   "metadata": {},
   "outputs": [],
   "source": [
    "# column 13 # Registration.Number\n",
    "df['Registration.Number'].nunique() # 73624\n",
    "# >>>\n",
    "# dropping column\n",
    "df.drop('Registration.Number', axis=1, inplace=True)"
   ]
  },
  {
   "cell_type": "code",
   "execution_count": 106,
   "metadata": {},
   "outputs": [
    {
     "data": {
      "text/plain": [
       "Cessna           20979\n",
       "Piper            11360\n",
       "CESSNA            4162\n",
       "Beech             3973\n",
       "PIPER             2460\n",
       "                 ...  \n",
       "Daniel La Lee        1\n",
       "Baughman             1\n",
       "Craighead            1\n",
       "JORDAN JOHN          1\n",
       "Golden               1\n",
       "Name: Make, Length: 7878, dtype: int64"
      ]
     },
     "execution_count": 106,
     "metadata": {},
     "output_type": "execute_result"
    }
   ],
   "source": [
    "# column 14 # Make\n",
    "df.Make.nunique() # 8068\n",
    "df.Make.value_counts()\n",
    "# dropping column\n",
    "# df.drop('Make', axis=1, inplace=True)"
   ]
  },
  {
   "cell_type": "code",
   "execution_count": 107,
   "metadata": {},
   "outputs": [],
   "source": [
    "# column 15 # Model\n",
    "df.Model.nunique() # 11353\n",
    "# dropping column\n",
    "df.drop('Model', axis=1, inplace=True)"
   ]
  },
  {
   "cell_type": "code",
   "execution_count": 108,
   "metadata": {},
   "outputs": [],
   "source": [
    "# column 16 # Amateur.Built\n",
    "df['Amateur.Built'].nunique() # 3\n",
    "# finding the value counts\n",
    "dict(df['Amateur.Built'].value_counts()) # {'No': 69666, 'Yes': 8228}\n",
    "# missing values\n",
    "df['Amateur.Built'].isnull().sum() # 14\n",
    "# dropping null values\n",
    "df.dropna(subset=['Amateur.Built'], inplace=True)"
   ]
  },
  {
   "cell_type": "code",
   "execution_count": 109,
   "metadata": {},
   "outputs": [
    {
     "data": {
      "text/plain": [
       "array([1, 2, 4, 3, 8, 6])"
      ]
     },
     "execution_count": 109,
     "metadata": {},
     "output_type": "execute_result"
    }
   ],
   "source": [
    "# column 13 # Number.of.Engines\n",
    "df['Number.of.Engines'].unique().tolist() # [1.0, nan, 2.0, 0.0, 4.0, 3.0, 8.0, 6.0]\n",
    "df['Number.of.Engines'].nunique() # 7\n",
    "# perc of null values\n",
    "df['Number.of.Engines'].isna().sum() / df.shape[0] * 100 # 5.04%\n",
    "# drop null values \n",
    "df = df.dropna(subset=['Number.of.Engines'])\n",
    "# value counts\n",
    "dict(df['Number.of.Engines'].value_counts()) # {1.0: 67017, 2.0: 8151, 0.0: 961, 4.0: 146, 3.0: 120, 8.0: 2, 6.0: 1}\n",
    "# Also, drop planes with 0 engines \n",
    "# >>makes no sense for a plane with no engine\n",
    "df = df.loc[(df['Number.of.Engines'] != 0.0)]\n",
    "# Convert the dtype from `float64` to `int32`\n",
    "df['Number.of.Engines'] = df['Number.of.Engines'].astype(int)\n",
    "# checking the type\n",
    "df['Number.of.Engines'].dtype # dtype('int32')\n",
    "# print the new values types\n",
    "df['Number.of.Engines'].unique() # array([1, 2, 4, 3, 8, 6])"
   ]
  },
  {
   "cell_type": "code",
   "execution_count": 110,
   "metadata": {},
   "outputs": [],
   "source": [
    "# column 14 # Engine.Type\n",
    "df['Engine.Type'].unique().tolist()\n",
    "# >>>\n",
    "# ['Reciprocating', 'Turbo Fan', 'Turbo Shaft', 'Turbo Prop', 'Turbo Jet', 'Unknown', nan, 'Electric', 'Hybrid Rocket', 'None', 'LR', 'UNK']\n",
    "df['Engine.Type'].nunique() # 11\n",
    "dict(df['Engine.Type'].value_counts())\n",
    "# dropping column\n",
    "df.drop('Engine.Type', axis=1, inplace=True)"
   ]
  },
  {
   "cell_type": "code",
   "execution_count": 111,
   "metadata": {},
   "outputs": [],
   "source": [
    "# column 15 # FAR.Description\n",
    "# `\n",
    "# FAR Desc -- Federal Aviation Regulations (FARs) set by the FAA, essentially \n",
    "# outlining the aircraft's design and capabilities according to the regulatory \n",
    "# standards for safe flight operations in the United States. \n",
    "# `\n",
    "df['FAR.Description'].nunique() # 27\n",
    "df['FAR.Description'].value_counts()\n",
    "df['FAR.Description'].unique()\n",
    "# no of missing values\n",
    "df['FAR.Description'].isnull().sum() # 49663\n",
    "df['FAR.Description'].isnull().sum() / df.shape[0] * 100 # 65.8%\n",
    "# dropping the column\n",
    "df.drop('FAR.Description', axis=1, inplace=True)"
   ]
  },
  {
   "cell_type": "code",
   "execution_count": 112,
   "metadata": {},
   "outputs": [],
   "source": [
    "# column 16 # Schedule\n",
    "df.Schedule.nunique() # 3\n",
    "df.Schedule.unique() # array([nan, 'SCHD', 'NSCH', 'UNK'], dtype=object)\n",
    "dict(df.Schedule.value_counts()) # {'UNK': 3721, 'NSCH': 3204, 'SCHD': 945}\n",
    "\n",
    "df.Schedule.isnull().sum() # 68786\n",
    "df.Schedule.isnull().sum() / df.shape[0] * 100 # 89.38%\n",
    "# >>>\n",
    "# dropping the columns\n",
    "df.drop('Schedule', axis=1, inplace=True)"
   ]
  },
  {
   "cell_type": "code",
   "execution_count": 113,
   "metadata": {},
   "outputs": [],
   "source": [
    "# column 17 # Purpose.of.flight\n",
    "df['Purpose.of.flight'].value_counts()\n",
    "# dropping column\n",
    "df.drop('Purpose.of.flight', axis=1, inplace=True)"
   ]
  },
  {
   "cell_type": "code",
   "execution_count": 114,
   "metadata": {},
   "outputs": [],
   "source": [
    "# column 18 # Air.carrier\n",
    "df['Air.carrier'].isnull().sum() # 63242\n",
    "# perc \n",
    "df['Air.carrier'].isnull().sum() / df.shape[0] * 100 # 83.8%\n",
    "# dropping col\n",
    "df.drop('Air.carrier', axis=1, inplace=True)"
   ]
  },
  {
   "cell_type": "code",
   "execution_count": 115,
   "metadata": {},
   "outputs": [
    {
     "data": {
      "text/plain": [
       "dtype('int32')"
      ]
     },
     "execution_count": 115,
     "metadata": {},
     "output_type": "execute_result"
    }
   ],
   "source": [
    "# column 19 # Total.Fatal.Injuries\n",
    "df['Total.Fatal.Injuries'].isnull().sum() # 9702\n",
    "# perc \n",
    "df['Total.Fatal.Injuries'].isnull().sum() / df.shape[0] * 100 # 12.8%\n",
    "# values\n",
    "df['Total.Fatal.Injuries'].nunique() # 49\n",
    "# specific\n",
    "df['Total.Fatal.Injuries'].unique()\n",
    "# drop null values\n",
    "df.dropna(subset=['Total.Fatal.Injuries'], inplace=True)\n",
    "# value count\n",
    "dict(df['Total.Fatal.Injuries'].value_counts()) # {0.0: 51558, 1.0: 7402, 2.0: 4267, ..., 265.0: 1}\n",
    "# reflect\n",
    "df['Total.Fatal.Injuries'].unique()\n",
    "# dtype\n",
    "df['Total.Fatal.Injuries'].dtype\n",
    "# converting from `float64` to `int32`\n",
    "df['Total.Fatal.Injuries'] = df['Total.Fatal.Injuries'].astype(int)\n",
    "# confirmation\n",
    "df['Total.Fatal.Injuries'].dtype"
   ]
  },
  {
   "cell_type": "code",
   "execution_count": 116,
   "metadata": {},
   "outputs": [
    {
     "data": {
      "text/plain": [
       "dtype('int32')"
      ]
     },
     "execution_count": 116,
     "metadata": {},
     "output_type": "execute_result"
    }
   ],
   "source": [
    "# column 20 # Total.Serious.Injuries\n",
    "df['Total.Serious.Injuries'].isnull().sum() # 2045\n",
    "# perc \n",
    "df['Total.Serious.Injuries'].isnull().sum() / df.shape[0] * 100 # 3.11%\n",
    "# drop null values\n",
    "df.dropna(subset=['Total.Serious.Injuries'], inplace=True)\n",
    "# values\n",
    "df['Total.Serious.Injuries'].nunique() # 28\n",
    "# specific\n",
    "df['Total.Serious.Injuries'].unique()\n",
    "# value count\n",
    "dict(df['Total.Serious.Injuries'].value_counts()) # {0.0: 51558, 1.0: 7402, 2.0: 4267, ..., 265.0: 1}\n",
    "# reflect\n",
    "df['Total.Serious.Injuries'].unique()\n",
    "# # dtype\n",
    "df['Total.Serious.Injuries'].dtype\n",
    "# # converting from `float64` to `int32`\n",
    "df['Total.Serious.Injuries'] = df['Total.Serious.Injuries'].astype(int)\n",
    "# # confirmation\n",
    "df['Total.Serious.Injuries'].dtype"
   ]
  },
  {
   "cell_type": "code",
   "execution_count": 117,
   "metadata": {},
   "outputs": [
    {
     "data": {
      "text/plain": [
       "dtype('int32')"
      ]
     },
     "execution_count": 117,
     "metadata": {},
     "output_type": "execute_result"
    }
   ],
   "source": [
    "# column 21 # Total.Minor.Injuries\n",
    "df['Total.Minor.Injuries'].isnull().sum() # 276\n",
    "# # perc \n",
    "df['Total.Minor.Injuries'].isnull().sum() / df.shape[0] * 100 # 0.43%\n",
    "# # drop null values\n",
    "df.dropna(subset=['Total.Minor.Injuries'], inplace=True)\n",
    "# values\n",
    "df['Total.Minor.Injuries'].nunique() # 40\n",
    "# specific\n",
    "df['Total.Minor.Injuries'].unique()\n",
    "# value count\n",
    "dict(df['Total.Minor.Injuries'].value_counts())\n",
    "# reflect\n",
    "df['Total.Minor.Injuries'].unique()\n",
    "# dtype\n",
    "df['Total.Minor.Injuries'].dtype\n",
    "# # # converting from `float64` to `int32`\n",
    "df['Total.Minor.Injuries'] = df['Total.Minor.Injuries'].astype(int)\n",
    "# # # confirmation\n",
    "df['Total.Minor.Injuries'].dtype"
   ]
  },
  {
   "cell_type": "code",
   "execution_count": 118,
   "metadata": {},
   "outputs": [
    {
     "data": {
      "text/plain": [
       "dtype('int32')"
      ]
     },
     "execution_count": 118,
     "metadata": {},
     "output_type": "execute_result"
    }
   ],
   "source": [
    "# column 22 # Total.Uninjured\n",
    "df['Total.Uninjured'].isnull().sum() # 43\n",
    "# perc \n",
    "df['Total.Uninjured'].isnull().sum() / df.shape[0] * 100 # 0.06%\n",
    "# drop null values\n",
    "df.dropna(subset=['Total.Uninjured'], inplace=True)\n",
    "# dtype\n",
    "df['Total.Uninjured'].dtype\n",
    "# # # converting from `float64` to `int32`\n",
    "df['Total.Uninjured'] = df['Total.Uninjured'].astype(int)\n",
    "# # # confirmation\n",
    "df['Total.Uninjured'].dtype"
   ]
  },
  {
   "cell_type": "code",
   "execution_count": 119,
   "metadata": {},
   "outputs": [],
   "source": [
    "# column 23 # Weather.Condition\n",
    "# no of unique values\n",
    "df['Weather.Condition'].nunique() # 4\n",
    "# the value count\n",
    "dict(df['Weather.Condition'].value_counts()) # {'VMC': 58024, 'IMC': 4445, 'UNK': 478, 'Unk': 64}\n",
    "# null values\n",
    "df['Weather.Condition'].isnull().sum() # 360\n",
    "# perc\n",
    "df['Weather.Condition'].isnull().sum() / df.shape[0] * 100 # 0.56%\n",
    "# drop null values\n",
    "df.dropna(subset=['Weather.Condition'], inplace=True)"
   ]
  },
  {
   "cell_type": "code",
   "execution_count": 120,
   "metadata": {},
   "outputs": [
    {
     "name": "stdout",
     "output_type": "stream",
     "text": [
      "The composition of `unknown` and `other` is 1.90%\n"
     ]
    },
    {
     "data": {
      "text/plain": [
       "{'Unknown': 19146,\n",
       " 'Landing': 10938,\n",
       " 'Takeoff': 9359,\n",
       " 'Cruise': 7510,\n",
       " 'Maneuvering': 6182,\n",
       " 'Approach': 4562,\n",
       " 'Climb': 1387,\n",
       " 'Descent': 1241,\n",
       " 'Taxi': 1212,\n",
       " 'Go-around': 1038,\n",
       " 'Standing': 436}"
      ]
     },
     "execution_count": 120,
     "metadata": {},
     "output_type": "execute_result"
    }
   ],
   "source": [
    "# column 24 # Broad.phase.of.flight\n",
    "df['Broad.phase.of.flight'].isnull().sum() # 18668\n",
    "# unique values\n",
    "df['Broad.phase.of.flight'].unique()\n",
    "# value count\n",
    "df['Broad.phase.of.flight'].value_counts()\n",
    "\n",
    "print(f\"The composition of `unknown` and `other` is {(399 + 799) / df.shape[0] * 100:.2f}%\") # 1.90%\n",
    "# fill null values with `Unknown`\n",
    "df['Broad.phase.of.flight'] = df['Broad.phase.of.flight'].fillna('Unknown')\n",
    "# replace 'Other' with 'Unknown'\n",
    "df['Broad.phase.of.flight'] = df['Broad.phase.of.flight'].replace('Other', 'Unknown')\n",
    "# # \n",
    "dict(df['Broad.phase.of.flight'].value_counts())\n",
    "# df.head(4)"
   ]
  },
  {
   "cell_type": "code",
   "execution_count": 121,
   "metadata": {},
   "outputs": [],
   "source": [
    "# column 25 # Report.Status\n",
    "df['Report.Status'].nunique() # 15551\n",
    "df.drop(columns=['Report.Status'], inplace=True)"
   ]
  },
  {
   "cell_type": "code",
   "execution_count": 122,
   "metadata": {},
   "outputs": [],
   "source": [
    "# column 26 # Publication.Date\n",
    "df.drop(columns=['Publication.Date'], inplace=True)"
   ]
  },
  {
   "cell_type": "code",
   "execution_count": 123,
   "metadata": {},
   "outputs": [
    {
     "name": "stdout",
     "output_type": "stream",
     "text": [
      "Now, there are 17 columns.\n"
     ]
    },
    {
     "data": {
      "text/plain": [
       "Index(['Event.Date', 'Location', 'Country', 'Latitude', 'Longitude',\n",
       "       'Injury.Severity', 'Aircraft.damage', 'Aircraft.Category', 'Make',\n",
       "       'Amateur.Built', 'Number.of.Engines', 'Total.Fatal.Injuries',\n",
       "       'Total.Serious.Injuries', 'Total.Minor.Injuries', 'Total.Uninjured',\n",
       "       'Weather.Condition', 'Broad.phase.of.flight'],\n",
       "      dtype='object')"
      ]
     },
     "execution_count": 123,
     "metadata": {},
     "output_type": "execute_result"
    }
   ],
   "source": [
    "print(f\"Now, there are {len(df.columns)} columns.\")\n",
    "# current columns are:-\n",
    "df.columns"
   ]
  },
  {
   "cell_type": "code",
   "execution_count": 124,
   "metadata": {},
   "outputs": [
    {
     "data": {
      "text/plain": [
       "['Investigation.Type',\n",
       " 'Event.Date',\n",
       " 'Location',\n",
       " 'Country',\n",
       " 'Latitude',\n",
       " 'Longitude',\n",
       " 'Injury.Severity',\n",
       " 'Aircraft.damage',\n",
       " 'Amateur.Built',\n",
       " 'Number.of.Engines',\n",
       " 'Total.Fatal.Injuries',\n",
       " 'Total.Serious.Injuries',\n",
       " 'Total.Minor.Injuries',\n",
       " 'Total.Uninjured',\n",
       " 'Weather.Condition',\n",
       " 'Broad.phase.of.flight']"
      ]
     },
     "execution_count": 124,
     "metadata": {},
     "output_type": "execute_result"
    }
   ],
   "source": [
    "alist = ['Investigation.Type', 'Event.Date', 'Location', 'Country',\n",
    "       'Latitude', 'Longitude', 'Injury.Severity', 'Aircraft.damage',\n",
    "       'Amateur.Built', 'Number.of.Engines', 'Total.Fatal.Injuries',\n",
    "       'Total.Serious.Injuries', 'Total.Minor.Injuries', 'Total.Uninjured',\n",
    "       'Weather.Condition', 'Broad.phase.of.flight']\n",
    "alist"
   ]
  },
  {
   "cell_type": "code",
   "execution_count": 125,
   "metadata": {},
   "outputs": [
    {
     "data": {
      "text/html": [
       "<div>\n",
       "<style scoped>\n",
       "    .dataframe tbody tr th:only-of-type {\n",
       "        vertical-align: middle;\n",
       "    }\n",
       "\n",
       "    .dataframe tbody tr th {\n",
       "        vertical-align: top;\n",
       "    }\n",
       "\n",
       "    .dataframe thead th {\n",
       "        text-align: right;\n",
       "    }\n",
       "</style>\n",
       "<table border=\"1\" class=\"dataframe\">\n",
       "  <thead>\n",
       "    <tr style=\"text-align: right;\">\n",
       "      <th></th>\n",
       "      <th>Event.Date</th>\n",
       "      <th>Location</th>\n",
       "      <th>Country</th>\n",
       "      <th>Latitude</th>\n",
       "      <th>Longitude</th>\n",
       "      <th>Injury.Severity</th>\n",
       "      <th>Aircraft.damage</th>\n",
       "      <th>Aircraft.Category</th>\n",
       "      <th>Make</th>\n",
       "      <th>Amateur.Built</th>\n",
       "      <th>Number.of.Engines</th>\n",
       "      <th>Total.Fatal.Injuries</th>\n",
       "      <th>Total.Serious.Injuries</th>\n",
       "      <th>Total.Minor.Injuries</th>\n",
       "      <th>Total.Uninjured</th>\n",
       "      <th>Weather.Condition</th>\n",
       "      <th>Broad.phase.of.flight</th>\n",
       "    </tr>\n",
       "  </thead>\n",
       "  <tbody>\n",
       "    <tr>\n",
       "      <th>0</th>\n",
       "      <td>1948-10-24</td>\n",
       "      <td>MOOSE CREEK, ID</td>\n",
       "      <td>United States</td>\n",
       "      <td>NaN</td>\n",
       "      <td>NaN</td>\n",
       "      <td>Fatal(2)</td>\n",
       "      <td>Destroyed</td>\n",
       "      <td>NaN</td>\n",
       "      <td>Stinson</td>\n",
       "      <td>No</td>\n",
       "      <td>1</td>\n",
       "      <td>2</td>\n",
       "      <td>0</td>\n",
       "      <td>0</td>\n",
       "      <td>0</td>\n",
       "      <td>UNK</td>\n",
       "      <td>Cruise</td>\n",
       "    </tr>\n",
       "    <tr>\n",
       "      <th>1</th>\n",
       "      <td>1962-07-19</td>\n",
       "      <td>BRIDGEPORT, CA</td>\n",
       "      <td>United States</td>\n",
       "      <td>NaN</td>\n",
       "      <td>NaN</td>\n",
       "      <td>Fatal(4)</td>\n",
       "      <td>Destroyed</td>\n",
       "      <td>NaN</td>\n",
       "      <td>Piper</td>\n",
       "      <td>No</td>\n",
       "      <td>1</td>\n",
       "      <td>4</td>\n",
       "      <td>0</td>\n",
       "      <td>0</td>\n",
       "      <td>0</td>\n",
       "      <td>UNK</td>\n",
       "      <td>Unknown</td>\n",
       "    </tr>\n",
       "    <tr>\n",
       "      <th>3</th>\n",
       "      <td>1977-06-19</td>\n",
       "      <td>EUREKA, CA</td>\n",
       "      <td>United States</td>\n",
       "      <td>NaN</td>\n",
       "      <td>NaN</td>\n",
       "      <td>Fatal(2)</td>\n",
       "      <td>Destroyed</td>\n",
       "      <td>NaN</td>\n",
       "      <td>Rockwell</td>\n",
       "      <td>No</td>\n",
       "      <td>1</td>\n",
       "      <td>2</td>\n",
       "      <td>0</td>\n",
       "      <td>0</td>\n",
       "      <td>0</td>\n",
       "      <td>IMC</td>\n",
       "      <td>Cruise</td>\n",
       "    </tr>\n",
       "  </tbody>\n",
       "</table>\n",
       "</div>"
      ],
      "text/plain": [
       "  Event.Date         Location        Country Latitude Longitude  \\\n",
       "0 1948-10-24  MOOSE CREEK, ID  United States      NaN       NaN   \n",
       "1 1962-07-19   BRIDGEPORT, CA  United States      NaN       NaN   \n",
       "3 1977-06-19       EUREKA, CA  United States      NaN       NaN   \n",
       "\n",
       "  Injury.Severity Aircraft.damage Aircraft.Category      Make Amateur.Built  \\\n",
       "0        Fatal(2)       Destroyed               NaN   Stinson            No   \n",
       "1        Fatal(4)       Destroyed               NaN     Piper            No   \n",
       "3        Fatal(2)       Destroyed               NaN  Rockwell            No   \n",
       "\n",
       "   Number.of.Engines  Total.Fatal.Injuries  Total.Serious.Injuries  \\\n",
       "0                  1                     2                       0   \n",
       "1                  1                     4                       0   \n",
       "3                  1                     2                       0   \n",
       "\n",
       "   Total.Minor.Injuries  Total.Uninjured Weather.Condition  \\\n",
       "0                     0                0               UNK   \n",
       "1                     0                0               UNK   \n",
       "3                     0                0               IMC   \n",
       "\n",
       "  Broad.phase.of.flight  \n",
       "0                Cruise  \n",
       "1               Unknown  \n",
       "3                Cruise  "
      ]
     },
     "execution_count": 125,
     "metadata": {},
     "output_type": "execute_result"
    }
   ],
   "source": [
    "df.head(3)"
   ]
  },
  {
   "cell_type": "code",
   "execution_count": 126,
   "metadata": {},
   "outputs": [
    {
     "data": {
      "text/plain": [
       "20300"
      ]
     },
     "execution_count": 126,
     "metadata": {},
     "output_type": "execute_result"
    }
   ],
   "source": [
    "df.Location.nunique()"
   ]
  },
  {
   "cell_type": "code",
   "execution_count": 127,
   "metadata": {},
   "outputs": [],
   "source": [
    "df['Location'] = df['Location'].map(lambda x: x[-2:] if isinstance(x, str) else x)#.nunique()"
   ]
  },
  {
   "cell_type": "code",
   "execution_count": 128,
   "metadata": {},
   "outputs": [
    {
     "data": {
      "text/plain": [
       "0        ID\n",
       "1        CA\n",
       "3        CA\n",
       "6        MN\n",
       "7        WA\n",
       "         ..\n",
       "88859    AZ\n",
       "88865    TN\n",
       "88873    PR\n",
       "88877    FL\n",
       "88886    AZ\n",
       "Name: Location, Length: 63011, dtype: object"
      ]
     },
     "execution_count": 128,
     "metadata": {},
     "output_type": "execute_result"
    }
   ],
   "source": [
    "us_states = {\n",
    "    \"Alabama\": \"AL\", \"Alaska\": \"AK\", \"Arizona\": \"AZ\", \"Arkansas\": \"AR\",\n",
    "    \"California\": \"CA\", \"Colorado\": \"CO\", \"Connecticut\": \"CT\", \"Delaware\": \"DE\",\n",
    "    \"Florida\": \"FL\", \"Georgia\": \"GA\", \"Hawaii\": \"HI\", \"Idaho\": \"ID\",\n",
    "    \"Illinois\": \"IL\", \"Indiana\": \"IN\", \"Iowa\": \"IA\", \"Kansas\": \"KS\",\n",
    "    \"Kentucky\": \"KY\", \"Louisiana\": \"LA\", \"Maine\": \"ME\", \"Maryland\": \"MD\",\n",
    "    \"Massachusetts\": \"MA\", \"Michigan\": \"MI\", \"Minnesota\": \"MN\", \"Mississippi\": \"MS\",\n",
    "    \"Missouri\": \"MO\", \"Montana\": \"MT\", \"Nebraska\": \"NE\", \"Nevada\": \"NV\",\n",
    "    \"New Hampshire\": \"NH\", \"New Jersey\": \"NJ\", \"New Mexico\": \"NM\", \"New York\": \"NY\",\n",
    "    \"North Carolina\": \"NC\", \"North Dakota\": \"ND\", \"Ohio\": \"OH\", \"Oklahoma\": \"OK\",\n",
    "    \"Oregon\": \"OR\", \"Pennsylvania\": \"PA\", \"Rhode Island\": \"RI\", \"South Carolina\": \"SC\",\n",
    "    \"South Dakota\": \"SD\", \"Tennessee\": \"TN\", \"Texas\": \"TX\", \"Utah\": \"UT\",\n",
    "    \"Vermont\": \"VT\", \"Virginia\": \"VA\", \"Washington\": \"WA\", \"West Virginia\": \"WV\",\n",
    "    \"Wisconsin\": \"WI\", \"Wyoming\": \"WY\"\n",
    "}\n",
    "\n",
    "df.Location#.map(us_states)"
   ]
  },
  {
   "cell_type": "code",
   "execution_count": 129,
   "metadata": {},
   "outputs": [
    {
     "name": "stdout",
     "output_type": "stream",
     "text": [
      "# column 1 # Event.Date\n",
      "# column 2 # Location\n",
      "# column 3 # Country\n",
      "# column 4 # Latitude\n",
      "# column 5 # Longitude\n",
      "# column 6 # Injury.Severity\n",
      "# column 7 # Aircraft.damage\n",
      "# column 8 # Aircraft.Category\n",
      "# column 9 # Make\n",
      "# column 10 # Amateur.Built\n",
      "# column 11 # Number.of.Engines\n",
      "# column 12 # Total.Fatal.Injuries\n",
      "# column 13 # Total.Serious.Injuries\n",
      "# column 14 # Total.Minor.Injuries\n",
      "# column 15 # Total.Uninjured\n",
      "# column 16 # Weather.Condition\n",
      "# column 17 # Broad.phase.of.flight\n"
     ]
    }
   ],
   "source": [
    "col_list = list(df.columns)\n",
    "for i in range(len(list(df.columns))):\n",
    "    print(f\"# column {i + 1} # {col_list[i]}\")"
   ]
  },
  {
   "cell_type": "code",
   "execution_count": null,
   "metadata": {},
   "outputs": [],
   "source": []
  }
 ],
 "metadata": {
  "kernelspec": {
   "display_name": "learn-env",
   "language": "python",
   "name": "python3"
  },
  "language_info": {
   "codemirror_mode": {
    "name": "ipython",
    "version": 3
   },
   "file_extension": ".py",
   "mimetype": "text/x-python",
   "name": "python",
   "nbconvert_exporter": "python",
   "pygments_lexer": "ipython3",
   "version": "3.8.5"
  }
 },
 "nbformat": 4,
 "nbformat_minor": 2
}
