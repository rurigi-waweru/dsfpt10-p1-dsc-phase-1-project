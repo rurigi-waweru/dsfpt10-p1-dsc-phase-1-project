{
 "cells": [
  {
   "cell_type": "markdown",
   "metadata": {},
   "source": [
    "## Phase-1-Project\n",
    "### Name: Brian Waweru\n",
    "### Topic: Aviation-Accident-Analysis"
   ]
  },
  {
   "cell_type": "markdown",
   "metadata": {},
   "source": [
    "# Overview "
   ]
  },
  {
   "cell_type": "markdown",
   "metadata": {},
   "source": [
    "As the company expands into the aviation industry, it seeks to purchase and operate aircraft for both commercial and private ventures. However, with no prior experience in the sector, the company must carefully assess potential risks associated with different aircraft types. Understanding historical accident data is crucial in determining which aircraft models offer the lowest risk, ensuring safety, regulatory compliance, and cost-effectiveness"
   ]
  },
  {
   "cell_type": "markdown",
   "metadata": {},
   "source": [
    "## Problem Statement"
   ]
  },
  {
   "cell_type": "markdown",
   "metadata": {},
   "source": [
    "Aircraft accidents can result from multiple factors, including mechanical failures, human error, and adverse weather conditions. Analyzing historical data will help identify patterns in past incidents, providing valuable insights for risk assessment. The company must evaluate different aircraft models, manufacturers, and operational conditions to minimize the likelihood of accidents and improve decision-making regarding fleet acquisition."
   ]
  },
  {
   "cell_type": "markdown",
   "metadata": {},
   "source": [
    "## Data Understanding: Columns and Their Relevance\n",
    "##### Date, Location, Country:\n",
    "\n",
    "- Helps identify trends over time and geographical hotspots for accidents.\n",
    "Useful for assessing how accident frequency varies by region.\n",
    "\n",
    "\n",
    "##### DamageLevel:\n",
    "\n",
    "- Determines the severity of accidents, ranging from minor damage to complete destruction. Crucial for evaluating the resilience of different aircraft models.\n",
    "\n",
    "##### TypeOfAircraft & Manufacturer:\n",
    "\n",
    "- Essential for identifying which aircraft models and manufacturers have the highest or lowest accident rates. Helps in selecting aircraft with strong safety records. \n",
    "\n",
    "##### Built & Engines:\n",
    "\n",
    "- The age of an aircraft and its engine type can impact its reliability and accident risk.\n",
    "Helps determine whether older models or specific engine configurations are riskier.\n",
    "\n",
    "##### Passengers, Fatal-Injuries, Serious-Injuries, Minor-Injuries, Uninjured:\n",
    "\n",
    "- Provides insight into accident severity and survival rates. Essential for assessing passenger safety across different aircraft.\n",
    "\n",
    "##### Weather-Condition:\n",
    "\n",
    "- Helps evaluate how environmental factors contribute to accidents. Useful for identifying whether certain aircraft perform better in adverse conditions.\n",
    "\n",
    "##### Flight.Phase:\n",
    "\n",
    "- Identifies at what stage of flight (takeoff, cruise, landing, etc.) accidents occur most frequently.\n",
    "Assists in understanding operational risks.\n",
    "\n",
    "##### Latitude, Longitude:\n",
    "\n",
    "- Geospatial data that helps map accident locations for further analysis.Useful for identifying high-risk areas and air traffic patterns.\n",
    "\n",
    "#### Anticipated Expectations\n",
    "\n",
    "- Identifying Low-Risk Aircraft Models: The analysis should highlight which aircraft models have historically lower accident rates.\n",
    "\n",
    "- Understanding Common Risk Factors: Determining key contributors to accidents, such as specific flight phases, weather conditions, or maintenance issues.\n",
    "\n",
    "- Data-Driven Decision-Making: Ensuring that aircraft purchases align with safety and operational efficiency by using historical data.\n",
    "\n",
    "- Regulatory Compliance and Safety Standards: Ensuring the fleet meets industry safety regulations to avoid legal and financial liabilities.\n",
    "\n",
    "- By leveraging this dataset, the company can make informed decisions about its aircraft selection, reducing operational risks while prioritizing passenger safety and business sustainability."
   ]
  },
  {
   "cell_type": "markdown",
   "metadata": {},
   "source": [
    "# Technical Analysis"
   ]
  },
  {
   "cell_type": "code",
   "execution_count": 1,
   "metadata": {},
   "outputs": [],
   "source": [
    "# modules\n",
    "# Platform\n",
    "import os\n",
    "import re\n",
    "\n",
    "# analysis\n",
    "import numpy as np\n",
    "import pandas as pd\n",
    "\n",
    "# visualizations\n",
    "import seaborn as sns\n",
    "import matplotlib.pyplot as plt"
   ]
  },
  {
   "cell_type": "code",
   "execution_count": 2,
   "metadata": {},
   "outputs": [
    {
     "name": "stderr",
     "output_type": "stream",
     "text": [
      "c:\\Users\\rurig\\anaconda3\\envs\\learn-env\\lib\\site-packages\\IPython\\core\\interactiveshell.py:3145: DtypeWarning: Columns (6,7,28) have mixed types.Specify dtype option on import or set low_memory=False.\n",
      "  has_raised = await self.run_ast_nodes(code_ast.body, cell_name,\n"
     ]
    }
   ],
   "source": [
    "# file path\n",
    "file_path = r'data/AviationData.csv'\n",
    "# dataframe\n",
    "df = pd.read_csv(file_path, encoding='ISO-8859-1');"
   ]
  },
  {
   "cell_type": "markdown",
   "metadata": {},
   "source": [
    "## 1. Shape"
   ]
  },
  {
   "cell_type": "code",
   "execution_count": 3,
   "metadata": {},
   "outputs": [
    {
     "data": {
      "text/plain": [
       "(88889, 31)"
      ]
     },
     "execution_count": 3,
     "metadata": {},
     "output_type": "execute_result"
    }
   ],
   "source": [
    "df.shape # (88889, 31)"
   ]
  },
  {
   "cell_type": "markdown",
   "metadata": {},
   "source": [
    "## 2. Dataframe Basic Information"
   ]
  },
  {
   "cell_type": "code",
   "execution_count": 4,
   "metadata": {},
   "outputs": [
    {
     "data": {
      "text/html": [
       "<div>\n",
       "<style scoped>\n",
       "    .dataframe tbody tr th:only-of-type {\n",
       "        vertical-align: middle;\n",
       "    }\n",
       "\n",
       "    .dataframe tbody tr th {\n",
       "        vertical-align: top;\n",
       "    }\n",
       "\n",
       "    .dataframe thead th {\n",
       "        text-align: right;\n",
       "    }\n",
       "</style>\n",
       "<table border=\"1\" class=\"dataframe\">\n",
       "  <thead>\n",
       "    <tr style=\"text-align: right;\">\n",
       "      <th></th>\n",
       "      <th>Event.Id</th>\n",
       "      <th>Investigation.Type</th>\n",
       "      <th>Accident.Number</th>\n",
       "      <th>Event.Date</th>\n",
       "      <th>Location</th>\n",
       "      <th>Country</th>\n",
       "      <th>Latitude</th>\n",
       "      <th>Longitude</th>\n",
       "      <th>Airport.Code</th>\n",
       "      <th>Airport.Name</th>\n",
       "      <th>...</th>\n",
       "      <th>Purpose.of.flight</th>\n",
       "      <th>Air.carrier</th>\n",
       "      <th>Total.Fatal.Injuries</th>\n",
       "      <th>Total.Serious.Injuries</th>\n",
       "      <th>Total.Minor.Injuries</th>\n",
       "      <th>Total.Uninjured</th>\n",
       "      <th>Weather.Condition</th>\n",
       "      <th>Broad.phase.of.flight</th>\n",
       "      <th>Report.Status</th>\n",
       "      <th>Publication.Date</th>\n",
       "    </tr>\n",
       "  </thead>\n",
       "  <tbody>\n",
       "    <tr>\n",
       "      <th>0</th>\n",
       "      <td>20001218X45444</td>\n",
       "      <td>Accident</td>\n",
       "      <td>SEA87LA080</td>\n",
       "      <td>1948-10-24</td>\n",
       "      <td>MOOSE CREEK, ID</td>\n",
       "      <td>United States</td>\n",
       "      <td>NaN</td>\n",
       "      <td>NaN</td>\n",
       "      <td>NaN</td>\n",
       "      <td>NaN</td>\n",
       "      <td>...</td>\n",
       "      <td>Personal</td>\n",
       "      <td>NaN</td>\n",
       "      <td>2.0</td>\n",
       "      <td>0.0</td>\n",
       "      <td>0.0</td>\n",
       "      <td>0.0</td>\n",
       "      <td>UNK</td>\n",
       "      <td>Cruise</td>\n",
       "      <td>Probable Cause</td>\n",
       "      <td>NaN</td>\n",
       "    </tr>\n",
       "    <tr>\n",
       "      <th>1</th>\n",
       "      <td>20001218X45447</td>\n",
       "      <td>Accident</td>\n",
       "      <td>LAX94LA336</td>\n",
       "      <td>1962-07-19</td>\n",
       "      <td>BRIDGEPORT, CA</td>\n",
       "      <td>United States</td>\n",
       "      <td>NaN</td>\n",
       "      <td>NaN</td>\n",
       "      <td>NaN</td>\n",
       "      <td>NaN</td>\n",
       "      <td>...</td>\n",
       "      <td>Personal</td>\n",
       "      <td>NaN</td>\n",
       "      <td>4.0</td>\n",
       "      <td>0.0</td>\n",
       "      <td>0.0</td>\n",
       "      <td>0.0</td>\n",
       "      <td>UNK</td>\n",
       "      <td>Unknown</td>\n",
       "      <td>Probable Cause</td>\n",
       "      <td>19-09-1996</td>\n",
       "    </tr>\n",
       "  </tbody>\n",
       "</table>\n",
       "<p>2 rows × 31 columns</p>\n",
       "</div>"
      ],
      "text/plain": [
       "         Event.Id Investigation.Type Accident.Number  Event.Date  \\\n",
       "0  20001218X45444           Accident      SEA87LA080  1948-10-24   \n",
       "1  20001218X45447           Accident      LAX94LA336  1962-07-19   \n",
       "\n",
       "          Location        Country Latitude Longitude Airport.Code  \\\n",
       "0  MOOSE CREEK, ID  United States      NaN       NaN          NaN   \n",
       "1   BRIDGEPORT, CA  United States      NaN       NaN          NaN   \n",
       "\n",
       "  Airport.Name  ... Purpose.of.flight Air.carrier Total.Fatal.Injuries  \\\n",
       "0          NaN  ...          Personal         NaN                  2.0   \n",
       "1          NaN  ...          Personal         NaN                  4.0   \n",
       "\n",
       "  Total.Serious.Injuries Total.Minor.Injuries Total.Uninjured  \\\n",
       "0                    0.0                  0.0             0.0   \n",
       "1                    0.0                  0.0             0.0   \n",
       "\n",
       "  Weather.Condition  Broad.phase.of.flight   Report.Status Publication.Date  \n",
       "0               UNK                 Cruise  Probable Cause              NaN  \n",
       "1               UNK                Unknown  Probable Cause       19-09-1996  \n",
       "\n",
       "[2 rows x 31 columns]"
      ]
     },
     "execution_count": 4,
     "metadata": {},
     "output_type": "execute_result"
    }
   ],
   "source": [
    "# Check the first few rows\n",
    "df.head(2)"
   ]
  },
  {
   "cell_type": "code",
   "execution_count": 5,
   "metadata": {},
   "outputs": [
    {
     "data": {
      "text/html": [
       "<div>\n",
       "<style scoped>\n",
       "    .dataframe tbody tr th:only-of-type {\n",
       "        vertical-align: middle;\n",
       "    }\n",
       "\n",
       "    .dataframe tbody tr th {\n",
       "        vertical-align: top;\n",
       "    }\n",
       "\n",
       "    .dataframe thead th {\n",
       "        text-align: right;\n",
       "    }\n",
       "</style>\n",
       "<table border=\"1\" class=\"dataframe\">\n",
       "  <thead>\n",
       "    <tr style=\"text-align: right;\">\n",
       "      <th></th>\n",
       "      <th>Event.Id</th>\n",
       "      <th>Investigation.Type</th>\n",
       "      <th>Accident.Number</th>\n",
       "      <th>Event.Date</th>\n",
       "      <th>Location</th>\n",
       "      <th>Country</th>\n",
       "      <th>Latitude</th>\n",
       "      <th>Longitude</th>\n",
       "      <th>Airport.Code</th>\n",
       "      <th>Airport.Name</th>\n",
       "      <th>...</th>\n",
       "      <th>Purpose.of.flight</th>\n",
       "      <th>Air.carrier</th>\n",
       "      <th>Total.Fatal.Injuries</th>\n",
       "      <th>Total.Serious.Injuries</th>\n",
       "      <th>Total.Minor.Injuries</th>\n",
       "      <th>Total.Uninjured</th>\n",
       "      <th>Weather.Condition</th>\n",
       "      <th>Broad.phase.of.flight</th>\n",
       "      <th>Report.Status</th>\n",
       "      <th>Publication.Date</th>\n",
       "    </tr>\n",
       "  </thead>\n",
       "  <tbody>\n",
       "    <tr>\n",
       "      <th>88887</th>\n",
       "      <td>20221227106498</td>\n",
       "      <td>Accident</td>\n",
       "      <td>WPR23LA076</td>\n",
       "      <td>2022-12-26</td>\n",
       "      <td>Morgan, UT</td>\n",
       "      <td>United States</td>\n",
       "      <td>NaN</td>\n",
       "      <td>NaN</td>\n",
       "      <td>NaN</td>\n",
       "      <td>NaN</td>\n",
       "      <td>...</td>\n",
       "      <td>Personal</td>\n",
       "      <td>MC CESSNA 210N LLC</td>\n",
       "      <td>0.0</td>\n",
       "      <td>0.0</td>\n",
       "      <td>0.0</td>\n",
       "      <td>0.0</td>\n",
       "      <td>NaN</td>\n",
       "      <td>NaN</td>\n",
       "      <td>NaN</td>\n",
       "      <td>NaN</td>\n",
       "    </tr>\n",
       "    <tr>\n",
       "      <th>88888</th>\n",
       "      <td>20221230106513</td>\n",
       "      <td>Accident</td>\n",
       "      <td>ERA23LA097</td>\n",
       "      <td>2022-12-29</td>\n",
       "      <td>Athens, GA</td>\n",
       "      <td>United States</td>\n",
       "      <td>NaN</td>\n",
       "      <td>NaN</td>\n",
       "      <td>NaN</td>\n",
       "      <td>NaN</td>\n",
       "      <td>...</td>\n",
       "      <td>Personal</td>\n",
       "      <td>NaN</td>\n",
       "      <td>0.0</td>\n",
       "      <td>1.0</td>\n",
       "      <td>0.0</td>\n",
       "      <td>1.0</td>\n",
       "      <td>NaN</td>\n",
       "      <td>NaN</td>\n",
       "      <td>NaN</td>\n",
       "      <td>30-12-2022</td>\n",
       "    </tr>\n",
       "  </tbody>\n",
       "</table>\n",
       "<p>2 rows × 31 columns</p>\n",
       "</div>"
      ],
      "text/plain": [
       "             Event.Id Investigation.Type Accident.Number  Event.Date  \\\n",
       "88887  20221227106498           Accident      WPR23LA076  2022-12-26   \n",
       "88888  20221230106513           Accident      ERA23LA097  2022-12-29   \n",
       "\n",
       "         Location        Country Latitude Longitude Airport.Code Airport.Name  \\\n",
       "88887  Morgan, UT  United States      NaN       NaN          NaN          NaN   \n",
       "88888  Athens, GA  United States      NaN       NaN          NaN          NaN   \n",
       "\n",
       "       ... Purpose.of.flight         Air.carrier Total.Fatal.Injuries  \\\n",
       "88887  ...          Personal  MC CESSNA 210N LLC                  0.0   \n",
       "88888  ...          Personal                 NaN                  0.0   \n",
       "\n",
       "      Total.Serious.Injuries Total.Minor.Injuries Total.Uninjured  \\\n",
       "88887                    0.0                  0.0             0.0   \n",
       "88888                    1.0                  0.0             1.0   \n",
       "\n",
       "      Weather.Condition  Broad.phase.of.flight Report.Status Publication.Date  \n",
       "88887               NaN                    NaN           NaN              NaN  \n",
       "88888               NaN                    NaN           NaN       30-12-2022  \n",
       "\n",
       "[2 rows x 31 columns]"
      ]
     },
     "execution_count": 5,
     "metadata": {},
     "output_type": "execute_result"
    }
   ],
   "source": [
    "# Check the last few rows\n",
    "df.tail(2)"
   ]
  },
  {
   "cell_type": "code",
   "execution_count": 6,
   "metadata": {},
   "outputs": [
    {
     "data": {
      "text/plain": [
       "Event.Id                   object\n",
       "Investigation.Type         object\n",
       "Accident.Number            object\n",
       "Event.Date                 object\n",
       "Location                   object\n",
       "Country                    object\n",
       "Latitude                   object\n",
       "Longitude                  object\n",
       "Airport.Code               object\n",
       "Airport.Name               object\n",
       "Injury.Severity            object\n",
       "Aircraft.damage            object\n",
       "Aircraft.Category          object\n",
       "Registration.Number        object\n",
       "Make                       object\n",
       "Model                      object\n",
       "Amateur.Built              object\n",
       "Number.of.Engines         float64\n",
       "Engine.Type                object\n",
       "FAR.Description            object\n",
       "Schedule                   object\n",
       "Purpose.of.flight          object\n",
       "Air.carrier                object\n",
       "Total.Fatal.Injuries      float64\n",
       "Total.Serious.Injuries    float64\n",
       "Total.Minor.Injuries      float64\n",
       "Total.Uninjured           float64\n",
       "Weather.Condition          object\n",
       "Broad.phase.of.flight      object\n",
       "Report.Status              object\n",
       "Publication.Date           object\n",
       "dtype: object"
      ]
     },
     "execution_count": 6,
     "metadata": {},
     "output_type": "execute_result"
    }
   ],
   "source": [
    "# Get data types of each column\n",
    "df.dtypes"
   ]
  },
  {
   "cell_type": "code",
   "execution_count": 7,
   "metadata": {},
   "outputs": [
    {
     "data": {
      "text/plain": [
       "31"
      ]
     },
     "execution_count": 7,
     "metadata": {},
     "output_type": "execute_result"
    }
   ],
   "source": [
    "# Get the number of columns\n",
    "len(df.columns)"
   ]
  },
  {
   "cell_type": "code",
   "execution_count": 8,
   "metadata": {},
   "outputs": [
    {
     "data": {
      "text/html": [
       "<div>\n",
       "<style scoped>\n",
       "    .dataframe tbody tr th:only-of-type {\n",
       "        vertical-align: middle;\n",
       "    }\n",
       "\n",
       "    .dataframe tbody tr th {\n",
       "        vertical-align: top;\n",
       "    }\n",
       "\n",
       "    .dataframe thead th {\n",
       "        text-align: right;\n",
       "    }\n",
       "</style>\n",
       "<table border=\"1\" class=\"dataframe\">\n",
       "  <thead>\n",
       "    <tr style=\"text-align: right;\">\n",
       "      <th></th>\n",
       "      <th>0</th>\n",
       "    </tr>\n",
       "  </thead>\n",
       "  <tbody>\n",
       "    <tr>\n",
       "      <th>Event.Id</th>\n",
       "      <td>0</td>\n",
       "    </tr>\n",
       "    <tr>\n",
       "      <th>Investigation.Type</th>\n",
       "      <td>0</td>\n",
       "    </tr>\n",
       "    <tr>\n",
       "      <th>Accident.Number</th>\n",
       "      <td>0</td>\n",
       "    </tr>\n",
       "    <tr>\n",
       "      <th>Event.Date</th>\n",
       "      <td>0</td>\n",
       "    </tr>\n",
       "    <tr>\n",
       "      <th>Location</th>\n",
       "      <td>52</td>\n",
       "    </tr>\n",
       "    <tr>\n",
       "      <th>Country</th>\n",
       "      <td>226</td>\n",
       "    </tr>\n",
       "    <tr>\n",
       "      <th>Latitude</th>\n",
       "      <td>54507</td>\n",
       "    </tr>\n",
       "    <tr>\n",
       "      <th>Longitude</th>\n",
       "      <td>54516</td>\n",
       "    </tr>\n",
       "    <tr>\n",
       "      <th>Airport.Code</th>\n",
       "      <td>38640</td>\n",
       "    </tr>\n",
       "    <tr>\n",
       "      <th>Airport.Name</th>\n",
       "      <td>36099</td>\n",
       "    </tr>\n",
       "    <tr>\n",
       "      <th>Injury.Severity</th>\n",
       "      <td>1000</td>\n",
       "    </tr>\n",
       "    <tr>\n",
       "      <th>Aircraft.damage</th>\n",
       "      <td>3194</td>\n",
       "    </tr>\n",
       "    <tr>\n",
       "      <th>Aircraft.Category</th>\n",
       "      <td>56602</td>\n",
       "    </tr>\n",
       "    <tr>\n",
       "      <th>Registration.Number</th>\n",
       "      <td>1317</td>\n",
       "    </tr>\n",
       "    <tr>\n",
       "      <th>Make</th>\n",
       "      <td>63</td>\n",
       "    </tr>\n",
       "    <tr>\n",
       "      <th>Model</th>\n",
       "      <td>92</td>\n",
       "    </tr>\n",
       "    <tr>\n",
       "      <th>Amateur.Built</th>\n",
       "      <td>102</td>\n",
       "    </tr>\n",
       "    <tr>\n",
       "      <th>Number.of.Engines</th>\n",
       "      <td>6084</td>\n",
       "    </tr>\n",
       "    <tr>\n",
       "      <th>Engine.Type</th>\n",
       "      <td>7077</td>\n",
       "    </tr>\n",
       "    <tr>\n",
       "      <th>FAR.Description</th>\n",
       "      <td>56866</td>\n",
       "    </tr>\n",
       "    <tr>\n",
       "      <th>Schedule</th>\n",
       "      <td>76307</td>\n",
       "    </tr>\n",
       "    <tr>\n",
       "      <th>Purpose.of.flight</th>\n",
       "      <td>6192</td>\n",
       "    </tr>\n",
       "    <tr>\n",
       "      <th>Air.carrier</th>\n",
       "      <td>72241</td>\n",
       "    </tr>\n",
       "    <tr>\n",
       "      <th>Total.Fatal.Injuries</th>\n",
       "      <td>11401</td>\n",
       "    </tr>\n",
       "    <tr>\n",
       "      <th>Total.Serious.Injuries</th>\n",
       "      <td>12510</td>\n",
       "    </tr>\n",
       "    <tr>\n",
       "      <th>Total.Minor.Injuries</th>\n",
       "      <td>11933</td>\n",
       "    </tr>\n",
       "    <tr>\n",
       "      <th>Total.Uninjured</th>\n",
       "      <td>5912</td>\n",
       "    </tr>\n",
       "    <tr>\n",
       "      <th>Weather.Condition</th>\n",
       "      <td>4492</td>\n",
       "    </tr>\n",
       "    <tr>\n",
       "      <th>Broad.phase.of.flight</th>\n",
       "      <td>27165</td>\n",
       "    </tr>\n",
       "    <tr>\n",
       "      <th>Report.Status</th>\n",
       "      <td>6381</td>\n",
       "    </tr>\n",
       "    <tr>\n",
       "      <th>Publication.Date</th>\n",
       "      <td>13771</td>\n",
       "    </tr>\n",
       "  </tbody>\n",
       "</table>\n",
       "</div>"
      ],
      "text/plain": [
       "                            0\n",
       "Event.Id                    0\n",
       "Investigation.Type          0\n",
       "Accident.Number             0\n",
       "Event.Date                  0\n",
       "Location                   52\n",
       "Country                   226\n",
       "Latitude                54507\n",
       "Longitude               54516\n",
       "Airport.Code            38640\n",
       "Airport.Name            36099\n",
       "Injury.Severity          1000\n",
       "Aircraft.damage          3194\n",
       "Aircraft.Category       56602\n",
       "Registration.Number      1317\n",
       "Make                       63\n",
       "Model                      92\n",
       "Amateur.Built             102\n",
       "Number.of.Engines        6084\n",
       "Engine.Type              7077\n",
       "FAR.Description         56866\n",
       "Schedule                76307\n",
       "Purpose.of.flight        6192\n",
       "Air.carrier             72241\n",
       "Total.Fatal.Injuries    11401\n",
       "Total.Serious.Injuries  12510\n",
       "Total.Minor.Injuries    11933\n",
       "Total.Uninjured          5912\n",
       "Weather.Condition        4492\n",
       "Broad.phase.of.flight   27165\n",
       "Report.Status            6381\n",
       "Publication.Date        13771"
      ]
     },
     "execution_count": 8,
     "metadata": {},
     "output_type": "execute_result"
    }
   ],
   "source": [
    "# Check for missing values\n",
    "df.isnull().sum().to_frame()"
   ]
  },
  {
   "cell_type": "markdown",
   "metadata": {},
   "source": [
    "## 3. Summary Statistics"
   ]
  },
  {
   "cell_type": "code",
   "execution_count": 9,
   "metadata": {},
   "outputs": [
    {
     "data": {
      "text/html": [
       "<div>\n",
       "<style scoped>\n",
       "    .dataframe tbody tr th:only-of-type {\n",
       "        vertical-align: middle;\n",
       "    }\n",
       "\n",
       "    .dataframe tbody tr th {\n",
       "        vertical-align: top;\n",
       "    }\n",
       "\n",
       "    .dataframe thead th {\n",
       "        text-align: right;\n",
       "    }\n",
       "</style>\n",
       "<table border=\"1\" class=\"dataframe\">\n",
       "  <thead>\n",
       "    <tr style=\"text-align: right;\">\n",
       "      <th></th>\n",
       "      <th>Number.of.Engines</th>\n",
       "      <th>Total.Fatal.Injuries</th>\n",
       "      <th>Total.Serious.Injuries</th>\n",
       "      <th>Total.Minor.Injuries</th>\n",
       "      <th>Total.Uninjured</th>\n",
       "    </tr>\n",
       "  </thead>\n",
       "  <tbody>\n",
       "    <tr>\n",
       "      <th>count</th>\n",
       "      <td>82805.000000</td>\n",
       "      <td>77488.000000</td>\n",
       "      <td>76379.000000</td>\n",
       "      <td>76956.000000</td>\n",
       "      <td>82977.000000</td>\n",
       "    </tr>\n",
       "    <tr>\n",
       "      <th>mean</th>\n",
       "      <td>1.146585</td>\n",
       "      <td>0.647855</td>\n",
       "      <td>0.279881</td>\n",
       "      <td>0.357061</td>\n",
       "      <td>5.325440</td>\n",
       "    </tr>\n",
       "    <tr>\n",
       "      <th>std</th>\n",
       "      <td>0.446510</td>\n",
       "      <td>5.485960</td>\n",
       "      <td>1.544084</td>\n",
       "      <td>2.235625</td>\n",
       "      <td>27.913634</td>\n",
       "    </tr>\n",
       "    <tr>\n",
       "      <th>min</th>\n",
       "      <td>0.000000</td>\n",
       "      <td>0.000000</td>\n",
       "      <td>0.000000</td>\n",
       "      <td>0.000000</td>\n",
       "      <td>0.000000</td>\n",
       "    </tr>\n",
       "    <tr>\n",
       "      <th>25%</th>\n",
       "      <td>1.000000</td>\n",
       "      <td>0.000000</td>\n",
       "      <td>0.000000</td>\n",
       "      <td>0.000000</td>\n",
       "      <td>0.000000</td>\n",
       "    </tr>\n",
       "    <tr>\n",
       "      <th>50%</th>\n",
       "      <td>1.000000</td>\n",
       "      <td>0.000000</td>\n",
       "      <td>0.000000</td>\n",
       "      <td>0.000000</td>\n",
       "      <td>1.000000</td>\n",
       "    </tr>\n",
       "    <tr>\n",
       "      <th>75%</th>\n",
       "      <td>1.000000</td>\n",
       "      <td>0.000000</td>\n",
       "      <td>0.000000</td>\n",
       "      <td>0.000000</td>\n",
       "      <td>2.000000</td>\n",
       "    </tr>\n",
       "    <tr>\n",
       "      <th>max</th>\n",
       "      <td>8.000000</td>\n",
       "      <td>349.000000</td>\n",
       "      <td>161.000000</td>\n",
       "      <td>380.000000</td>\n",
       "      <td>699.000000</td>\n",
       "    </tr>\n",
       "  </tbody>\n",
       "</table>\n",
       "</div>"
      ],
      "text/plain": [
       "       Number.of.Engines  Total.Fatal.Injuries  Total.Serious.Injuries  \\\n",
       "count       82805.000000          77488.000000            76379.000000   \n",
       "mean            1.146585              0.647855                0.279881   \n",
       "std             0.446510              5.485960                1.544084   \n",
       "min             0.000000              0.000000                0.000000   \n",
       "25%             1.000000              0.000000                0.000000   \n",
       "50%             1.000000              0.000000                0.000000   \n",
       "75%             1.000000              0.000000                0.000000   \n",
       "max             8.000000            349.000000              161.000000   \n",
       "\n",
       "       Total.Minor.Injuries  Total.Uninjured  \n",
       "count          76956.000000     82977.000000  \n",
       "mean               0.357061         5.325440  \n",
       "std                2.235625        27.913634  \n",
       "min                0.000000         0.000000  \n",
       "25%                0.000000         0.000000  \n",
       "50%                0.000000         1.000000  \n",
       "75%                0.000000         2.000000  \n",
       "max              380.000000       699.000000  "
      ]
     },
     "execution_count": 9,
     "metadata": {},
     "output_type": "execute_result"
    }
   ],
   "source": [
    "# General statistics for numerical columns\n",
    "df.describe()"
   ]
  },
  {
   "cell_type": "markdown",
   "metadata": {},
   "source": [
    "## 4.  Structure"
   ]
  },
  {
   "cell_type": "code",
   "execution_count": 10,
   "metadata": {},
   "outputs": [
    {
     "data": {
      "text/plain": [
       "0"
      ]
     },
     "execution_count": 10,
     "metadata": {},
     "output_type": "execute_result"
    }
   ],
   "source": [
    "# Check for duplicate rows\n",
    "df.duplicated().sum() # 0"
   ]
  },
  {
   "cell_type": "code",
   "execution_count": 11,
   "metadata": {},
   "outputs": [
    {
     "data": {
      "text/plain": [
       "['Event.Id',\n",
       " 'Investigation.Type',\n",
       " 'Accident.Number',\n",
       " 'Event.Date',\n",
       " 'Location',\n",
       " 'Country',\n",
       " 'Latitude',\n",
       " 'Longitude',\n",
       " 'Airport.Code',\n",
       " 'Airport.Name',\n",
       " 'Injury.Severity',\n",
       " 'Aircraft.damage',\n",
       " 'Aircraft.Category',\n",
       " 'Registration.Number',\n",
       " 'Make',\n",
       " 'Model',\n",
       " 'Amateur.Built',\n",
       " 'Number.of.Engines',\n",
       " 'Engine.Type',\n",
       " 'FAR.Description',\n",
       " 'Schedule',\n",
       " 'Purpose.of.flight',\n",
       " 'Air.carrier',\n",
       " 'Total.Fatal.Injuries',\n",
       " 'Total.Serious.Injuries',\n",
       " 'Total.Minor.Injuries',\n",
       " 'Total.Uninjured',\n",
       " 'Weather.Condition',\n",
       " 'Broad.phase.of.flight',\n",
       " 'Report.Status',\n",
       " 'Publication.Date']"
      ]
     },
     "execution_count": 11,
     "metadata": {},
     "output_type": "execute_result"
    }
   ],
   "source": [
    "df.columns.tolist()"
   ]
  },
  {
   "cell_type": "markdown",
   "metadata": {},
   "source": [
    "## 5. Missing Values and column analysis"
   ]
  },
  {
   "cell_type": "code",
   "execution_count": 12,
   "metadata": {},
   "outputs": [
    {
     "name": "stdout",
     "output_type": "stream",
     "text": [
      "# column 1 # Event.Id\n",
      "# column 2 # Investigation.Type\n",
      "# column 3 # Accident.Number\n",
      "# column 4 # Event.Date\n",
      "# column 5 # Location\n",
      "# column 6 # Country\n",
      "# column 7 # Latitude\n",
      "# column 8 # Longitude\n",
      "# column 9 # Airport.Code\n",
      "# column 10 # Airport.Name\n",
      "# column 11 # Injury.Severity\n",
      "# column 12 # Aircraft.damage\n",
      "# column 13 # Aircraft.Category\n",
      "# column 14 # Registration.Number\n",
      "# column 15 # Make\n",
      "# column 16 # Model\n",
      "# column 17 # Amateur.Built\n",
      "# column 18 # Number.of.Engines\n",
      "# column 19 # Engine.Type\n",
      "# column 20 # FAR.Description\n",
      "# column 21 # Schedule\n",
      "# column 22 # Purpose.of.flight\n",
      "# column 23 # Air.carrier\n",
      "# column 24 # Total.Fatal.Injuries\n",
      "# column 25 # Total.Serious.Injuries\n",
      "# column 26 # Total.Minor.Injuries\n",
      "# column 27 # Total.Uninjured\n",
      "# column 28 # Weather.Condition\n",
      "# column 29 # Broad.phase.of.flight\n",
      "# column 30 # Report.Status\n",
      "# column 31 # Publication.Date\n"
     ]
    }
   ],
   "source": [
    "col_list = list(df.columns)\n",
    "\n",
    "for i in range(len(list(df.columns))):\n",
    "    print(f\"# column {i + 1} # {col_list[i]}\")"
   ]
  },
  {
   "cell_type": "code",
   "execution_count": 13,
   "metadata": {},
   "outputs": [
    {
     "data": {
      "text/html": [
       "<div>\n",
       "<style scoped>\n",
       "    .dataframe tbody tr th:only-of-type {\n",
       "        vertical-align: middle;\n",
       "    }\n",
       "\n",
       "    .dataframe tbody tr th {\n",
       "        vertical-align: top;\n",
       "    }\n",
       "\n",
       "    .dataframe thead th {\n",
       "        text-align: right;\n",
       "    }\n",
       "</style>\n",
       "<table border=\"1\" class=\"dataframe\">\n",
       "  <thead>\n",
       "    <tr style=\"text-align: right;\">\n",
       "      <th></th>\n",
       "      <th>null_count</th>\n",
       "    </tr>\n",
       "  </thead>\n",
       "  <tbody>\n",
       "    <tr>\n",
       "      <th>Schedule</th>\n",
       "      <td>76307</td>\n",
       "    </tr>\n",
       "    <tr>\n",
       "      <th>Air.carrier</th>\n",
       "      <td>72241</td>\n",
       "    </tr>\n",
       "    <tr>\n",
       "      <th>FAR.Description</th>\n",
       "      <td>56866</td>\n",
       "    </tr>\n",
       "    <tr>\n",
       "      <th>Aircraft.Category</th>\n",
       "      <td>56602</td>\n",
       "    </tr>\n",
       "    <tr>\n",
       "      <th>Longitude</th>\n",
       "      <td>54516</td>\n",
       "    </tr>\n",
       "    <tr>\n",
       "      <th>Latitude</th>\n",
       "      <td>54507</td>\n",
       "    </tr>\n",
       "    <tr>\n",
       "      <th>Airport.Code</th>\n",
       "      <td>38640</td>\n",
       "    </tr>\n",
       "    <tr>\n",
       "      <th>Airport.Name</th>\n",
       "      <td>36099</td>\n",
       "    </tr>\n",
       "    <tr>\n",
       "      <th>Broad.phase.of.flight</th>\n",
       "      <td>27165</td>\n",
       "    </tr>\n",
       "    <tr>\n",
       "      <th>Publication.Date</th>\n",
       "      <td>13771</td>\n",
       "    </tr>\n",
       "    <tr>\n",
       "      <th>Total.Serious.Injuries</th>\n",
       "      <td>12510</td>\n",
       "    </tr>\n",
       "    <tr>\n",
       "      <th>Total.Minor.Injuries</th>\n",
       "      <td>11933</td>\n",
       "    </tr>\n",
       "    <tr>\n",
       "      <th>Total.Fatal.Injuries</th>\n",
       "      <td>11401</td>\n",
       "    </tr>\n",
       "    <tr>\n",
       "      <th>Engine.Type</th>\n",
       "      <td>7077</td>\n",
       "    </tr>\n",
       "    <tr>\n",
       "      <th>Report.Status</th>\n",
       "      <td>6381</td>\n",
       "    </tr>\n",
       "    <tr>\n",
       "      <th>Purpose.of.flight</th>\n",
       "      <td>6192</td>\n",
       "    </tr>\n",
       "    <tr>\n",
       "      <th>Number.of.Engines</th>\n",
       "      <td>6084</td>\n",
       "    </tr>\n",
       "    <tr>\n",
       "      <th>Total.Uninjured</th>\n",
       "      <td>5912</td>\n",
       "    </tr>\n",
       "    <tr>\n",
       "      <th>Weather.Condition</th>\n",
       "      <td>4492</td>\n",
       "    </tr>\n",
       "    <tr>\n",
       "      <th>Aircraft.damage</th>\n",
       "      <td>3194</td>\n",
       "    </tr>\n",
       "    <tr>\n",
       "      <th>Registration.Number</th>\n",
       "      <td>1317</td>\n",
       "    </tr>\n",
       "    <tr>\n",
       "      <th>Injury.Severity</th>\n",
       "      <td>1000</td>\n",
       "    </tr>\n",
       "    <tr>\n",
       "      <th>Country</th>\n",
       "      <td>226</td>\n",
       "    </tr>\n",
       "    <tr>\n",
       "      <th>Amateur.Built</th>\n",
       "      <td>102</td>\n",
       "    </tr>\n",
       "    <tr>\n",
       "      <th>Model</th>\n",
       "      <td>92</td>\n",
       "    </tr>\n",
       "    <tr>\n",
       "      <th>Make</th>\n",
       "      <td>63</td>\n",
       "    </tr>\n",
       "    <tr>\n",
       "      <th>Location</th>\n",
       "      <td>52</td>\n",
       "    </tr>\n",
       "    <tr>\n",
       "      <th>Investigation.Type</th>\n",
       "      <td>0</td>\n",
       "    </tr>\n",
       "    <tr>\n",
       "      <th>Event.Date</th>\n",
       "      <td>0</td>\n",
       "    </tr>\n",
       "    <tr>\n",
       "      <th>Accident.Number</th>\n",
       "      <td>0</td>\n",
       "    </tr>\n",
       "    <tr>\n",
       "      <th>Event.Id</th>\n",
       "      <td>0</td>\n",
       "    </tr>\n",
       "  </tbody>\n",
       "</table>\n",
       "</div>"
      ],
      "text/plain": [
       "                        null_count\n",
       "Schedule                     76307\n",
       "Air.carrier                  72241\n",
       "FAR.Description              56866\n",
       "Aircraft.Category            56602\n",
       "Longitude                    54516\n",
       "Latitude                     54507\n",
       "Airport.Code                 38640\n",
       "Airport.Name                 36099\n",
       "Broad.phase.of.flight        27165\n",
       "Publication.Date             13771\n",
       "Total.Serious.Injuries       12510\n",
       "Total.Minor.Injuries         11933\n",
       "Total.Fatal.Injuries         11401\n",
       "Engine.Type                   7077\n",
       "Report.Status                 6381\n",
       "Purpose.of.flight             6192\n",
       "Number.of.Engines             6084\n",
       "Total.Uninjured               5912\n",
       "Weather.Condition             4492\n",
       "Aircraft.damage               3194\n",
       "Registration.Number           1317\n",
       "Injury.Severity               1000\n",
       "Country                        226\n",
       "Amateur.Built                  102\n",
       "Model                           92\n",
       "Make                            63\n",
       "Location                        52\n",
       "Investigation.Type               0\n",
       "Event.Date                       0\n",
       "Accident.Number                  0\n",
       "Event.Id                         0"
      ]
     },
     "execution_count": 13,
     "metadata": {},
     "output_type": "execute_result"
    }
   ],
   "source": [
    "# Checking the number of missing values \n",
    "# in each column\n",
    "df.isnull().sum().to_frame()\n",
    "df.isnull().sum().to_frame(name='null_count').sort_values(by='null_count', ascending=False)"
   ]
  },
  {
   "cell_type": "code",
   "execution_count": 14,
   "metadata": {},
   "outputs": [
    {
     "name": "stdout",
     "output_type": "stream",
     "text": [
      "The Column count 88889,\n",
      "Number of unique values are 87951.\n",
      " \n",
      "There are 938 missing values in \"Event.Id\".\n"
     ]
    }
   ],
   "source": [
    "# column 1 # Event.Id  #  type: object\n",
    "df['Event.Id'].describe().to_frame()\n",
    "df.duplicated(subset='Event.Id').sum() # 938\n",
    "evt_id_inf = df['Event.Id'].describe().to_frame()\n",
    "\n",
    "type(evt_id_inf.loc[evt_id_inf.index[0]][0])\n",
    "evt_count = evt_id_inf.loc[evt_id_inf.index[0]][0]\n",
    "evt_uniq = df['Event.Id'].nunique()\n",
    "evt_mis = evt_count - 87951\n",
    "\n",
    "print(\n",
    "f'The Column count {evt_count},', # row 0\n",
    "f'Number of unique values are {evt_uniq}.', # row 1\n",
    "' ',\n",
    "f'There are {evt_mis} missing values in \"{list(df.columns)[0]}\".', # missing \n",
    "sep = '\\n')\n",
    "\n",
    "# df.drop_duplicates(inplace=True) # subset = 'Event.Id'\n",
    "df.drop_duplicates(subset=['Event.Id'], inplace=True)\n",
    "\n",
    "# Drop the column\n",
    "df = df.drop(columns=['Event.Id'])\n"
   ]
  },
  {
   "cell_type": "code",
   "execution_count": 15,
   "metadata": {},
   "outputs": [
    {
     "name": "stdout",
     "output_type": "stream",
     "text": [
      "The values in the 'Investigation.Type' column are ['Accident', 'Incident']\n",
      "\n",
      "Investigation.Type 'Accident' has 95.72%\n",
      "Investigation.Type 'Incident' has 4.28%\n"
     ]
    }
   ],
   "source": [
    "# column 2 # 'Investigation.Type'  #  type: object\n",
    "print(f\"The values in the 'Investigation.Type' column are {df['Investigation.Type'].unique().tolist()}\",\n",
    "      end = '\\n\\n')\n",
    "df['Investigation.Type'].value_counts().to_frame()\n",
    "\n",
    "for i in range(2):\n",
    "    print(f\"Investigation.Type '{df['Investigation.Type'].unique().tolist()[i]}' has {df['Investigation.Type'].value_counts()[i] / df.shape[0] * 100:.2f}%\")\n",
    "\n",
    "# dropping 'Incident'\n",
    "df = df.loc[(df['Investigation.Type'] == 'Accident')]\n",
    "# Now, dropping the column\n",
    "df = df.drop(columns=['Investigation.Type'])"
   ]
  },
  {
   "cell_type": "code",
   "execution_count": 16,
   "metadata": {},
   "outputs": [],
   "source": [
    "# column 3 # Accident.Number\n",
    "df['Accident.Number'].isnull().sum()\n",
    "df['Accident.Number'].nunique() # 63011\n",
    "# >>> dropping\n",
    "df = df.drop(columns=['Accident.Number'])"
   ]
  },
  {
   "cell_type": "code",
   "execution_count": 17,
   "metadata": {},
   "outputs": [
    {
     "name": "stdout",
     "output_type": "stream",
     "text": [
      "object\n"
     ]
    }
   ],
   "source": [
    "# column 4 # Event.Date\n",
    "print(df['Event.Date'].dtype) # object\n",
    "# check number of missing values\n",
    "df['Event.Date'].isnull().sum()  # 0\n",
    "# convert to datetime\n",
    "df['Event.Date'] = pd.to_datetime(df['Event.Date'])"
   ]
  },
  {
   "cell_type": "code",
   "execution_count": 18,
   "metadata": {},
   "outputs": [],
   "source": [
    "# column 5 # Location\n",
    "df.Location.isnull().sum() # 52\n",
    "df.Location # number of rows # 87951\n",
    "# >>> dropping\n",
    "df.dropna(subset=['Location'], inplace=True)"
   ]
  },
  {
   "cell_type": "code",
   "execution_count": 19,
   "metadata": {},
   "outputs": [
    {
     "name": "stdout",
     "output_type": "stream",
     "text": [
      "The shape if the dataframe is '84150'.\n",
      "The shape of the new dataframe is 83947\n",
      "Having lost 222\n",
      "\n",
      "Perc of null values: 94.2%\n"
     ]
    }
   ],
   "source": [
    "# column 6 # Country\n",
    "df.Country.isnull().sum()\n",
    "print(f\"The shape if the dataframe is '{df.shape[0]}'.\", sep = '\\n\\n')\n",
    "# drop all null values in col\n",
    "df = df.dropna(subset=['Country'])\n",
    "print(f\"\"\"The shape of the new dataframe is {df.shape[0]}\n",
    "Having lost 222\"\"\")\n",
    "# comvert the name to title format\n",
    "df['Country'] = df['Country'].apply(lambda x: x.title() if isinstance(x, str) else x)\n",
    "# finding out which country stands out\n",
    "df['Country'].value_counts().idxmax() # 'United States' with 79101 values\n",
    "# percentage of USA\n",
    "print()\n",
    "print(f\"Perc of null values: {df['Country'].value_counts()[0] / df.shape[0] * 100:.1f}%\") # 94.2%\n",
    "# # retaining only 'United States'\n",
    "# df = df.loc[(df.Country == 'United States')]"
   ]
  },
  {
   "cell_type": "code",
   "execution_count": 20,
   "metadata": {},
   "outputs": [
    {
     "name": "stdout",
     "output_type": "stream",
     "text": [
      "There are '50706' missing values in the latitude column,\n",
      "whilst the longitude column has '50715' missing values.\n"
     ]
    }
   ],
   "source": [
    "# column 7 # Latitude # and\n",
    "# column 8 # Longitude\n",
    "# checking the dtype of Latitude and Longitude column\n",
    "df.Longitude.dtype # dtype('O')\n",
    "# inference\n",
    "print(f\"\"\"There are \\'{df['Latitude'].isnull().sum()}\\' missing values in the latitude column,\n",
    "whilst the longitude column has '{df['Longitude'].isnull().sum()}' missing values.\"\"\")"
   ]
  },
  {
   "cell_type": "code",
   "execution_count": 21,
   "metadata": {},
   "outputs": [],
   "source": [
    "# Function to convert DMS to Decimal Degrees\n",
    "def dms_to_dd(dms):\n",
    "    if not isinstance(dms, str):  # Ensure input is a string\n",
    "        return None  # Return None if it's NaN or not a string\n",
    "    \n",
    "    match = re.match(r\"(\\d{2,3})(\\d{2})(\\d{2})([NSWE])\", dms)\n",
    "    \n",
    "    if not match:\n",
    "        return None  # Return None if format is incorrect\n",
    "\n",
    "    degrees, minutes, seconds, direction = match.groups()\n",
    "    \n",
    "    # Convert to decimal degrees\n",
    "    decimal_degrees = int(degrees) + int(minutes) / 60 + int(seconds) / 3600\n",
    "    \n",
    "    # Apply negative sign for South and West coordinates\n",
    "    if direction in ['S', 'W']:\n",
    "        decimal_degrees *= -1\n",
    "\n",
    "    return decimal_degrees\n"
   ]
  },
  {
   "cell_type": "code",
   "execution_count": 22,
   "metadata": {},
   "outputs": [],
   "source": [
    "# Apply conversion to both Latitude and Longitude columns\n",
    "df['Latitude_DD'] = df['Latitude'].apply(dms_to_dd)\n",
    "df['Longitude_DD'] = df['Longitude'].apply(dms_to_dd)\n",
    "\n",
    "# Handling Null Values:\n",
    "# Fill NaNs in converted columns\n",
    "df.fillna({'Latitude_DD': 0, 'Longitude_DD': 0}, inplace=True)\n",
    "# drop old cols\n",
    "df.drop(columns=['Latitude', 'Longitude'], inplace=True)\n"
   ]
  },
  {
   "cell_type": "code",
   "execution_count": 23,
   "metadata": {},
   "outputs": [],
   "source": [
    "lat_long_rename = {'Latitude_DD': 'Latitude', \n",
    "                   'Longitude_DD': 'Longitude'\n",
    "                   }\n",
    "df.rename(columns=lat_long_rename, inplace=True)\n"
   ]
  },
  {
   "cell_type": "code",
   "execution_count": 24,
   "metadata": {},
   "outputs": [],
   "source": [
    "# column 9 # Airport.Code\n",
    "df['Airport.Code'].unique()\n",
    "df['Airport.Code'].nunique()\n",
    "df['Airport.Code'].value_counts()\n",
    "df['Airport.Code'].isnull().sum() # 38144 \n",
    "df['Airport.Code'].isnull().sum() / df.shape[0] * 100 # 43.5% missing\n",
    "# > > > dropping \n",
    "df.drop(columns=['Airport.Code'], inplace = True)"
   ]
  },
  {
   "cell_type": "code",
   "execution_count": 25,
   "metadata": {},
   "outputs": [],
   "source": [
    "# column 10 # Airport.Name\t\n",
    "# > > > dropping col\n",
    "df.drop(columns=['Airport.Name'], inplace = True)"
   ]
  },
  {
   "cell_type": "code",
   "execution_count": 26,
   "metadata": {},
   "outputs": [],
   "source": [
    "# column 10 # Injury.Severity\n",
    "df['Injury.Severity'].isnull().sum() # 50\n",
    "df['Injury.Severity'].isnull().sum() / df.shape[0] * 100 # 0.06%\n",
    "# drop the null values\n",
    "df = df.dropna(subset=['Injury.Severity'])\n",
    "df['Injury.Severity'].nunique() # 55\n",
    "# df['Injury.Severity'].unique()\n",
    "df['Injury.Severity'].value_counts().to_frame()\n",
    "# drop the `Injury.Severity` column\n",
    "df = df.drop(columns=['Injury.Severity'], axis=1)"
   ]
  },
  {
   "cell_type": "code",
   "execution_count": 27,
   "metadata": {},
   "outputs": [
    {
     "data": {
      "text/plain": [
       "{'Substantial': 63296, 'Destroyed': 18228, 'Minor': 637}"
      ]
     },
     "execution_count": 27,
     "metadata": {},
     "output_type": "execute_result"
    }
   ],
   "source": [
    "# column 11 # Aircraft.damage\n",
    "df['Aircraft.damage'].unique()\n",
    "df['Aircraft.damage'].value_counts().to_frame()\n",
    "df['Aircraft.damage'].isnull().sum() / df.shape[0] * 100 # 1.38%\n",
    "# >> dropping null values in columns\n",
    "df.dropna(subset=['Aircraft.damage'], inplace=True)\n",
    "df = df.loc[df['Aircraft.damage'] != 'Unknown']#['Aircraft.damage'].unique()\n",
    "dict(df['Aircraft.damage'].value_counts())"
   ]
  },
  {
   "cell_type": "code",
   "execution_count": 28,
   "metadata": {},
   "outputs": [
    {
     "name": "stdout",
     "output_type": "stream",
     "text": [
      "14\n"
     ]
    }
   ],
   "source": [
    "# column 12 # Aircraft.Category\n",
    "df['Aircraft.Category'].isnull().sum() # 50958 values \n",
    "# which is this perc\n",
    "df['Aircraft.Category'].isnull().sum() / df.shape[0] * 100 # 65.3%\n",
    "# dict\n",
    "print(len(dict(df['Aircraft.Category'].value_counts())))\n",
    "dict(df['Aircraft.Category'].value_counts())\n",
    "# >>> dropping the entire col\n",
    "# df = df.drop(columns=['Aircraft.Category'])\n",
    "# fill null values with `unknown`\n",
    "df['Aircraft.Category'].fillna('Unknown', inplace=True)"
   ]
  },
  {
   "cell_type": "code",
   "execution_count": 29,
   "metadata": {},
   "outputs": [],
   "source": [
    "# column 13 # Registration.Number\n",
    "df['Registration.Number'].nunique() # 73624\n",
    "# >>>\n",
    "# dropping column\n",
    "df.drop('Registration.Number', axis=1, inplace=True)"
   ]
  },
  {
   "cell_type": "code",
   "execution_count": 30,
   "metadata": {},
   "outputs": [],
   "source": [
    "# column 14 # Make\n",
    "df.Make.nunique() # 8068\n",
    "df.Make.value_counts()\n",
    "# dropping column\n",
    "# df.drop('Make', axis=1, inplace=True)\n",
    "df = df.dropna(subset=['Make'])"
   ]
  },
  {
   "cell_type": "code",
   "execution_count": 31,
   "metadata": {},
   "outputs": [],
   "source": [
    "# column 15 # Model\n",
    "df.Model.nunique() # 11353\n",
    "# dropping column\n",
    "df.drop('Model', axis=1, inplace=True)"
   ]
  },
  {
   "cell_type": "code",
   "execution_count": 32,
   "metadata": {},
   "outputs": [],
   "source": [
    "# column 16 # Amateur.Built\n",
    "df['Amateur.Built'].nunique() # 3\n",
    "# finding the value counts\n",
    "dict(df['Amateur.Built'].value_counts()) # {'No': 69666, 'Yes': 8228}\n",
    "# missing values\n",
    "df['Amateur.Built'].isnull().sum() # 14\n",
    "# dropping null values\n",
    "df.dropna(subset=['Amateur.Built'], inplace=True)"
   ]
  },
  {
   "cell_type": "code",
   "execution_count": 33,
   "metadata": {},
   "outputs": [
    {
     "data": {
      "text/plain": [
       "array([1, 2, 4, 3, 8, 6])"
      ]
     },
     "execution_count": 33,
     "metadata": {},
     "output_type": "execute_result"
    }
   ],
   "source": [
    "# column 13 # Number.of.Engines\n",
    "df['Number.of.Engines'].unique().tolist() # [1.0, nan, 2.0, 0.0, 4.0, 3.0, 8.0, 6.0]\n",
    "df['Number.of.Engines'].nunique() # 7\n",
    "# perc of null values\n",
    "df['Number.of.Engines'].isna().sum() / df.shape[0] * 100 # 5.04%\n",
    "# drop null values \n",
    "df = df.dropna(subset=['Number.of.Engines'])\n",
    "# value counts\n",
    "dict(df['Number.of.Engines'].value_counts()) # {1.0: 67017, 2.0: 8151, 0.0: 961, 4.0: 146, 3.0: 120, 8.0: 2, 6.0: 1}\n",
    "# Also, drop planes with 0 engines \n",
    "# >>makes no sense for a plane with no engine\n",
    "df = df.loc[(df['Number.of.Engines'] != 0.0)]\n",
    "# Convert the dtype from `float64` to `int32`\n",
    "df['Number.of.Engines'] = df['Number.of.Engines'].astype(int)\n",
    "# checking the type\n",
    "df['Number.of.Engines'].dtype # dtype('int32')\n",
    "# print the new values types\n",
    "df['Number.of.Engines'].unique() # array([1, 2, 4, 3, 8, 6])"
   ]
  },
  {
   "cell_type": "code",
   "execution_count": 34,
   "metadata": {},
   "outputs": [],
   "source": [
    "# column 14 # Engine.Type\n",
    "df['Engine.Type'].unique().tolist()\n",
    "# >>>\n",
    "# ['Reciprocating', 'Turbo Fan', 'Turbo Shaft', 'Turbo Prop', 'Turbo Jet', 'Unknown', nan, 'Electric', 'Hybrid Rocket', 'None', 'LR', 'UNK']\n",
    "df['Engine.Type'].nunique() # 11\n",
    "dict(df['Engine.Type'].value_counts())\n",
    "# dropping column\n",
    "df.drop('Engine.Type', axis=1, inplace=True)"
   ]
  },
  {
   "cell_type": "code",
   "execution_count": 35,
   "metadata": {},
   "outputs": [],
   "source": [
    "# column 15 # FAR.Description\n",
    "# `\n",
    "# FAR Desc -- Federal Aviation Regulations (FARs) set by the FAA, essentially \n",
    "# outlining the aircraft's design and capabilities according to the regulatory \n",
    "# standards for safe flight operations in the United States. \n",
    "# `\n",
    "df['FAR.Description'].nunique() # 27\n",
    "df['FAR.Description'].value_counts()\n",
    "df['FAR.Description'].unique()\n",
    "# no of missing values\n",
    "df['FAR.Description'].isnull().sum() # 49663\n",
    "df['FAR.Description'].isnull().sum() / df.shape[0] * 100 # 65.8%\n",
    "# dropping the column\n",
    "df.drop('FAR.Description', axis=1, inplace=True)"
   ]
  },
  {
   "cell_type": "code",
   "execution_count": 36,
   "metadata": {},
   "outputs": [],
   "source": [
    "# column 16 # Schedule\n",
    "df.Schedule.nunique() # 3\n",
    "df.Schedule.unique() # array([nan, 'SCHD', 'NSCH', 'UNK'], dtype=object)\n",
    "dict(df.Schedule.value_counts()) # {'UNK': 3721, 'NSCH': 3204, 'SCHD': 945}\n",
    "\n",
    "df.Schedule.isnull().sum() # 68786\n",
    "df.Schedule.isnull().sum() / df.shape[0] * 100 # 89.38%\n",
    "# >>>\n",
    "# dropping the columns\n",
    "df.drop('Schedule', axis=1, inplace=True)"
   ]
  },
  {
   "cell_type": "code",
   "execution_count": 37,
   "metadata": {},
   "outputs": [],
   "source": [
    "# column 17 # Purpose.of.flight\n",
    "df['Purpose.of.flight'].value_counts()\n",
    "# dropping column\n",
    "df.drop('Purpose.of.flight', axis=1, inplace=True)"
   ]
  },
  {
   "cell_type": "code",
   "execution_count": 38,
   "metadata": {},
   "outputs": [],
   "source": [
    "# column 18 # Air.carrier\n",
    "df['Air.carrier'].isnull().sum() # 63242\n",
    "# perc \n",
    "df['Air.carrier'].isnull().sum() / df.shape[0] * 100 # 83.8%\n",
    "# dropping col\n",
    "df.drop('Air.carrier', axis=1, inplace=True)"
   ]
  },
  {
   "cell_type": "code",
   "execution_count": 39,
   "metadata": {},
   "outputs": [
    {
     "data": {
      "text/plain": [
       "dtype('int32')"
      ]
     },
     "execution_count": 39,
     "metadata": {},
     "output_type": "execute_result"
    }
   ],
   "source": [
    "# column 19 # Total.Fatal.Injuries\n",
    "df['Total.Fatal.Injuries'].isnull().sum() # 9702\n",
    "# perc \n",
    "df['Total.Fatal.Injuries'].isnull().sum() / df.shape[0] * 100 # 12.8%\n",
    "# values\n",
    "df['Total.Fatal.Injuries'].nunique() # 49\n",
    "# specific\n",
    "df['Total.Fatal.Injuries'].unique()\n",
    "# drop null values\n",
    "df.dropna(subset=['Total.Fatal.Injuries'], inplace=True)\n",
    "# value count\n",
    "dict(df['Total.Fatal.Injuries'].value_counts()) # {0.0: 51558, 1.0: 7402, 2.0: 4267, ..., 265.0: 1}\n",
    "# reflect\n",
    "df['Total.Fatal.Injuries'].unique()\n",
    "# dtype\n",
    "df['Total.Fatal.Injuries'].dtype\n",
    "# converting from `float64` to `int32`\n",
    "df['Total.Fatal.Injuries'] = df['Total.Fatal.Injuries'].astype(int)\n",
    "# confirmation\n",
    "df['Total.Fatal.Injuries'].dtype"
   ]
  },
  {
   "cell_type": "code",
   "execution_count": 40,
   "metadata": {},
   "outputs": [
    {
     "data": {
      "text/plain": [
       "dtype('int32')"
      ]
     },
     "execution_count": 40,
     "metadata": {},
     "output_type": "execute_result"
    }
   ],
   "source": [
    "# column 20 # Total.Serious.Injuries\n",
    "df['Total.Serious.Injuries'].isnull().sum() # 2045\n",
    "# perc \n",
    "df['Total.Serious.Injuries'].isnull().sum() / df.shape[0] * 100 # 3.11%\n",
    "# drop null values\n",
    "df.dropna(subset=['Total.Serious.Injuries'], inplace=True)\n",
    "# values\n",
    "df['Total.Serious.Injuries'].nunique() # 28\n",
    "# specific\n",
    "df['Total.Serious.Injuries'].unique()\n",
    "# value count\n",
    "dict(df['Total.Serious.Injuries'].value_counts()) # {0.0: 51558, 1.0: 7402, 2.0: 4267, ..., 265.0: 1}\n",
    "# reflect\n",
    "df['Total.Serious.Injuries'].unique()\n",
    "# # dtype\n",
    "df['Total.Serious.Injuries'].dtype\n",
    "# # converting from `float64` to `int32`\n",
    "df['Total.Serious.Injuries'] = df['Total.Serious.Injuries'].astype(int)\n",
    "# # confirmation\n",
    "df['Total.Serious.Injuries'].dtype"
   ]
  },
  {
   "cell_type": "code",
   "execution_count": 41,
   "metadata": {},
   "outputs": [
    {
     "data": {
      "text/plain": [
       "dtype('int32')"
      ]
     },
     "execution_count": 41,
     "metadata": {},
     "output_type": "execute_result"
    }
   ],
   "source": [
    "# column 21 # Total.Minor.Injuries\n",
    "df['Total.Minor.Injuries'].isnull().sum() # 276\n",
    "# # perc \n",
    "df['Total.Minor.Injuries'].isnull().sum() / df.shape[0] * 100 # 0.43%\n",
    "# # drop null values\n",
    "df.dropna(subset=['Total.Minor.Injuries'], inplace=True)\n",
    "# values\n",
    "df['Total.Minor.Injuries'].nunique() # 40\n",
    "# specific\n",
    "df['Total.Minor.Injuries'].unique()\n",
    "# value count\n",
    "dict(df['Total.Minor.Injuries'].value_counts())\n",
    "# reflect\n",
    "df['Total.Minor.Injuries'].unique()\n",
    "# dtype\n",
    "df['Total.Minor.Injuries'].dtype\n",
    "# # # converting from `float64` to `int32`\n",
    "df['Total.Minor.Injuries'] = df['Total.Minor.Injuries'].astype(int)\n",
    "# # # confirmation\n",
    "df['Total.Minor.Injuries'].dtype"
   ]
  },
  {
   "cell_type": "code",
   "execution_count": 42,
   "metadata": {},
   "outputs": [
    {
     "data": {
      "text/plain": [
       "dtype('int32')"
      ]
     },
     "execution_count": 42,
     "metadata": {},
     "output_type": "execute_result"
    }
   ],
   "source": [
    "# column 22 # Total.Uninjured\n",
    "df['Total.Uninjured'].isnull().sum() # 43\n",
    "# perc \n",
    "df['Total.Uninjured'].isnull().sum() / df.shape[0] * 100 # 0.06%\n",
    "# drop null values\n",
    "df.dropna(subset=['Total.Uninjured'], inplace=True)\n",
    "# dtype\n",
    "df['Total.Uninjured'].dtype\n",
    "# # # converting from `float64` to `int32`\n",
    "df['Total.Uninjured'] = df['Total.Uninjured'].astype(int)\n",
    "# # # confirmation\n",
    "df['Total.Uninjured'].dtype"
   ]
  },
  {
   "cell_type": "code",
   "execution_count": 43,
   "metadata": {},
   "outputs": [],
   "source": [
    "# column 23 # Weather.Condition\n",
    "# no of unique values\n",
    "df['Weather.Condition'].nunique() # 4\n",
    "# the value count\n",
    "dict(df['Weather.Condition'].value_counts()) # {'VMC': 58024, 'IMC': 4445, 'UNK': 478, 'Unk': 64}\n",
    "# null values\n",
    "df['Weather.Condition'].isnull().sum() # 360\n",
    "# perc\n",
    "df['Weather.Condition'].isnull().sum() / df.shape[0] * 100 # 0.56%\n",
    "# drop null values\n",
    "df.dropna(subset=['Weather.Condition'], inplace=True)"
   ]
  },
  {
   "cell_type": "code",
   "execution_count": 44,
   "metadata": {},
   "outputs": [
    {
     "name": "stdout",
     "output_type": "stream",
     "text": [
      "The composition of `unknown` and `other` is 1.88%\n"
     ]
    },
    {
     "data": {
      "text/plain": [
       "{'Unknown': 19694,\n",
       " 'Landing': 10960,\n",
       " 'Takeoff': 9386,\n",
       " 'Cruise': 7613,\n",
       " 'Maneuvering': 6198,\n",
       " 'Approach': 4581,\n",
       " 'Climb': 1394,\n",
       " 'Descent': 1249,\n",
       " 'Taxi': 1216,\n",
       " 'Go-around': 1038,\n",
       " 'Standing': 439}"
      ]
     },
     "execution_count": 44,
     "metadata": {},
     "output_type": "execute_result"
    }
   ],
   "source": [
    "# column 24 # Broad.phase.of.flight\n",
    "df['Broad.phase.of.flight'].isnull().sum() # 18668\n",
    "# unique values\n",
    "df['Broad.phase.of.flight'].unique()\n",
    "# value count\n",
    "df['Broad.phase.of.flight'].value_counts()\n",
    "\n",
    "print(f\"The composition of `unknown` and `other` is {(399 + 799) / df.shape[0] * 100:.2f}%\") # 1.90%\n",
    "# fill null values with `Unknown`\n",
    "df['Broad.phase.of.flight'] = df['Broad.phase.of.flight'].fillna('Unknown')\n",
    "# replace 'Other' with 'Unknown'\n",
    "df['Broad.phase.of.flight'] = df['Broad.phase.of.flight'].replace('Other', 'Unknown')\n",
    "# # \n",
    "dict(df['Broad.phase.of.flight'].value_counts())\n",
    "# df.head(4)"
   ]
  },
  {
   "cell_type": "code",
   "execution_count": 45,
   "metadata": {},
   "outputs": [],
   "source": [
    "# column 25 # Report.Status\n",
    "df['Report.Status'].nunique() # 15551\n",
    "df.drop(columns=['Report.Status'], inplace=True)"
   ]
  },
  {
   "cell_type": "code",
   "execution_count": 46,
   "metadata": {},
   "outputs": [],
   "source": [
    "# column 26 # Publication.Date\n",
    "# drop column entirely\n",
    "df.drop(columns=['Publication.Date'], inplace=True)"
   ]
  },
  {
   "cell_type": "code",
   "execution_count": 47,
   "metadata": {},
   "outputs": [
    {
     "name": "stdout",
     "output_type": "stream",
     "text": [
      "Now, there are 16 columns.\n"
     ]
    },
    {
     "data": {
      "text/plain": [
       "Index(['Event.Date', 'Location', 'Country', 'Aircraft.damage',\n",
       "       'Aircraft.Category', 'Make', 'Amateur.Built', 'Number.of.Engines',\n",
       "       'Total.Fatal.Injuries', 'Total.Serious.Injuries',\n",
       "       'Total.Minor.Injuries', 'Total.Uninjured', 'Weather.Condition',\n",
       "       'Broad.phase.of.flight', 'Latitude', 'Longitude'],\n",
       "      dtype='object')"
      ]
     },
     "execution_count": 47,
     "metadata": {},
     "output_type": "execute_result"
    }
   ],
   "source": [
    "print(f\"Now, there are {len(df.columns)} columns.\")\n",
    "# current columns are:-\n",
    "df.columns"
   ]
  },
  {
   "cell_type": "code",
   "execution_count": 48,
   "metadata": {},
   "outputs": [
    {
     "name": "stdout",
     "output_type": "stream",
     "text": [
      "20829\n"
     ]
    },
    {
     "data": {
      "text/plain": [
       "array(['Idaho', 'California', 'Minnesota', 'Washington', 'New Jersey',\n",
       "       'Florida', 'New Mexico', 'Alabama', 'Louisiana', 'Texas',\n",
       "       'Oklahoma', 'Arkansas', 'Utah', 'Alaska', 'Pennsylvania',\n",
       "       'Michigan', 'Georgia', 'Virginia', 'North Carolina', 'New York',\n",
       "       'Montana', 'Oregon', 'Nevada', 'Indiana', 'Arizona', 'Missouri',\n",
       "       'Wyoming', 'Illinois', 'South Carolina', 'Maryland', 'Ohio',\n",
       "       'Hawaii', 'Colorado', 'Mississippi', 'DC', 'Vermont', 'Kansas',\n",
       "       'New Hampshire', 'Iowa', 'Wisconsin', 'Massachusetts',\n",
       "       'Connecticut', 'Kentucky', 'Tennessee', 'Maine', 'AN',\n",
       "       'South Dakota', 'Nebraska', 'Rhode Island', 'North Dakota', 'LK',\n",
       "       'West Virginia', '89', 'BO', 'Delaware', 'AS', 'FT', 'PR', 'OF',\n",
       "       'EN', '95', 'OA', '98', 'DA', 'NG', 'ES', 'NA', 'EA', 'GU', 'OM',\n",
       "       'DS', '74', 'O6', 'ZE', 'IC', '1A', 'CE', 'US', 'BA', 'GO', '67',\n",
       "       '34', 'UA', 'TI', 'RU', 'LY', 'GM', '20', 'LI', 'EY', '16', 'I,',\n",
       "       'NI', '9,', 'PO', 'AO', 'MY', '8,', 'O,', 'AQ', 'YA', 'N,', 'D,',\n",
       "       'A,', 'AU', 'LE', 'ON', 'AY', 'JI', 'F)', ',', 'PE', 'S,', 'E,',\n",
       "       'C,', 'UN', 'AD', 'H,', 'M,', 'G,', '7,', 'X,', 'OS', 'UM', 'CB',\n",
       "       ', '], dtype=object)"
      ]
     },
     "execution_count": 48,
     "metadata": {},
     "output_type": "execute_result"
    }
   ],
   "source": [
    "# check unique items\n",
    "print(df.Location.nunique())\n",
    "\n",
    "# filtering the abbrev\n",
    "df['Location'] = df['Location'].map(lambda x: x[-2:].upper() if isinstance(x, str) else x)\n",
    "\n",
    "# USA State abbreviations and full names\n",
    "us_states = {\n",
    "    \"Alabama\": \"AL\", \"Alaska\": \"AK\", \"Arizona\": \"AZ\", \"Arkansas\": \"AR\",\n",
    "    \"California\": \"CA\", \"Colorado\": \"CO\", \"Connecticut\": \"CT\", \"Delaware\": \"DE\",\n",
    "    \"Florida\": \"FL\", \"Georgia\": \"GA\", \"Hawaii\": \"HI\", \"Idaho\": \"ID\",\n",
    "    \"Illinois\": \"IL\", \"Indiana\": \"IN\", \"Iowa\": \"IA\", \"Kansas\": \"KS\",\n",
    "    \"Kentucky\": \"KY\", \"Louisiana\": \"LA\", \"Maine\": \"ME\", \"Maryland\": \"MD\",\n",
    "    \"Massachusetts\": \"MA\", \"Michigan\": \"MI\", \"Minnesota\": \"MN\", \"Mississippi\": \"MS\",\n",
    "    \"Missouri\": \"MO\", \"Montana\": \"MT\", \"Nebraska\": \"NE\", \"Nevada\": \"NV\",\n",
    "    \"New Hampshire\": \"NH\", \"New Jersey\": \"NJ\", \"New Mexico\": \"NM\", \"New York\": \"NY\",\n",
    "    \"North Carolina\": \"NC\", \"North Dakota\": \"ND\", \"Ohio\": \"OH\", \"Oklahoma\": \"OK\",\n",
    "    \"Oregon\": \"OR\", \"Pennsylvania\": \"PA\", \"Rhode Island\": \"RI\", \"South Carolina\": \"SC\",\n",
    "    \"South Dakota\": \"SD\", \"Tennessee\": \"TN\", \"Texas\": \"TX\", \"Utah\": \"UT\",\n",
    "    \"Vermont\": \"VT\", \"Virginia\": \"VA\", \"Washington\": \"WA\", \"West Virginia\": \"WV\",\n",
    "    \"Wisconsin\": \"WI\", \"Wyoming\": \"WY\"\n",
    "}\n",
    "# Inverting the dictionary to map abbreviations back to full state names\n",
    "Abbrev_to_State = {state: abbrev for abbrev, state in us_states.items()}\n",
    "# Replace abbreviations with full state names\n",
    "df['Location'] = df['Location'].map(Abbrev_to_State).fillna(df['Location'])\n",
    "# converting permanently\n",
    "df.Location.unique()"
   ]
  },
  {
   "cell_type": "code",
   "execution_count": 49,
   "metadata": {},
   "outputs": [
    {
     "data": {
      "text/html": [
       "<div>\n",
       "<style scoped>\n",
       "    .dataframe tbody tr th:only-of-type {\n",
       "        vertical-align: middle;\n",
       "    }\n",
       "\n",
       "    .dataframe tbody tr th {\n",
       "        vertical-align: top;\n",
       "    }\n",
       "\n",
       "    .dataframe thead th {\n",
       "        text-align: right;\n",
       "    }\n",
       "</style>\n",
       "<table border=\"1\" class=\"dataframe\">\n",
       "  <thead>\n",
       "    <tr style=\"text-align: right;\">\n",
       "      <th></th>\n",
       "      <th>Event.Date</th>\n",
       "      <th>Location</th>\n",
       "      <th>Country</th>\n",
       "      <th>Aircraft.damage</th>\n",
       "      <th>Aircraft.Category</th>\n",
       "      <th>Make</th>\n",
       "      <th>Amateur.Built</th>\n",
       "      <th>Number.of.Engines</th>\n",
       "      <th>Total.Fatal.Injuries</th>\n",
       "      <th>Total.Serious.Injuries</th>\n",
       "      <th>Total.Minor.Injuries</th>\n",
       "      <th>Total.Uninjured</th>\n",
       "      <th>Weather.Condition</th>\n",
       "      <th>Broad.phase.of.flight</th>\n",
       "      <th>Latitude</th>\n",
       "      <th>Longitude</th>\n",
       "    </tr>\n",
       "  </thead>\n",
       "  <tbody>\n",
       "    <tr>\n",
       "      <th>237</th>\n",
       "      <td>1982-02-04</td>\n",
       "      <td>Colorado</td>\n",
       "      <td>Gulf Of Mexico</td>\n",
       "      <td>Substantial</td>\n",
       "      <td>Helicopter</td>\n",
       "      <td>Bell</td>\n",
       "      <td>No</td>\n",
       "      <td>1</td>\n",
       "      <td>0</td>\n",
       "      <td>0</td>\n",
       "      <td>0</td>\n",
       "      <td>1</td>\n",
       "      <td>VMC</td>\n",
       "      <td>Takeoff</td>\n",
       "      <td>0.000000</td>\n",
       "      <td>0.000000</td>\n",
       "    </tr>\n",
       "    <tr>\n",
       "      <th>333</th>\n",
       "      <td>1982-02-15</td>\n",
       "      <td>AN</td>\n",
       "      <td>Puerto Rico</td>\n",
       "      <td>Substantial</td>\n",
       "      <td>Airplane</td>\n",
       "      <td>Cessna</td>\n",
       "      <td>No</td>\n",
       "      <td>1</td>\n",
       "      <td>0</td>\n",
       "      <td>0</td>\n",
       "      <td>0</td>\n",
       "      <td>1</td>\n",
       "      <td>VMC</td>\n",
       "      <td>Approach</td>\n",
       "      <td>0.000000</td>\n",
       "      <td>0.000000</td>\n",
       "    </tr>\n",
       "    <tr>\n",
       "      <th>402</th>\n",
       "      <td>1982-02-23</td>\n",
       "      <td>AN</td>\n",
       "      <td>Atlantic Ocean</td>\n",
       "      <td>Destroyed</td>\n",
       "      <td>Airplane</td>\n",
       "      <td>Cessna</td>\n",
       "      <td>No</td>\n",
       "      <td>1</td>\n",
       "      <td>0</td>\n",
       "      <td>2</td>\n",
       "      <td>0</td>\n",
       "      <td>0</td>\n",
       "      <td>VMC</td>\n",
       "      <td>Cruise</td>\n",
       "      <td>0.000000</td>\n",
       "      <td>0.000000</td>\n",
       "    </tr>\n",
       "    <tr>\n",
       "      <th>463</th>\n",
       "      <td>1982-03-02</td>\n",
       "      <td>LK</td>\n",
       "      <td>High Island</td>\n",
       "      <td>Destroyed</td>\n",
       "      <td>Helicopter</td>\n",
       "      <td>Bell</td>\n",
       "      <td>No</td>\n",
       "      <td>1</td>\n",
       "      <td>2</td>\n",
       "      <td>0</td>\n",
       "      <td>0</td>\n",
       "      <td>0</td>\n",
       "      <td>VMC</td>\n",
       "      <td>Approach</td>\n",
       "      <td>0.000000</td>\n",
       "      <td>0.000000</td>\n",
       "    </tr>\n",
       "    <tr>\n",
       "      <th>1391</th>\n",
       "      <td>1982-05-29</td>\n",
       "      <td>89</td>\n",
       "      <td>High Island</td>\n",
       "      <td>Destroyed</td>\n",
       "      <td>Helicopter</td>\n",
       "      <td>Bell</td>\n",
       "      <td>No</td>\n",
       "      <td>1</td>\n",
       "      <td>0</td>\n",
       "      <td>0</td>\n",
       "      <td>0</td>\n",
       "      <td>4</td>\n",
       "      <td>VMC</td>\n",
       "      <td>Landing</td>\n",
       "      <td>0.000000</td>\n",
       "      <td>0.000000</td>\n",
       "    </tr>\n",
       "    <tr>\n",
       "      <th>...</th>\n",
       "      <td>...</td>\n",
       "      <td>...</td>\n",
       "      <td>...</td>\n",
       "      <td>...</td>\n",
       "      <td>...</td>\n",
       "      <td>...</td>\n",
       "      <td>...</td>\n",
       "      <td>...</td>\n",
       "      <td>...</td>\n",
       "      <td>...</td>\n",
       "      <td>...</td>\n",
       "      <td>...</td>\n",
       "      <td>...</td>\n",
       "      <td>...</td>\n",
       "      <td>...</td>\n",
       "      <td>...</td>\n",
       "    </tr>\n",
       "    <tr>\n",
       "      <th>87750</th>\n",
       "      <td>2022-04-30</td>\n",
       "      <td>OF</td>\n",
       "      <td>Venezuela</td>\n",
       "      <td>Substantial</td>\n",
       "      <td>Airplane</td>\n",
       "      <td>ROCKWELL</td>\n",
       "      <td>No</td>\n",
       "      <td>2</td>\n",
       "      <td>1</td>\n",
       "      <td>0</td>\n",
       "      <td>0</td>\n",
       "      <td>0</td>\n",
       "      <td>VMC</td>\n",
       "      <td>Unknown</td>\n",
       "      <td>1.059167</td>\n",
       "      <td>-66.840556</td>\n",
       "    </tr>\n",
       "    <tr>\n",
       "      <th>87755</th>\n",
       "      <td>2022-05-01</td>\n",
       "      <td>,</td>\n",
       "      <td>Bolivia</td>\n",
       "      <td>Substantial</td>\n",
       "      <td>Airplane</td>\n",
       "      <td>CESSNA</td>\n",
       "      <td>No</td>\n",
       "      <td>1</td>\n",
       "      <td>0</td>\n",
       "      <td>0</td>\n",
       "      <td>0</td>\n",
       "      <td>2</td>\n",
       "      <td>VMC</td>\n",
       "      <td>Unknown</td>\n",
       "      <td>-14.830000</td>\n",
       "      <td>-64.904722</td>\n",
       "    </tr>\n",
       "    <tr>\n",
       "      <th>87823</th>\n",
       "      <td>2022-05-20</td>\n",
       "      <td>OF</td>\n",
       "      <td>Venezuela</td>\n",
       "      <td>Destroyed</td>\n",
       "      <td>Airplane</td>\n",
       "      <td>CESSNA</td>\n",
       "      <td>No</td>\n",
       "      <td>1</td>\n",
       "      <td>1</td>\n",
       "      <td>0</td>\n",
       "      <td>0</td>\n",
       "      <td>0</td>\n",
       "      <td>Unk</td>\n",
       "      <td>Unknown</td>\n",
       "      <td>5.858333</td>\n",
       "      <td>-62.440556</td>\n",
       "    </tr>\n",
       "    <tr>\n",
       "      <th>88712</th>\n",
       "      <td>2022-10-23</td>\n",
       "      <td>OF</td>\n",
       "      <td>Argentina</td>\n",
       "      <td>Destroyed</td>\n",
       "      <td>Airplane</td>\n",
       "      <td>CESSNA</td>\n",
       "      <td>No</td>\n",
       "      <td>1</td>\n",
       "      <td>1</td>\n",
       "      <td>0</td>\n",
       "      <td>0</td>\n",
       "      <td>0</td>\n",
       "      <td>Unk</td>\n",
       "      <td>Unknown</td>\n",
       "      <td>-34.636111</td>\n",
       "      <td>-59.458889</td>\n",
       "    </tr>\n",
       "    <tr>\n",
       "      <th>88837</th>\n",
       "      <td>2022-12-01</td>\n",
       "      <td>OF</td>\n",
       "      <td>Cuba</td>\n",
       "      <td>Substantial</td>\n",
       "      <td>Airplane</td>\n",
       "      <td>LEARJET</td>\n",
       "      <td>No</td>\n",
       "      <td>2</td>\n",
       "      <td>0</td>\n",
       "      <td>0</td>\n",
       "      <td>0</td>\n",
       "      <td>4</td>\n",
       "      <td>VMC</td>\n",
       "      <td>Unknown</td>\n",
       "      <td>19.906111</td>\n",
       "      <td>-75.199722</td>\n",
       "    </tr>\n",
       "  </tbody>\n",
       "</table>\n",
       "<p>765 rows × 16 columns</p>\n",
       "</div>"
      ],
      "text/plain": [
       "      Event.Date  Location         Country Aircraft.damage Aircraft.Category  \\\n",
       "237   1982-02-04  Colorado  Gulf Of Mexico     Substantial        Helicopter   \n",
       "333   1982-02-15        AN     Puerto Rico     Substantial          Airplane   \n",
       "402   1982-02-23        AN  Atlantic Ocean       Destroyed          Airplane   \n",
       "463   1982-03-02        LK     High Island       Destroyed        Helicopter   \n",
       "1391  1982-05-29        89     High Island       Destroyed        Helicopter   \n",
       "...          ...       ...             ...             ...               ...   \n",
       "87750 2022-04-30        OF       Venezuela     Substantial          Airplane   \n",
       "87755 2022-05-01        ,          Bolivia     Substantial          Airplane   \n",
       "87823 2022-05-20        OF       Venezuela       Destroyed          Airplane   \n",
       "88712 2022-10-23        OF       Argentina       Destroyed          Airplane   \n",
       "88837 2022-12-01        OF            Cuba     Substantial          Airplane   \n",
       "\n",
       "           Make Amateur.Built  Number.of.Engines  Total.Fatal.Injuries  \\\n",
       "237        Bell            No                  1                     0   \n",
       "333      Cessna            No                  1                     0   \n",
       "402      Cessna            No                  1                     0   \n",
       "463        Bell            No                  1                     2   \n",
       "1391       Bell            No                  1                     0   \n",
       "...         ...           ...                ...                   ...   \n",
       "87750  ROCKWELL            No                  2                     1   \n",
       "87755    CESSNA            No                  1                     0   \n",
       "87823    CESSNA            No                  1                     1   \n",
       "88712    CESSNA            No                  1                     1   \n",
       "88837   LEARJET            No                  2                     0   \n",
       "\n",
       "       Total.Serious.Injuries  Total.Minor.Injuries  Total.Uninjured  \\\n",
       "237                         0                     0                1   \n",
       "333                         0                     0                1   \n",
       "402                         2                     0                0   \n",
       "463                         0                     0                0   \n",
       "1391                        0                     0                4   \n",
       "...                       ...                   ...              ...   \n",
       "87750                       0                     0                0   \n",
       "87755                       0                     0                2   \n",
       "87823                       0                     0                0   \n",
       "88712                       0                     0                0   \n",
       "88837                       0                     0                4   \n",
       "\n",
       "      Weather.Condition Broad.phase.of.flight   Latitude  Longitude  \n",
       "237                 VMC               Takeoff   0.000000   0.000000  \n",
       "333                 VMC              Approach   0.000000   0.000000  \n",
       "402                 VMC                Cruise   0.000000   0.000000  \n",
       "463                 VMC              Approach   0.000000   0.000000  \n",
       "1391                VMC               Landing   0.000000   0.000000  \n",
       "...                 ...                   ...        ...        ...  \n",
       "87750               VMC               Unknown   1.059167 -66.840556  \n",
       "87755               VMC               Unknown -14.830000 -64.904722  \n",
       "87823               Unk               Unknown   5.858333 -62.440556  \n",
       "88712               Unk               Unknown -34.636111 -59.458889  \n",
       "88837               VMC               Unknown  19.906111 -75.199722  \n",
       "\n",
       "[765 rows x 16 columns]"
      ]
     },
     "execution_count": 49,
     "metadata": {},
     "output_type": "execute_result"
    }
   ],
   "source": [
    "areas_of_interest = ['AS', 'FT', 'PR', 'OF',\n",
    "       'EN', '95', 'OA', '98', 'DA', 'NG', 'ES', 'NA', 'EA', 'GU', 'OM',\n",
    "       'DS', '74', 'O6', 'ZE', 'IC', '1A', 'CE', 'US', 'BA', 'GO', '67',\n",
    "       '34', 'UA', 'TI', 'RU', 'LY', 'GM', '20', 'LI', 'EY', '16', 'I,',\n",
    "       'NI', '9,', 'PO', 'AO', 'MY', '8,', 'O,', 'AQ', 'YA', 'N,', 'D,',\n",
    "       'A,', 'AU', 'LE', 'ON', 'AY', 'JI', 'F)', ',', 'PE', 'S,', 'E,',\n",
    "       'C,', 'UN', 'AD', 'H,', 'M,', 'G,', '7,', 'X,', 'OS', 'UM', 'CB',\n",
    "       ', ']\n",
    "\n",
    "df.loc[(df.Location.isin(areas_of_interest))]['Country'].unique()\n",
    "df.loc[df.Country != 'United States']"
   ]
  },
  {
   "cell_type": "code",
   "execution_count": 50,
   "metadata": {},
   "outputs": [
    {
     "data": {
      "text/html": [
       "<div>\n",
       "<style scoped>\n",
       "    .dataframe tbody tr th:only-of-type {\n",
       "        vertical-align: middle;\n",
       "    }\n",
       "\n",
       "    .dataframe tbody tr th {\n",
       "        vertical-align: top;\n",
       "    }\n",
       "\n",
       "    .dataframe thead th {\n",
       "        text-align: right;\n",
       "    }\n",
       "</style>\n",
       "<table border=\"1\" class=\"dataframe\">\n",
       "  <thead>\n",
       "    <tr style=\"text-align: right;\">\n",
       "      <th></th>\n",
       "      <th>Event.Date</th>\n",
       "      <th>Location</th>\n",
       "      <th>Country</th>\n",
       "      <th>Aircraft.damage</th>\n",
       "      <th>Aircraft.Category</th>\n",
       "      <th>Make</th>\n",
       "      <th>Amateur.Built</th>\n",
       "      <th>Number.of.Engines</th>\n",
       "      <th>Total.Fatal.Injuries</th>\n",
       "      <th>Total.Serious.Injuries</th>\n",
       "      <th>Total.Minor.Injuries</th>\n",
       "      <th>Total.Uninjured</th>\n",
       "      <th>Weather.Condition</th>\n",
       "      <th>Broad.phase.of.flight</th>\n",
       "      <th>Latitude</th>\n",
       "      <th>Longitude</th>\n",
       "    </tr>\n",
       "  </thead>\n",
       "  <tbody>\n",
       "    <tr>\n",
       "      <th>333</th>\n",
       "      <td>1982-02-15</td>\n",
       "      <td>AN</td>\n",
       "      <td>Puerto Rico</td>\n",
       "      <td>Substantial</td>\n",
       "      <td>Airplane</td>\n",
       "      <td>Cessna</td>\n",
       "      <td>No</td>\n",
       "      <td>1</td>\n",
       "      <td>0</td>\n",
       "      <td>0</td>\n",
       "      <td>0</td>\n",
       "      <td>1</td>\n",
       "      <td>VMC</td>\n",
       "      <td>Approach</td>\n",
       "      <td>0.000000</td>\n",
       "      <td>0.000000</td>\n",
       "    </tr>\n",
       "    <tr>\n",
       "      <th>402</th>\n",
       "      <td>1982-02-23</td>\n",
       "      <td>AN</td>\n",
       "      <td>Atlantic Ocean</td>\n",
       "      <td>Destroyed</td>\n",
       "      <td>Airplane</td>\n",
       "      <td>Cessna</td>\n",
       "      <td>No</td>\n",
       "      <td>1</td>\n",
       "      <td>0</td>\n",
       "      <td>2</td>\n",
       "      <td>0</td>\n",
       "      <td>0</td>\n",
       "      <td>VMC</td>\n",
       "      <td>Cruise</td>\n",
       "      <td>0.000000</td>\n",
       "      <td>0.000000</td>\n",
       "    </tr>\n",
       "    <tr>\n",
       "      <th>463</th>\n",
       "      <td>1982-03-02</td>\n",
       "      <td>LK</td>\n",
       "      <td>High Island</td>\n",
       "      <td>Destroyed</td>\n",
       "      <td>Helicopter</td>\n",
       "      <td>Bell</td>\n",
       "      <td>No</td>\n",
       "      <td>1</td>\n",
       "      <td>2</td>\n",
       "      <td>0</td>\n",
       "      <td>0</td>\n",
       "      <td>0</td>\n",
       "      <td>VMC</td>\n",
       "      <td>Approach</td>\n",
       "      <td>0.000000</td>\n",
       "      <td>0.000000</td>\n",
       "    </tr>\n",
       "    <tr>\n",
       "      <th>1391</th>\n",
       "      <td>1982-05-29</td>\n",
       "      <td>89</td>\n",
       "      <td>High Island</td>\n",
       "      <td>Destroyed</td>\n",
       "      <td>Helicopter</td>\n",
       "      <td>Bell</td>\n",
       "      <td>No</td>\n",
       "      <td>1</td>\n",
       "      <td>0</td>\n",
       "      <td>0</td>\n",
       "      <td>0</td>\n",
       "      <td>4</td>\n",
       "      <td>VMC</td>\n",
       "      <td>Landing</td>\n",
       "      <td>0.000000</td>\n",
       "      <td>0.000000</td>\n",
       "    </tr>\n",
       "    <tr>\n",
       "      <th>1444</th>\n",
       "      <td>1982-06-03</td>\n",
       "      <td>BO</td>\n",
       "      <td>Puerto Rico</td>\n",
       "      <td>Substantial</td>\n",
       "      <td>Airplane</td>\n",
       "      <td>Cessna</td>\n",
       "      <td>No</td>\n",
       "      <td>1</td>\n",
       "      <td>0</td>\n",
       "      <td>0</td>\n",
       "      <td>0</td>\n",
       "      <td>1</td>\n",
       "      <td>VMC</td>\n",
       "      <td>Descent</td>\n",
       "      <td>0.000000</td>\n",
       "      <td>0.000000</td>\n",
       "    </tr>\n",
       "    <tr>\n",
       "      <th>...</th>\n",
       "      <td>...</td>\n",
       "      <td>...</td>\n",
       "      <td>...</td>\n",
       "      <td>...</td>\n",
       "      <td>...</td>\n",
       "      <td>...</td>\n",
       "      <td>...</td>\n",
       "      <td>...</td>\n",
       "      <td>...</td>\n",
       "      <td>...</td>\n",
       "      <td>...</td>\n",
       "      <td>...</td>\n",
       "      <td>...</td>\n",
       "      <td>...</td>\n",
       "      <td>...</td>\n",
       "      <td>...</td>\n",
       "    </tr>\n",
       "    <tr>\n",
       "      <th>87750</th>\n",
       "      <td>2022-04-30</td>\n",
       "      <td>OF</td>\n",
       "      <td>Venezuela</td>\n",
       "      <td>Substantial</td>\n",
       "      <td>Airplane</td>\n",
       "      <td>ROCKWELL</td>\n",
       "      <td>No</td>\n",
       "      <td>2</td>\n",
       "      <td>1</td>\n",
       "      <td>0</td>\n",
       "      <td>0</td>\n",
       "      <td>0</td>\n",
       "      <td>VMC</td>\n",
       "      <td>Unknown</td>\n",
       "      <td>1.059167</td>\n",
       "      <td>-66.840556</td>\n",
       "    </tr>\n",
       "    <tr>\n",
       "      <th>87755</th>\n",
       "      <td>2022-05-01</td>\n",
       "      <td>,</td>\n",
       "      <td>Bolivia</td>\n",
       "      <td>Substantial</td>\n",
       "      <td>Airplane</td>\n",
       "      <td>CESSNA</td>\n",
       "      <td>No</td>\n",
       "      <td>1</td>\n",
       "      <td>0</td>\n",
       "      <td>0</td>\n",
       "      <td>0</td>\n",
       "      <td>2</td>\n",
       "      <td>VMC</td>\n",
       "      <td>Unknown</td>\n",
       "      <td>-14.830000</td>\n",
       "      <td>-64.904722</td>\n",
       "    </tr>\n",
       "    <tr>\n",
       "      <th>87823</th>\n",
       "      <td>2022-05-20</td>\n",
       "      <td>OF</td>\n",
       "      <td>Venezuela</td>\n",
       "      <td>Destroyed</td>\n",
       "      <td>Airplane</td>\n",
       "      <td>CESSNA</td>\n",
       "      <td>No</td>\n",
       "      <td>1</td>\n",
       "      <td>1</td>\n",
       "      <td>0</td>\n",
       "      <td>0</td>\n",
       "      <td>0</td>\n",
       "      <td>Unk</td>\n",
       "      <td>Unknown</td>\n",
       "      <td>5.858333</td>\n",
       "      <td>-62.440556</td>\n",
       "    </tr>\n",
       "    <tr>\n",
       "      <th>88712</th>\n",
       "      <td>2022-10-23</td>\n",
       "      <td>OF</td>\n",
       "      <td>Argentina</td>\n",
       "      <td>Destroyed</td>\n",
       "      <td>Airplane</td>\n",
       "      <td>CESSNA</td>\n",
       "      <td>No</td>\n",
       "      <td>1</td>\n",
       "      <td>1</td>\n",
       "      <td>0</td>\n",
       "      <td>0</td>\n",
       "      <td>0</td>\n",
       "      <td>Unk</td>\n",
       "      <td>Unknown</td>\n",
       "      <td>-34.636111</td>\n",
       "      <td>-59.458889</td>\n",
       "    </tr>\n",
       "    <tr>\n",
       "      <th>88837</th>\n",
       "      <td>2022-12-01</td>\n",
       "      <td>OF</td>\n",
       "      <td>Cuba</td>\n",
       "      <td>Substantial</td>\n",
       "      <td>Airplane</td>\n",
       "      <td>LEARJET</td>\n",
       "      <td>No</td>\n",
       "      <td>2</td>\n",
       "      <td>0</td>\n",
       "      <td>0</td>\n",
       "      <td>0</td>\n",
       "      <td>4</td>\n",
       "      <td>VMC</td>\n",
       "      <td>Unknown</td>\n",
       "      <td>19.906111</td>\n",
       "      <td>-75.199722</td>\n",
       "    </tr>\n",
       "  </tbody>\n",
       "</table>\n",
       "<p>703 rows × 16 columns</p>\n",
       "</div>"
      ],
      "text/plain": [
       "      Event.Date Location         Country Aircraft.damage Aircraft.Category  \\\n",
       "333   1982-02-15       AN     Puerto Rico     Substantial          Airplane   \n",
       "402   1982-02-23       AN  Atlantic Ocean       Destroyed          Airplane   \n",
       "463   1982-03-02       LK     High Island       Destroyed        Helicopter   \n",
       "1391  1982-05-29       89     High Island       Destroyed        Helicopter   \n",
       "1444  1982-06-03       BO     Puerto Rico     Substantial          Airplane   \n",
       "...          ...      ...             ...             ...               ...   \n",
       "87750 2022-04-30       OF       Venezuela     Substantial          Airplane   \n",
       "87755 2022-05-01       ,          Bolivia     Substantial          Airplane   \n",
       "87823 2022-05-20       OF       Venezuela       Destroyed          Airplane   \n",
       "88712 2022-10-23       OF       Argentina       Destroyed          Airplane   \n",
       "88837 2022-12-01       OF            Cuba     Substantial          Airplane   \n",
       "\n",
       "           Make Amateur.Built  Number.of.Engines  Total.Fatal.Injuries  \\\n",
       "333      Cessna            No                  1                     0   \n",
       "402      Cessna            No                  1                     0   \n",
       "463        Bell            No                  1                     2   \n",
       "1391       Bell            No                  1                     0   \n",
       "1444     Cessna            No                  1                     0   \n",
       "...         ...           ...                ...                   ...   \n",
       "87750  ROCKWELL            No                  2                     1   \n",
       "87755    CESSNA            No                  1                     0   \n",
       "87823    CESSNA            No                  1                     1   \n",
       "88712    CESSNA            No                  1                     1   \n",
       "88837   LEARJET            No                  2                     0   \n",
       "\n",
       "       Total.Serious.Injuries  Total.Minor.Injuries  Total.Uninjured  \\\n",
       "333                         0                     0                1   \n",
       "402                         2                     0                0   \n",
       "463                         0                     0                0   \n",
       "1391                        0                     0                4   \n",
       "1444                        0                     0                1   \n",
       "...                       ...                   ...              ...   \n",
       "87750                       0                     0                0   \n",
       "87755                       0                     0                2   \n",
       "87823                       0                     0                0   \n",
       "88712                       0                     0                0   \n",
       "88837                       0                     0                4   \n",
       "\n",
       "      Weather.Condition Broad.phase.of.flight   Latitude  Longitude  \n",
       "333                 VMC              Approach   0.000000   0.000000  \n",
       "402                 VMC                Cruise   0.000000   0.000000  \n",
       "463                 VMC              Approach   0.000000   0.000000  \n",
       "1391                VMC               Landing   0.000000   0.000000  \n",
       "1444                VMC               Descent   0.000000   0.000000  \n",
       "...                 ...                   ...        ...        ...  \n",
       "87750               VMC               Unknown   1.059167 -66.840556  \n",
       "87755               VMC               Unknown -14.830000 -64.904722  \n",
       "87823               Unk               Unknown   5.858333 -62.440556  \n",
       "88712               Unk               Unknown -34.636111 -59.458889  \n",
       "88837               VMC               Unknown  19.906111 -75.199722  \n",
       "\n",
       "[703 rows x 16 columns]"
      ]
     },
     "execution_count": 50,
     "metadata": {},
     "output_type": "execute_result"
    }
   ],
   "source": [
    "# inference\n",
    "# Colorado is not in the Gulf of Mexico\n",
    "df.loc[df['Location'] == 'Colorado', 'Country'] = 'United States'\n",
    "df.loc[df.Country != 'United States']"
   ]
  },
  {
   "cell_type": "code",
   "execution_count": 51,
   "metadata": {},
   "outputs": [
    {
     "data": {
      "text/plain": [
       "United States          63065\n",
       "Bahamas                   82\n",
       "Atlantic Ocean            54\n",
       "Puerto Rico               52\n",
       "Brazil                    50\n",
       "                       ...  \n",
       "Chad                       1\n",
       "Trinidad And Tobago        1\n",
       "Guyana                     1\n",
       "Palau                      1\n",
       "South Sudan                1\n",
       "Name: Country, Length: 104, dtype: int64"
      ]
     },
     "execution_count": 51,
     "metadata": {},
     "output_type": "execute_result"
    }
   ],
   "source": [
    "df.Country.value_counts()"
   ]
  },
  {
   "cell_type": "code",
   "execution_count": 52,
   "metadata": {},
   "outputs": [
    {
     "name": "stdout",
     "output_type": "stream",
     "text": [
      "# column 1 # Event.Date\n",
      "# column 2 # Location\n",
      "# column 3 # Country\n",
      "# column 4 # Aircraft.damage\n",
      "# column 5 # Aircraft.Category\n",
      "# column 6 # Make\n",
      "# column 7 # Amateur.Built\n",
      "# column 8 # Number.of.Engines\n",
      "# column 9 # Total.Fatal.Injuries\n",
      "# column 10 # Total.Serious.Injuries\n",
      "# column 11 # Total.Minor.Injuries\n",
      "# column 12 # Total.Uninjured\n",
      "# column 13 # Weather.Condition\n",
      "# column 14 # Broad.phase.of.flight\n",
      "# column 15 # Latitude\n",
      "# column 16 # Longitude\n"
     ]
    }
   ],
   "source": [
    "# generating columns number \n",
    "# for ease of analysis\n",
    "col_list = list(df.columns)\n",
    "# for-loop\n",
    "for i in range(len(list(df.columns))):\n",
    "    print(f\"# column {i + 1} # {col_list[i]}\")"
   ]
  },
  {
   "cell_type": "code",
   "execution_count": 53,
   "metadata": {},
   "outputs": [
    {
     "data": {
      "text/html": [
       "<div>\n",
       "<style scoped>\n",
       "    .dataframe tbody tr th:only-of-type {\n",
       "        vertical-align: middle;\n",
       "    }\n",
       "\n",
       "    .dataframe tbody tr th {\n",
       "        vertical-align: top;\n",
       "    }\n",
       "\n",
       "    .dataframe thead th {\n",
       "        text-align: right;\n",
       "    }\n",
       "</style>\n",
       "<table border=\"1\" class=\"dataframe\">\n",
       "  <thead>\n",
       "    <tr style=\"text-align: right;\">\n",
       "      <th></th>\n",
       "      <th>Event.Date</th>\n",
       "      <th>Location</th>\n",
       "      <th>Country</th>\n",
       "      <th>Aircraft.damage</th>\n",
       "      <th>Aircraft.Category</th>\n",
       "      <th>Make</th>\n",
       "      <th>Amateur.Built</th>\n",
       "      <th>Number.of.Engines</th>\n",
       "      <th>Total.Fatal.Injuries</th>\n",
       "      <th>Total.Serious.Injuries</th>\n",
       "      <th>Total.Minor.Injuries</th>\n",
       "      <th>Total.Uninjured</th>\n",
       "      <th>Weather.Condition</th>\n",
       "      <th>Broad.phase.of.flight</th>\n",
       "      <th>Latitude</th>\n",
       "      <th>Longitude</th>\n",
       "    </tr>\n",
       "  </thead>\n",
       "  <tbody>\n",
       "    <tr>\n",
       "      <th>0</th>\n",
       "      <td>1948-10-24</td>\n",
       "      <td>Idaho</td>\n",
       "      <td>United States</td>\n",
       "      <td>Destroyed</td>\n",
       "      <td>Unknown</td>\n",
       "      <td>Stinson</td>\n",
       "      <td>No</td>\n",
       "      <td>1</td>\n",
       "      <td>2</td>\n",
       "      <td>0</td>\n",
       "      <td>0</td>\n",
       "      <td>0</td>\n",
       "      <td>UNK</td>\n",
       "      <td>Cruise</td>\n",
       "      <td>0.0</td>\n",
       "      <td>0.0</td>\n",
       "    </tr>\n",
       "    <tr>\n",
       "      <th>1</th>\n",
       "      <td>1962-07-19</td>\n",
       "      <td>California</td>\n",
       "      <td>United States</td>\n",
       "      <td>Destroyed</td>\n",
       "      <td>Unknown</td>\n",
       "      <td>Piper</td>\n",
       "      <td>No</td>\n",
       "      <td>1</td>\n",
       "      <td>4</td>\n",
       "      <td>0</td>\n",
       "      <td>0</td>\n",
       "      <td>0</td>\n",
       "      <td>UNK</td>\n",
       "      <td>Unknown</td>\n",
       "      <td>0.0</td>\n",
       "      <td>0.0</td>\n",
       "    </tr>\n",
       "    <tr>\n",
       "      <th>3</th>\n",
       "      <td>1977-06-19</td>\n",
       "      <td>California</td>\n",
       "      <td>United States</td>\n",
       "      <td>Destroyed</td>\n",
       "      <td>Unknown</td>\n",
       "      <td>Rockwell</td>\n",
       "      <td>No</td>\n",
       "      <td>1</td>\n",
       "      <td>2</td>\n",
       "      <td>0</td>\n",
       "      <td>0</td>\n",
       "      <td>0</td>\n",
       "      <td>IMC</td>\n",
       "      <td>Cruise</td>\n",
       "      <td>0.0</td>\n",
       "      <td>0.0</td>\n",
       "    </tr>\n",
       "  </tbody>\n",
       "</table>\n",
       "</div>"
      ],
      "text/plain": [
       "  Event.Date    Location        Country Aircraft.damage Aircraft.Category  \\\n",
       "0 1948-10-24       Idaho  United States       Destroyed           Unknown   \n",
       "1 1962-07-19  California  United States       Destroyed           Unknown   \n",
       "3 1977-06-19  California  United States       Destroyed           Unknown   \n",
       "\n",
       "       Make Amateur.Built  Number.of.Engines  Total.Fatal.Injuries  \\\n",
       "0   Stinson            No                  1                     2   \n",
       "1     Piper            No                  1                     4   \n",
       "3  Rockwell            No                  1                     2   \n",
       "\n",
       "   Total.Serious.Injuries  Total.Minor.Injuries  Total.Uninjured  \\\n",
       "0                       0                     0                0   \n",
       "1                       0                     0                0   \n",
       "3                       0                     0                0   \n",
       "\n",
       "  Weather.Condition Broad.phase.of.flight  Latitude  Longitude  \n",
       "0               UNK                Cruise       0.0        0.0  \n",
       "1               UNK               Unknown       0.0        0.0  \n",
       "3               IMC                Cruise       0.0        0.0  "
      ]
     },
     "execution_count": 53,
     "metadata": {},
     "output_type": "execute_result"
    }
   ],
   "source": [
    "# grimpse so far..\n",
    "df.head(3)"
   ]
  },
  {
   "cell_type": "code",
   "execution_count": 54,
   "metadata": {},
   "outputs": [
    {
     "data": {
      "text/plain": [
       "United States     63065\n",
       "Bahamas              82\n",
       "Atlantic Ocean       54\n",
       "Puerto Rico          52\n",
       "Brazil               50\n",
       "Pacific Ocean        34\n",
       "Canada               28\n",
       "Colombia             28\n",
       "Missing              23\n",
       "Australia            18\n",
       "Name: Country, dtype: int64"
      ]
     },
     "execution_count": 54,
     "metadata": {},
     "output_type": "execute_result"
    }
   ],
   "source": [
    "df.Country.unique()\n",
    "df.Country.value_counts()[:10]"
   ]
  },
  {
   "cell_type": "markdown",
   "metadata": {},
   "source": [
    "# Descriptive Analysis"
   ]
  },
  {
   "cell_type": "code",
   "execution_count": 55,
   "metadata": {},
   "outputs": [
    {
     "name": "stdout",
     "output_type": "stream",
     "text": [
      "The Number of columns are: 16\n",
      "The columns are:- \n"
     ]
    },
    {
     "data": {
      "text/plain": [
       "['Event.Date',\n",
       " 'Location',\n",
       " 'Country',\n",
       " 'Aircraft.damage',\n",
       " 'Aircraft.Category',\n",
       " 'Make',\n",
       " 'Amateur.Built',\n",
       " 'Number.of.Engines',\n",
       " 'Total.Fatal.Injuries',\n",
       " 'Total.Serious.Injuries',\n",
       " 'Total.Minor.Injuries',\n",
       " 'Total.Uninjured',\n",
       " 'Weather.Condition',\n",
       " 'Broad.phase.of.flight',\n",
       " 'Latitude',\n",
       " 'Longitude']"
      ]
     },
     "execution_count": 55,
     "metadata": {},
     "output_type": "execute_result"
    }
   ],
   "source": [
    "# number of columns\n",
    "print(f'The Number of columns are: {len(df.columns)}')\n",
    "# columns are:-\n",
    "print(f'The columns are:- ')\n",
    "list(df.columns)"
   ]
  },
  {
   "cell_type": "code",
   "execution_count": 56,
   "metadata": {},
   "outputs": [
    {
     "data": {
      "text/plain": [
       "(63768, 16)"
      ]
     },
     "execution_count": 56,
     "metadata": {},
     "output_type": "execute_result"
    }
   ],
   "source": [
    "# the shape of the dataframe\n",
    "df.shape"
   ]
  },
  {
   "cell_type": "code",
   "execution_count": 57,
   "metadata": {},
   "outputs": [
    {
     "name": "stdout",
     "output_type": "stream",
     "text": [
      "<class 'pandas.core.frame.DataFrame'>\n",
      "Int64Index: 63768 entries, 0 to 88886\n",
      "Data columns (total 16 columns):\n",
      " #   Column                  Non-Null Count  Dtype         \n",
      "---  ------                  --------------  -----         \n",
      " 0   Event.Date              63768 non-null  datetime64[ns]\n",
      " 1   Location                63768 non-null  object        \n",
      " 2   Country                 63768 non-null  object        \n",
      " 3   Aircraft.damage         63768 non-null  object        \n",
      " 4   Aircraft.Category       63768 non-null  object        \n",
      " 5   Make                    63768 non-null  object        \n",
      " 6   Amateur.Built           63768 non-null  object        \n",
      " 7   Number.of.Engines       63768 non-null  int32         \n",
      " 8   Total.Fatal.Injuries    63768 non-null  int32         \n",
      " 9   Total.Serious.Injuries  63768 non-null  int32         \n",
      " 10  Total.Minor.Injuries    63768 non-null  int32         \n",
      " 11  Total.Uninjured         63768 non-null  int32         \n",
      " 12  Weather.Condition       63768 non-null  object        \n",
      " 13  Broad.phase.of.flight   63768 non-null  object        \n",
      " 14  Latitude                63768 non-null  float64       \n",
      " 15  Longitude               63768 non-null  float64       \n",
      "dtypes: datetime64[ns](1), float64(2), int32(5), object(8)\n",
      "memory usage: 7.1+ MB\n"
     ]
    }
   ],
   "source": [
    "# description\n",
    "df.info()"
   ]
  },
  {
   "cell_type": "code",
   "execution_count": 58,
   "metadata": {},
   "outputs": [
    {
     "data": {
      "text/plain": [
       "['Date',\n",
       " 'Location',\n",
       " 'Country',\n",
       " 'DamageLevel',\n",
       " 'TypeOfAircraft',\n",
       " 'Manufacturer',\n",
       " 'Built',\n",
       " 'Engines',\n",
       " 'Fatal-Injuries',\n",
       " 'Serious-Injuries',\n",
       " 'Minor-Injuries',\n",
       " 'Uninjured',\n",
       " 'Weather-Condition',\n",
       " 'Flight.Phase',\n",
       " 'Latitude',\n",
       " 'Longitude']"
      ]
     },
     "execution_count": 58,
     "metadata": {},
     "output_type": "execute_result"
    }
   ],
   "source": [
    "# rename the columns \n",
    "columns={'Event.Date': 'Date', \n",
    "         'Make': 'Manufacturer',\n",
    "         'Number.of.Engines': 'Engines',\n",
    "         'Aircraft.damage': 'DamageLevel',\n",
    "         'Amateur.Built': 'Built',\n",
    "         'Aircraft.Category': 'TypeOfAircraft',\n",
    "         'Total.Fatal.Injuries': 'Fatal-Injuries',\n",
    "         'Total.Serious.Injuries': 'Serious-Injuries',\n",
    "         'Total.Minor.Injuries': 'Minor-Injuries',\n",
    "         'Total.Uninjured': 'Uninjured',\n",
    "         'Weather.Condition': 'Weather-Condition',\n",
    "         'Broad.phase.of.flight': 'Flight.Phase'\n",
    "         }\n",
    "\n",
    "df = df.rename(columns=columns)\n",
    "list(df.columns)"
   ]
  },
  {
   "cell_type": "code",
   "execution_count": 59,
   "metadata": {},
   "outputs": [
    {
     "data": {
      "text/plain": [
       "Index(['Date', 'Location', 'Country', 'DamageLevel', 'TypeOfAircraft',\n",
       "       'Manufacturer', 'Built', 'Engines', 'Passengers', 'Fatal-Injuries',\n",
       "       'Serious-Injuries', 'Minor-Injuries', 'Uninjured', 'Weather-Condition',\n",
       "       'Flight.Phase', 'Latitude', 'Longitude'],\n",
       "      dtype='object')"
      ]
     },
     "execution_count": 59,
     "metadata": {},
     "output_type": "execute_result"
    }
   ],
   "source": [
    "#  check num dtype\n",
    "df[['Fatal-Injuries', 'Serious-Injuries', 'Minor-Injuries', 'Uninjured']].describe()\n",
    "# creating a new column\n",
    "df['Passengers'] = df[['Fatal-Injuries', 'Serious-Injuries', 'Minor-Injuries', 'Uninjured']].sum(axis=1)#.unique()\n",
    "# columns\n",
    "df.columns\n",
    "# rearranging columns\n",
    "df = df[['Date', 'Location', 'Country', 'DamageLevel', 'TypeOfAircraft', 'Manufacturer',\n",
    "       'Built', 'Engines', 'Passengers', 'Fatal-Injuries', 'Serious-Injuries',\n",
    "       'Minor-Injuries', 'Uninjured', 'Weather-Condition', 'Flight.Phase',\n",
    "       'Latitude', 'Longitude']]\n",
    "\n",
    "# checking order of columns\n",
    "df.columns"
   ]
  },
  {
   "cell_type": "code",
   "execution_count": 60,
   "metadata": {},
   "outputs": [
    {
     "name": "stdout",
     "output_type": "stream",
     "text": [
      "Before:-\n",
      "----------------------\n",
      "          Manufacturer\n",
      "Cessna           17286\n",
      "Piper             9383\n",
      "CESSNA            4128\n",
      "Beech             3195\n",
      "PIPER             2443\n",
      "Bell              1453\n",
      "Grumman            947\n",
      "BEECH              839\n",
      "Mooney             822\n",
      "Bellanca           728\n",
      "\n",
      "After:-\n",
      "----------------------\n",
      "          Manufacturer\n",
      "Cessna           21414\n",
      "Piper            11826\n",
      "Beech             4034\n",
      "Bell              1848\n",
      "Mooney            1029\n",
      "Grumman           1011\n",
      "Bellanca           875\n",
      "Hughes             706\n",
      "Robinson           637\n",
      "Aeronca            531\n"
     ]
    }
   ],
   "source": [
    "# value_counts of manufacture column\n",
    "# inference\n",
    "# ----------\n",
    "# some names are not consistent\n",
    "# ----------\n",
    "print(f\"\"\"Before:-\n",
    "----------------------\n",
    "{df.Manufacturer.value_counts().to_frame()[:10]}\"\"\", \n",
    "end='\\n\\n')\n",
    "\n",
    "# Capitalize the first letter of each word in 'Manufacturer' column\n",
    "df['Manufacturer'] = df['Manufacturer'].str.lower().str.title()\n",
    "# confirming\n",
    "print(\"\"\"After:-\n",
    "----------------------\"\"\")\n",
    "print(df.Manufacturer.value_counts().to_frame()[:10])"
   ]
  },
  {
   "cell_type": "markdown",
   "metadata": {},
   "source": [
    "# Desciptional Analysis 2"
   ]
  },
  {
   "cell_type": "code",
   "execution_count": 61,
   "metadata": {},
   "outputs": [
    {
     "name": "stdout",
     "output_type": "stream",
     "text": [
      "<class 'pandas.core.frame.DataFrame'>\n",
      "Int64Index: 63768 entries, 0 to 88886\n",
      "Data columns (total 17 columns):\n",
      " #   Column             Non-Null Count  Dtype         \n",
      "---  ------             --------------  -----         \n",
      " 0   Date               63768 non-null  datetime64[ns]\n",
      " 1   Location           63768 non-null  object        \n",
      " 2   Country            63768 non-null  object        \n",
      " 3   DamageLevel        63768 non-null  object        \n",
      " 4   TypeOfAircraft     63768 non-null  object        \n",
      " 5   Manufacturer       63768 non-null  object        \n",
      " 6   Built              63768 non-null  object        \n",
      " 7   Engines            63768 non-null  int32         \n",
      " 8   Passengers         63768 non-null  int64         \n",
      " 9   Fatal-Injuries     63768 non-null  int32         \n",
      " 10  Serious-Injuries   63768 non-null  int32         \n",
      " 11  Minor-Injuries     63768 non-null  int32         \n",
      " 12  Uninjured          63768 non-null  int32         \n",
      " 13  Weather-Condition  63768 non-null  object        \n",
      " 14  Flight.Phase       63768 non-null  object        \n",
      " 15  Latitude           63768 non-null  float64       \n",
      " 16  Longitude          63768 non-null  float64       \n",
      "dtypes: datetime64[ns](1), float64(2), int32(5), int64(1), object(8)\n",
      "memory usage: 7.5+ MB\n"
     ]
    }
   ],
   "source": [
    "df.info()"
   ]
  },
  {
   "cell_type": "code",
   "execution_count": 62,
   "metadata": {},
   "outputs": [
    {
     "data": {
      "text/html": [
       "<div>\n",
       "<style scoped>\n",
       "    .dataframe tbody tr th:only-of-type {\n",
       "        vertical-align: middle;\n",
       "    }\n",
       "\n",
       "    .dataframe tbody tr th {\n",
       "        vertical-align: top;\n",
       "    }\n",
       "\n",
       "    .dataframe thead th {\n",
       "        text-align: right;\n",
       "    }\n",
       "</style>\n",
       "<table border=\"1\" class=\"dataframe\">\n",
       "  <thead>\n",
       "    <tr style=\"text-align: right;\">\n",
       "      <th></th>\n",
       "      <th>Engines</th>\n",
       "      <th>Passengers</th>\n",
       "      <th>Fatal-Injuries</th>\n",
       "      <th>Serious-Injuries</th>\n",
       "      <th>Minor-Injuries</th>\n",
       "      <th>Uninjured</th>\n",
       "      <th>Latitude</th>\n",
       "      <th>Longitude</th>\n",
       "    </tr>\n",
       "  </thead>\n",
       "  <tbody>\n",
       "    <tr>\n",
       "      <th>count</th>\n",
       "      <td>63768.000000</td>\n",
       "      <td>63768.000000</td>\n",
       "      <td>63768.000000</td>\n",
       "      <td>63768.000000</td>\n",
       "      <td>63768.000000</td>\n",
       "      <td>63768.000000</td>\n",
       "      <td>63768.000000</td>\n",
       "      <td>63768.000000</td>\n",
       "    </tr>\n",
       "    <tr>\n",
       "      <th>mean</th>\n",
       "      <td>1.118774</td>\n",
       "      <td>2.659814</td>\n",
       "      <td>0.400687</td>\n",
       "      <td>0.222478</td>\n",
       "      <td>0.281599</td>\n",
       "      <td>1.755050</td>\n",
       "      <td>8.075773</td>\n",
       "      <td>-20.324925</td>\n",
       "    </tr>\n",
       "    <tr>\n",
       "      <th>std</th>\n",
       "      <td>0.349752</td>\n",
       "      <td>11.943647</td>\n",
       "      <td>2.769290</td>\n",
       "      <td>1.104898</td>\n",
       "      <td>1.257196</td>\n",
       "      <td>11.168593</td>\n",
       "      <td>15.883390</td>\n",
       "      <td>40.505289</td>\n",
       "    </tr>\n",
       "    <tr>\n",
       "      <th>min</th>\n",
       "      <td>1.000000</td>\n",
       "      <td>0.000000</td>\n",
       "      <td>0.000000</td>\n",
       "      <td>0.000000</td>\n",
       "      <td>0.000000</td>\n",
       "      <td>0.000000</td>\n",
       "      <td>-48.571389</td>\n",
       "      <td>-170.711389</td>\n",
       "    </tr>\n",
       "    <tr>\n",
       "      <th>25%</th>\n",
       "      <td>1.000000</td>\n",
       "      <td>1.000000</td>\n",
       "      <td>0.000000</td>\n",
       "      <td>0.000000</td>\n",
       "      <td>0.000000</td>\n",
       "      <td>0.000000</td>\n",
       "      <td>0.000000</td>\n",
       "      <td>-9.378472</td>\n",
       "    </tr>\n",
       "    <tr>\n",
       "      <th>50%</th>\n",
       "      <td>1.000000</td>\n",
       "      <td>2.000000</td>\n",
       "      <td>0.000000</td>\n",
       "      <td>0.000000</td>\n",
       "      <td>0.000000</td>\n",
       "      <td>1.000000</td>\n",
       "      <td>0.000000</td>\n",
       "      <td>0.000000</td>\n",
       "    </tr>\n",
       "    <tr>\n",
       "      <th>75%</th>\n",
       "      <td>1.000000</td>\n",
       "      <td>2.000000</td>\n",
       "      <td>0.000000</td>\n",
       "      <td>0.000000</td>\n",
       "      <td>0.000000</td>\n",
       "      <td>2.000000</td>\n",
       "      <td>3.993194</td>\n",
       "      <td>0.000000</td>\n",
       "    </tr>\n",
       "    <tr>\n",
       "      <th>max</th>\n",
       "      <td>8.000000</td>\n",
       "      <td>576.000000</td>\n",
       "      <td>270.000000</td>\n",
       "      <td>137.000000</td>\n",
       "      <td>125.000000</td>\n",
       "      <td>576.000000</td>\n",
       "      <td>71.474444</td>\n",
       "      <td>815.588889</td>\n",
       "    </tr>\n",
       "  </tbody>\n",
       "</table>\n",
       "</div>"
      ],
      "text/plain": [
       "            Engines    Passengers  Fatal-Injuries  Serious-Injuries  \\\n",
       "count  63768.000000  63768.000000    63768.000000      63768.000000   \n",
       "mean       1.118774      2.659814        0.400687          0.222478   \n",
       "std        0.349752     11.943647        2.769290          1.104898   \n",
       "min        1.000000      0.000000        0.000000          0.000000   \n",
       "25%        1.000000      1.000000        0.000000          0.000000   \n",
       "50%        1.000000      2.000000        0.000000          0.000000   \n",
       "75%        1.000000      2.000000        0.000000          0.000000   \n",
       "max        8.000000    576.000000      270.000000        137.000000   \n",
       "\n",
       "       Minor-Injuries     Uninjured      Latitude     Longitude  \n",
       "count    63768.000000  63768.000000  63768.000000  63768.000000  \n",
       "mean         0.281599      1.755050      8.075773    -20.324925  \n",
       "std          1.257196     11.168593     15.883390     40.505289  \n",
       "min          0.000000      0.000000    -48.571389   -170.711389  \n",
       "25%          0.000000      0.000000      0.000000     -9.378472  \n",
       "50%          0.000000      1.000000      0.000000      0.000000  \n",
       "75%          0.000000      2.000000      3.993194      0.000000  \n",
       "max        125.000000    576.000000     71.474444    815.588889  "
      ]
     },
     "execution_count": 62,
     "metadata": {},
     "output_type": "execute_result"
    }
   ],
   "source": [
    "# Description\n",
    "df.describe()"
   ]
  },
  {
   "cell_type": "code",
   "execution_count": 63,
   "metadata": {},
   "outputs": [
    {
     "data": {
      "text/html": [
       "<div>\n",
       "<style scoped>\n",
       "    .dataframe tbody tr th:only-of-type {\n",
       "        vertical-align: middle;\n",
       "    }\n",
       "\n",
       "    .dataframe tbody tr th {\n",
       "        vertical-align: top;\n",
       "    }\n",
       "\n",
       "    .dataframe thead th {\n",
       "        text-align: right;\n",
       "    }\n",
       "</style>\n",
       "<table border=\"1\" class=\"dataframe\">\n",
       "  <thead>\n",
       "    <tr style=\"text-align: right;\">\n",
       "      <th></th>\n",
       "      <th>Engines</th>\n",
       "      <th>Passengers</th>\n",
       "      <th>Fatal-Injuries</th>\n",
       "      <th>Serious-Injuries</th>\n",
       "      <th>Minor-Injuries</th>\n",
       "      <th>Uninjured</th>\n",
       "      <th>Latitude</th>\n",
       "      <th>Longitude</th>\n",
       "    </tr>\n",
       "  </thead>\n",
       "  <tbody>\n",
       "    <tr>\n",
       "      <th>Engines</th>\n",
       "      <td>1.000000</td>\n",
       "      <td>0.284867</td>\n",
       "      <td>0.139910</td>\n",
       "      <td>0.055594</td>\n",
       "      <td>0.089097</td>\n",
       "      <td>0.254416</td>\n",
       "      <td>-0.034466</td>\n",
       "      <td>0.037014</td>\n",
       "    </tr>\n",
       "    <tr>\n",
       "      <th>Passengers</th>\n",
       "      <td>0.284867</td>\n",
       "      <td>1.000000</td>\n",
       "      <td>0.233736</td>\n",
       "      <td>0.204158</td>\n",
       "      <td>0.321414</td>\n",
       "      <td>0.955063</td>\n",
       "      <td>0.003639</td>\n",
       "      <td>-0.000610</td>\n",
       "    </tr>\n",
       "    <tr>\n",
       "      <th>Fatal-Injuries</th>\n",
       "      <td>0.139910</td>\n",
       "      <td>0.233736</td>\n",
       "      <td>1.000000</td>\n",
       "      <td>0.098033</td>\n",
       "      <td>0.082217</td>\n",
       "      <td>-0.016950</td>\n",
       "      <td>-0.018851</td>\n",
       "      <td>0.018118</td>\n",
       "    </tr>\n",
       "    <tr>\n",
       "      <th>Serious-Injuries</th>\n",
       "      <td>0.055594</td>\n",
       "      <td>0.204158</td>\n",
       "      <td>0.098033</td>\n",
       "      <td>1.000000</td>\n",
       "      <td>0.340731</td>\n",
       "      <td>0.056735</td>\n",
       "      <td>0.028131</td>\n",
       "      <td>-0.028428</td>\n",
       "    </tr>\n",
       "    <tr>\n",
       "      <th>Minor-Injuries</th>\n",
       "      <td>0.089097</td>\n",
       "      <td>0.321414</td>\n",
       "      <td>0.082217</td>\n",
       "      <td>0.340731</td>\n",
       "      <td>1.000000</td>\n",
       "      <td>0.177059</td>\n",
       "      <td>-0.045173</td>\n",
       "      <td>0.042025</td>\n",
       "    </tr>\n",
       "    <tr>\n",
       "      <th>Uninjured</th>\n",
       "      <td>0.254416</td>\n",
       "      <td>0.955063</td>\n",
       "      <td>-0.016950</td>\n",
       "      <td>0.056735</td>\n",
       "      <td>0.177059</td>\n",
       "      <td>1.000000</td>\n",
       "      <td>0.010867</td>\n",
       "      <td>-0.007063</td>\n",
       "    </tr>\n",
       "    <tr>\n",
       "      <th>Latitude</th>\n",
       "      <td>-0.034466</td>\n",
       "      <td>0.003639</td>\n",
       "      <td>-0.018851</td>\n",
       "      <td>0.028131</td>\n",
       "      <td>-0.045173</td>\n",
       "      <td>0.010867</td>\n",
       "      <td>1.000000</td>\n",
       "      <td>-0.660415</td>\n",
       "    </tr>\n",
       "    <tr>\n",
       "      <th>Longitude</th>\n",
       "      <td>0.037014</td>\n",
       "      <td>-0.000610</td>\n",
       "      <td>0.018118</td>\n",
       "      <td>-0.028428</td>\n",
       "      <td>0.042025</td>\n",
       "      <td>-0.007063</td>\n",
       "      <td>-0.660415</td>\n",
       "      <td>1.000000</td>\n",
       "    </tr>\n",
       "  </tbody>\n",
       "</table>\n",
       "</div>"
      ],
      "text/plain": [
       "                   Engines  Passengers  Fatal-Injuries  Serious-Injuries  \\\n",
       "Engines           1.000000    0.284867        0.139910          0.055594   \n",
       "Passengers        0.284867    1.000000        0.233736          0.204158   \n",
       "Fatal-Injuries    0.139910    0.233736        1.000000          0.098033   \n",
       "Serious-Injuries  0.055594    0.204158        0.098033          1.000000   \n",
       "Minor-Injuries    0.089097    0.321414        0.082217          0.340731   \n",
       "Uninjured         0.254416    0.955063       -0.016950          0.056735   \n",
       "Latitude         -0.034466    0.003639       -0.018851          0.028131   \n",
       "Longitude         0.037014   -0.000610        0.018118         -0.028428   \n",
       "\n",
       "                  Minor-Injuries  Uninjured  Latitude  Longitude  \n",
       "Engines                 0.089097   0.254416 -0.034466   0.037014  \n",
       "Passengers              0.321414   0.955063  0.003639  -0.000610  \n",
       "Fatal-Injuries          0.082217  -0.016950 -0.018851   0.018118  \n",
       "Serious-Injuries        0.340731   0.056735  0.028131  -0.028428  \n",
       "Minor-Injuries          1.000000   0.177059 -0.045173   0.042025  \n",
       "Uninjured               0.177059   1.000000  0.010867  -0.007063  \n",
       "Latitude               -0.045173   0.010867  1.000000  -0.660415  \n",
       "Longitude               0.042025  -0.007063 -0.660415   1.000000  "
      ]
     },
     "execution_count": 63,
     "metadata": {},
     "output_type": "execute_result"
    }
   ],
   "source": [
    "# Corr-Matrix\n",
    "df.corr()"
   ]
  },
  {
   "cell_type": "code",
   "execution_count": 64,
   "metadata": {},
   "outputs": [
    {
     "data": {
      "image/png": "[encoded data removed]",
      "text/plain": [
       "<Figure size 864x432 with 2 Axes>"
      ]
     },
     "metadata": {
      "needs_background": "light"
     },
     "output_type": "display_data"
    }
   ],
   "source": [
    "# corr matrix\n",
    "corr_matrix = df.corr()\n",
    "\n",
    "# figure size\n",
    "plt.figure(figsize=(12, 6))  # w, h\n",
    "# heatmap\n",
    "sns.heatmap(corr_matrix, annot=True, cmap='coolwarm', fmt='.2f', linewidths=0.5)\n",
    "\n",
    "# Rotation of the axis labels\n",
    "plt.xticks(rotation=30)\n",
    "plt.yticks(rotation=30)\n",
    "\n",
    "# Labels\n",
    "plt.title('\\nHeatmap of Numerical Values in Dataset\\n', fontsize=18, fontweight='bold')\n",
    "\n",
    "# teh Plot\n",
    "plt.show();"
   ]
  },
  {
   "cell_type": "markdown",
   "metadata": {},
   "source": [
    "## Visualizations"
   ]
  },
  {
   "cell_type": "markdown",
   "metadata": {},
   "source": []
  },
  {
   "cell_type": "code",
   "execution_count": 65,
   "metadata": {},
   "outputs": [
    {
     "data": {
      "text/plain": [
       "Index(['Date', 'Location', 'Country', 'DamageLevel', 'TypeOfAircraft',\n",
       "       'Manufacturer', 'Built', 'Engines', 'Passengers', 'Fatal-Injuries',\n",
       "       'Serious-Injuries', 'Minor-Injuries', 'Uninjured', 'Weather-Condition',\n",
       "       'Flight.Phase', 'Latitude', 'Longitude'],\n",
       "      dtype='object')"
      ]
     },
     "execution_count": 65,
     "metadata": {},
     "output_type": "execute_result"
    }
   ],
   "source": [
    "df.columns"
   ]
  },
  {
   "cell_type": "code",
   "execution_count": 66,
   "metadata": {},
   "outputs": [
    {
     "data": {
      "text/plain": [
       "Index(['Year', 'Date', 'Location', 'Country', 'DamageLevel', 'TypeOfAircraft',\n",
       "       'Manufacturer', 'Built', 'Engines', 'Passengers', 'Fatal-Injuries',\n",
       "       'Serious-Injuries', 'Minor-Injuries', 'Uninjured', 'Weather-Condition',\n",
       "       'Flight.Phase', 'Latitude', 'Longitude'],\n",
       "      dtype='object')"
      ]
     },
     "execution_count": 66,
     "metadata": {},
     "output_type": "execute_result"
    }
   ],
   "source": [
    "# Assuming your DataFrame is named df\n",
    "df['Date'] = pd.to_datetime(df['Date']) \n",
    "df['Year'] = df['Date'].dt.year\n",
    "# confirming\n",
    "df.columns\n",
    "# rearranging columns again\n",
    "columns = ['Date', 'Location', 'Country', 'DamageLevel', 'TypeOfAircraft',       \n",
    "'Manufacturer', 'Built', 'Engines', 'Passengers', 'Fatal-Injuries',       \n",
    "'Serious-Injuries', 'Minor-Injuries', 'Uninjured', 'Weather-Condition',       \n",
    "'Flight.Phase', 'Latitude', 'Longitude', 'Year']\n",
    "# cementing\n",
    "df = df[['Year', 'Date', 'Location', 'Country', 'DamageLevel', 'TypeOfAircraft',       \n",
    "'Manufacturer', 'Built', 'Engines', 'Passengers', 'Fatal-Injuries',       \n",
    "'Serious-Injuries', 'Minor-Injuries', 'Uninjured', 'Weather-Condition',       \n",
    "'Flight.Phase', 'Latitude', 'Longitude']]\n",
    "# check\n",
    "df.columns"
   ]
  },
  {
   "cell_type": "code",
   "execution_count": 67,
   "metadata": {},
   "outputs": [
    {
     "data": {
      "text/plain": [
       "array(['Unknown', 'Bad', 'Good'], dtype=object)"
      ]
     },
     "execution_count": 67,
     "metadata": {},
     "output_type": "execute_result"
    }
   ],
   "source": [
    "# Weather-Condition\n",
    "df['Weather-Condition'].value_counts()\n",
    "\n",
    "# corrections\n",
    "weather_correction = {'UNK': 'Unknown',\n",
    "'IMC': 'Bad', \n",
    "'VMC': 'Good', \n",
    "'Unk': 'Unknown'\n",
    "}\n",
    "\n",
    "df['Weather-Condition'] = df['Weather-Condition'].replace(weather_correction)\n",
    "# cementing changes\n",
    "df['Weather-Condition'].unique()"
   ]
  },
  {
   "cell_type": "markdown",
   "metadata": {},
   "source": [
    "# Exporting csv"
   ]
  },
  {
   "cell_type": "code",
   "execution_count": 68,
   "metadata": {},
   "outputs": [
    {
     "name": "stdout",
     "output_type": "stream",
     "text": [
      "File 'final-output.csv' previously existed but overwritten.\n",
      "\n",
      "The End!\n"
     ]
    }
   ],
   "source": [
    "# exporting csv\n",
    "filename = 'final-output.csv'\n",
    "\n",
    "try:\n",
    "    # Check if file exists and overwrite or create it\n",
    "    if os.path.exists(filename):\n",
    "        print(f\"File '{filename}' previously existed but overwritten.\", end='\\n')\n",
    "    else:\n",
    "        df.to_csv(filename, index=False)\n",
    "        print(f\"The csv-file '{filename}' was not found, so it has been created.\", end='\\n')\n",
    "\n",
    "except PermissionError as e:\n",
    "    print(f\"PermissionError: Unable to write to '{filename}'. Please check file permissions.\")\n",
    "    print(f\"Error details: {e}\", end='\\n')\n",
    "\n",
    "#   The End!\n",
    "print('')\n",
    "print('The End!')"
   ]
  },
  {
   "cell_type": "code",
   "execution_count": 69,
   "metadata": {},
   "outputs": [
    {
     "data": {
      "text/plain": [
       "Index(['Year', 'Date', 'Location', 'Country', 'DamageLevel', 'TypeOfAircraft',\n",
       "       'Manufacturer', 'Built', 'Engines', 'Passengers', 'Fatal-Injuries',\n",
       "       'Serious-Injuries', 'Minor-Injuries', 'Uninjured', 'Weather-Condition',\n",
       "       'Flight.Phase', 'Latitude', 'Longitude'],\n",
       "      dtype='object')"
      ]
     },
     "execution_count": 69,
     "metadata": {},
     "output_type": "execute_result"
    }
   ],
   "source": [
    "df.columns"
   ]
  },
  {
   "cell_type": "markdown",
   "metadata": {},
   "source": [
    "## The Research Questions are:-\n",
    "### SPECIFIC OBJECTIVES\n",
    "1. Analyse Aircraft Safety Records – Examine historical accident data to identify aircraft \n",
    "models with the lowest accident and fatality rates.\n",
    "\n",
    "2. Evaluate Risk Factors by Aircraft Type – Assess how factors such as aircraft age, \n",
    "manufacturer, engine type, and passenger capacity influence accident frequency and \n",
    "severity.\n",
    "\n",
    "3. Assess the Impact of Weather and Geographic Location – Determine how different \n",
    "weather conditions and regions contribute to aircraft accidents and identify aircraft \n",
    "best suited for various environments."
   ]
  },
  {
   "cell_type": "markdown",
   "metadata": {},
   "source": [
    "### Line Graph Of Accident Vs Year"
   ]
  },
  {
   "cell_type": "code",
   "execution_count": 70,
   "metadata": {},
   "outputs": [
    {
     "name": "stderr",
     "output_type": "stream",
     "text": [
      "No handles with labels found to put in legend.\n"
     ]
    },
    {
     "data": {
      "image/png": "[encoded data removed]",
      "text/plain": [
       "<Figure size 864x432 with 1 Axes>"
      ]
     },
     "metadata": {
      "needs_background": "light"
     },
     "output_type": "display_data"
    }
   ],
   "source": [
    "# Step 1: Group by 'Year' and count the accidents per year\n",
    "accidents_per_year = df.groupby(df['Date'].dt.year).size()\n",
    "\n",
    "# figure size\n",
    "plt.figure(figsize=(12, 6))\n",
    "# Step 2: Plot a line graph\n",
    "plt.plot(accidents_per_year.index, accidents_per_year.values, marker='o', color='b', linestyle='-', linewidth=2, markersize=5)\n",
    "# labels\n",
    "plt.title('Accidents vs Year\\n', \n",
    "          fontsize = 18, \n",
    "          fontweight = 'bold'\n",
    "          )\n",
    "plt.xlabel('Year')\n",
    "plt.ylabel('Number of Accidents')\n",
    "# Show\n",
    "plt.xticks(rotation=30)\n",
    "plt.grid(axis='y', linestyle=':', color='gray', alpha = 0.5)\n",
    "plt.legend()\n",
    "plt.show();"
   ]
  },
  {
   "cell_type": "code",
   "execution_count": 71,
   "metadata": {},
   "outputs": [
    {
     "data": {
      "image/png": "[encoded data removed]",
      "text/plain": [
       "<Figure size 576x144 with 1 Axes>"
      ]
     },
     "metadata": {
      "needs_background": "light"
     },
     "output_type": "display_data"
    }
   ],
   "source": [
    "# Step 2: Filter for years before 1981\n",
    "df_filter = df[df['Date'].dt.year < 1981]\n",
    "\n",
    "# Step 3: Group by 'Year' and count the accidents per year\n",
    "accidents_per_year = df_filter.groupby(df_filter['Date'].dt.year).size()\n",
    "\n",
    "# Step 4: Plot a line graph\n",
    "plt.figure(figsize=(8, 2))\n",
    "plt.plot(accidents_per_year.index, accidents_per_year.values, marker='o', color='b', linestyle='-', linewidth=2, markersize=5)\n",
    "plt.title('Accidents vs Year (Before 1981)\\n', \n",
    "          fontsize = 18, \n",
    "          fontweight = 'bold'\n",
    "          )\n",
    "plt.xlabel('Year', fontsize=14, fontweight='bold')  # Make x-axis label bigger and bold\n",
    "plt.ylabel('Number of Accidents')\n",
    "\n",
    "# Show only the y-axis grid with dotted lines\n",
    "plt.grid(axis='y', linestyle=':', color='gray')  # Dotted grid for y-axis\n",
    "plt.xticks(rotation=30)\n",
    "plt.show()\n"
   ]
  },
  {
   "cell_type": "code",
   "execution_count": 72,
   "metadata": {},
   "outputs": [
    {
     "data": {
      "image/png": "[encoded data removed]",
      "text/plain": [
       "<Figure size 720x432 with 1 Axes>"
      ]
     },
     "metadata": {
      "needs_background": "light"
     },
     "output_type": "display_data"
    }
   ],
   "source": [
    "# Step 2: Filter for years before 1981\n",
    "df_filter = df[df['Date'].dt.year >= 1981]\n",
    "\n",
    "# Step 3: Group by 'Year' and count the accidents per year\n",
    "accidents_per_year = df_filter.groupby(df_filter['Date'].dt.year).size()\n",
    "\n",
    "# Step 4: Plot a line graph\n",
    "plt.figure(figsize=(10, 6))\n",
    "plt.plot(accidents_per_year.index, accidents_per_year.values, marker='o', color='b', linestyle='-', linewidth=2, markersize=5)\n",
    "plt.title('Accidents vs Year (After 1981)', \n",
    "          fontsize = 18,\n",
    "          fontweight = 'bold')\n",
    "plt.xlabel('Year', fontsize=14, fontweight='bold')  # Make x-axis label bigger and bold\n",
    "plt.ylabel('Number of Accidents')\n",
    "\n",
    "# Show only the y-axis grid with dotted lines\n",
    "plt.grid(axis='y', linestyle=':', color='gray')  # Dotted grid for y-axis\n",
    "plt.xticks(rotation=30)\n",
    "plt.show()\n"
   ]
  },
  {
   "cell_type": "code",
   "execution_count": 73,
   "metadata": {},
   "outputs": [
    {
     "data": {
      "image/png": "[encoded data removed]",
      "text/plain": [
       "<Figure size 720x432 with 1 Axes>"
      ]
     },
     "metadata": {
      "needs_background": "light"
     },
     "output_type": "display_data"
    }
   ],
   "source": [
    "# Step 2: Filter for years before 1981\n",
    "df_filter = df[df['Date'].dt.year >= 1981]\n",
    "\n",
    "# Step 3: Group by 'Year' and count the accidents per year\n",
    "accidents_per_year = df_filter.groupby(df_filter['Date'].dt.year).size()\n",
    "\n",
    "# Step 4: Plot a line graph\n",
    "plt.figure(figsize=(10, 6))\n",
    "plt.plot(accidents_per_year.index, accidents_per_year.values, marker='o', color='b', linestyle='-', linewidth=2, markersize=5)\n",
    "plt.title('Accidents vs Year (After 1981)\\n', \n",
    "          fontsize = 18, \n",
    "          fontweight = 'bold'\n",
    "          )\n",
    "plt.xlabel('Year', \n",
    "          fontsize = 12, \n",
    "          fontweight = 'bold'\n",
    "          ) \n",
    "plt.ylabel('Number of Accidents', \n",
    "          fontsize = 12, \n",
    "          fontweight = 'bold'\n",
    "          )\n",
    "# Show only the y-axis grid with dotted lines\n",
    "plt.grid(axis='y', linestyle=':', color='gray')  # Dotted grid for y-axis\n",
    "# Set x-ticks every 5 years\n",
    "plt.xticks(range(min(accidents_per_year.index), max(accidents_per_year.index) + 1, 5))\n",
    "# rotation\n",
    "plt.xticks(rotation=30)\n",
    "plt.show();"
   ]
  },
  {
   "cell_type": "code",
   "execution_count": 74,
   "metadata": {},
   "outputs": [
    {
     "data": {
      "image/png": "[encoded data removed]",
      "text/plain": [
       "<Figure size 720x432 with 1 Axes>"
      ]
     },
     "metadata": {
      "needs_background": "light"
     },
     "output_type": "display_data"
    }
   ],
   "source": [
    "# Step 2: Filter for years before 1981\n",
    "df_filter = df[df['Date'].dt.year >= 2005]\n",
    "\n",
    "# Step 3: Group by 'Year' and count the accidents per year\n",
    "accidents_per_year = df_filter.groupby(df_filter['Date'].dt.year).size()\n",
    "\n",
    "# Step 4: Plot a line graph\n",
    "plt.figure(figsize=(10, 6))\n",
    "plt.plot(accidents_per_year.index, accidents_per_year.values, \n",
    "         marker='o', \n",
    "         color='b', \n",
    "         linestyle='-', \n",
    "         linewidth=2, \n",
    "         markersize=5\n",
    "         )\n",
    "plt.title('Accidents vs Year (last 20 Years)\\n', \n",
    "          fontsize = 18, \n",
    "          fontweight = 'bold'\n",
    "          )\n",
    "plt.xlabel('Year', \n",
    "          fontsize = 12, \n",
    "          fontweight = 'bold'\n",
    "          ) \n",
    "plt.ylabel('Number of Accidents', \n",
    "          fontsize = 12, \n",
    "          fontweight = 'bold'\n",
    "          )\n",
    "# Show only the y-axis grid with dotted lines\n",
    "plt.grid(axis='y', linestyle=':', color='gray')  # Dotted grid for y-axis\n",
    "# Set x-ticks every 5 years\n",
    "plt.xticks(range(min(accidents_per_year.index), max(accidents_per_year.index) + 1, 5))\n",
    "# rotation\n",
    "plt.xticks(rotation=30)\n",
    "plt.show();"
   ]
  },
  {
   "cell_type": "markdown",
   "metadata": {},
   "source": [
    "### viz-1: TypeOfAircraft vs count the accidents"
   ]
  },
  {
   "cell_type": "code",
   "execution_count": 75,
   "metadata": {},
   "outputs": [
    {
     "data": {
      "image/png": "[encoded data removed]",
      "text/plain": [
       "<Figure size 864x432 with 1 Axes>"
      ]
     },
     "metadata": {
      "needs_background": "light"
     },
     "output_type": "display_data"
    }
   ],
   "source": [
    "# Step 1: Group by 'TypeOfAircraft' and count the accidents\n",
    "accidents_per_aircraft_type = df.groupby('TypeOfAircraft').size()\n",
    "\n",
    "# Step 2: Plot a bar graph\n",
    "plt.figure(figsize=(12, 6))\n",
    "accidents_per_aircraft_type.sort_values(ascending=False).plot(kind='bar', color='mediumslateblue')\n",
    "\n",
    "# labels and title\n",
    "plt.title('Number of Accidents by Aircraft Type')\n",
    "plt.xlabel('Type of Aircraft', fontsize=14, fontweight='bold')  # Make x-axis label bigger and bold\n",
    "plt.ylabel('Number of Accidents', fontsize=14, fontweight='bold')  # Make y-axis label bigger and bold\n",
    "\n",
    "# Rotate x-axis labels to avoid overlap\n",
    "plt.xticks(rotation=45)\n",
    "plt.grid(axis='y', linestyle=':', color='gray')  # Dotted grid for y-axis\n",
    "plt.show();"
   ]
  },
  {
   "cell_type": "code",
   "execution_count": 76,
   "metadata": {},
   "outputs": [
    {
     "data": {
      "image/png": "[encoded data removed]",
      "text/plain": [
       "<Figure size 864x432 with 1 Axes>"
      ]
     },
     "metadata": {
      "needs_background": "light"
     },
     "output_type": "display_data"
    }
   ],
   "source": [
    "# Step 1: Group by 'TypeOfAircraft' and count the accidents\n",
    "accidents_per_aircraft_type = df.groupby('TypeOfAircraft').size()\n",
    "\n",
    "# Step 2: Get the top 10 most frequent aircraft types\n",
    "top_5_accidents = accidents_per_aircraft_type.sort_values(ascending=False).head(5)\n",
    "\n",
    "# Step 3: Plot a bar graph\n",
    "plt.figure(figsize=(12, 6))\n",
    "# top 10\n",
    "top_5_accidents.plot(kind='bar', color='mediumslateblue')\n",
    "\n",
    "# labels and title\n",
    "plt.title('Top 5 Aircraft Types by Number of Accidents')\n",
    "plt.xlabel('Type of Aircraft', fontsize=14, fontweight='bold')  \n",
    "plt.ylabel('Number of Accidents', fontsize=14, fontweight='bold') \n",
    "\n",
    "# Rotate x-axis labels to avoid overlap\n",
    "plt.xticks(rotation=45)\n",
    "plt.grid(axis='y', linestyle=':', color='gray')  # Dotted grid for y-axis\n",
    "plt.show()\n"
   ]
  },
  {
   "cell_type": "code",
   "execution_count": 77,
   "metadata": {},
   "outputs": [
    {
     "data": {
      "image/png": "[encoded data removed]",
      "text/plain": [
       "<Figure size 720x432 with 1 Axes>"
      ]
     },
     "metadata": {
      "needs_background": "light"
     },
     "output_type": "display_data"
    }
   ],
   "source": [
    "# Step 1: Filter out 'Unknown' values from 'TypeOfAircraft'\n",
    "df_filtered = df[df['TypeOfAircraft'] != 'Unknown']\n",
    "\n",
    "# Step 2: Group by 'TypeOfAircraft' and count the accidents\n",
    "accidents_per_aircraft_type = df_filtered.groupby('TypeOfAircraft').size()\n",
    "\n",
    "# Step 3: Get the top 5 most frequent aircraft types\n",
    "top_5_accidents = accidents_per_aircraft_type.sort_values(ascending=False).head(5)\n",
    "\n",
    "# Step 4: Plot a bar graph\n",
    "plt.figure(figsize=(10, 6))\n",
    "top_5_accidents.plot(kind='bar', color='mediumslateblue')\n",
    "\n",
    "# labels and title\n",
    "plt.title('Top 5 Aircraft Types by Number of Accidents\\n', \n",
    "          fontsize=18, \n",
    "          fontweight='bold'\n",
    "          )  \n",
    "plt.xlabel('Type of Aircraft', fontsize=14, fontweight='bold')  \n",
    "plt.ylabel('Number of Accidents', fontsize=14, fontweight='bold') \n",
    "\n",
    "# Rotate x-axis labels to avoid overlap\n",
    "plt.xticks(rotation=10)\n",
    "plt.grid(axis='y', linestyle=':', color='gray')  # Dotted grid for y-axis\n",
    "plt.show();\n"
   ]
  },
  {
   "cell_type": "markdown",
   "metadata": {},
   "source": [
    "### viz-2: Manufacturer vs count the accidents"
   ]
  },
  {
   "cell_type": "code",
   "execution_count": 78,
   "metadata": {},
   "outputs": [
    {
     "data": {
      "image/png": "[encoded data removed]",
      "text/plain": [
       "<Figure size 720x432 with 1 Axes>"
      ]
     },
     "metadata": {
      "needs_background": "light"
     },
     "output_type": "display_data"
    }
   ],
   "source": [
    "# Step 1: Group by 'Manufacturer' and count the accidents\n",
    "accidents_per_manufacturer = df.groupby('Manufacturer').size()\n",
    "\n",
    "# Step 2: Get the top manufacturers based on accident count (optional if needed)\n",
    "top_manufacturers = accidents_per_manufacturer.sort_values(ascending=False).head(5)  # top 10 for better visualization\n",
    "\n",
    "# Step 3: Plot a bar graph\n",
    "plt.figure(figsize=(10, 6))\n",
    "top_manufacturers.plot(kind='bar', color='mediumseagreen')\n",
    "\n",
    "# labels and title\n",
    "plt.title('Top 10 Manufacturers by Number of Accidents\\n', \n",
    "          fontsize=18, \n",
    "          fontweight='bold'\n",
    "          ) \n",
    "plt.xlabel('Manufacturer', fontsize=14, fontweight='bold') \n",
    "plt.ylabel('Number of Accidents', fontsize=14, fontweight='bold')\n",
    "\n",
    "# Rotate x-axis labels to avoid overlap\n",
    "plt.xticks(rotation=30)\n",
    "plt.grid(axis='y', linestyle=':', color='gray')  # Dotted grid for y-axis\n",
    "plt.show()\n"
   ]
  },
  {
   "cell_type": "markdown",
   "metadata": {},
   "source": [
    "## Objective 2: \n",
    "### Evaluate Risk Factors by Aircraft Type – Assess how factors such as aircraft age, manufacturer, engine type, and passenger capacity influence accident frequency and severity"
   ]
  },
  {
   "cell_type": "code",
   "execution_count": 79,
   "metadata": {},
   "outputs": [
    {
     "data": {
      "text/plain": [
       "<AxesSubplot:xlabel='Engines'>"
      ]
     },
     "execution_count": 79,
     "metadata": {},
     "output_type": "execute_result"
    },
    {
     "data": {
      "image/png": "[encoded data removed]",
      "text/plain": [
       "<Figure size 432x288 with 1 Axes>"
      ]
     },
     "metadata": {
      "needs_background": "light"
     },
     "output_type": "display_data"
    }
   ],
   "source": [
    "accidents_by_engine = df.groupby(['Engines', 'TypeOfAircraft']).size().unstack()\n",
    "accidents_by_engine.plot(kind='bar', stacked=True)"
   ]
  },
  {
   "cell_type": "code",
   "execution_count": 80,
   "metadata": {},
   "outputs": [
    {
     "data": {
      "text/plain": [
       "<AxesSubplot:xlabel='Flight.Phase'>"
      ]
     },
     "execution_count": 80,
     "metadata": {},
     "output_type": "execute_result"
    },
    {
     "data": {
      "image/png": "[encoded data removed]",
      "text/plain": [
       "<Figure size 432x288 with 1 Axes>"
      ]
     },
     "metadata": {
      "needs_background": "light"
     },
     "output_type": "display_data"
    }
   ],
   "source": [
    "accidents_by_phase = df.groupby('Flight.Phase').size()\n",
    "accidents_by_phase.plot(kind='bar', color='lightcoral')"
   ]
  },
  {
   "cell_type": "code",
   "execution_count": 81,
   "metadata": {},
   "outputs": [
    {
     "data": {
      "image/png": "[encoded data removed]",
      "text/plain": [
       "<Figure size 864x432 with 1 Axes>"
      ]
     },
     "metadata": {
      "needs_background": "light"
     },
     "output_type": "display_data"
    }
   ],
   "source": [
    "# Location against Count\n",
    "# # Step 1: Group by 'Location' and count the accidents\n",
    "accidents_per_location = df.groupby('Location').size()\n",
    "\n",
    "# Step 2: Get the top 10 locations based on accident count (optional for better visualization)\n",
    "top_10_locations = accidents_per_location.sort_values(ascending=False).head(10)\n",
    "\n",
    "# Step 3: Plot a bar graph\n",
    "plt.figure(figsize=(12, 6))\n",
    "top_10_locations.plot(kind='bar', color='dodgerblue')\n",
    "\n",
    "# labels and title\n",
    "plt.title('Top 10 Locations by Number of Accidents', fontsize=18, fontweight='bold') \n",
    "plt.xlabel('Location', fontsize=14, fontweight='bold') \n",
    "plt.ylabel('Number of Accidents', fontsize=14, fontweight='bold')\n",
    "\n",
    "# Rotate x-axis labels to avoid overlap\n",
    "plt.xticks(rotation=45)\n",
    "plt.grid(axis='y', linestyle=':', color='gray')  # Dotted grid for y-axis\n",
    "plt.show();"
   ]
  },
  {
   "cell_type": "code",
   "execution_count": 82,
   "metadata": {},
   "outputs": [
    {
     "data": {
      "image/png": "[encoded data removed]",
      "text/plain": [
       "<Figure size 864x432 with 1 Axes>"
      ]
     },
     "metadata": {
      "needs_background": "light"
     },
     "output_type": "display_data"
    }
   ],
   "source": [
    "# country vs count\n",
    "# Step 1: Group by 'Country' and count the accidents\n",
    "accidents_per_country = df.groupby('Country').size()\n",
    "\n",
    "# Step 2: Get the top 10 countries based on accident count (optional for better visualization)\n",
    "top_5_countries = accidents_per_country.sort_values(ascending=False).head(5)\n",
    "\n",
    "# Step 3: Plot a bar graph\n",
    "plt.figure(figsize=(12, 6))\n",
    "top_5_countries.plot(kind='bar', color='tomato')\n",
    "\n",
    "# labels and title\n",
    "plt.title('Top 5 Countries by Number of Accidents', fontsize=18, fontweight='bold') \n",
    "plt.xlabel('Country', fontsize=14, fontweight='bold')  # Make x-axis label bigger and bold\n",
    "plt.ylabel('Number of Accidents', fontsize=14, fontweight='bold')  # Make y-axis label bigger and bold\n",
    "\n",
    "# Rotate x-axis labels to avoid overlap\n",
    "plt.xticks(rotation=10)\n",
    "plt.grid(axis='y', linestyle=':', color='gray')  # Dotted grid for y-axis\n",
    "plt.show()"
   ]
  },
  {
   "cell_type": "code",
   "execution_count": 83,
   "metadata": {},
   "outputs": [
    {
     "data": {
      "image/png": "[encoded data removed]",
      "text/plain": [
       "<Figure size 720x432 with 1 Axes>"
      ]
     },
     "metadata": {
      "needs_background": "light"
     },
     "output_type": "display_data"
    }
   ],
   "source": [
    "# damage level agansr count\n",
    "# Step 1: Group by 'DamageLevel' and count the accidents\n",
    "accidents_per_damage_level = df.groupby('DamageLevel').size()\n",
    "\n",
    "# Step 2: Plot a bar graph\n",
    "plt.figure(figsize=(10, 6))\n",
    "accidents_per_damage_level.plot(kind='bar', color='seagreen')\n",
    "\n",
    "# labels and title\n",
    "plt.title('Number of Accidents by Damage Level', fontsize=18, fontweight='bold') \n",
    "plt.xlabel('Damage Level', fontsize=14, fontweight='bold')  # Make x-axis label bigger and bold\n",
    "plt.ylabel('Number of Accidents', fontsize=14, fontweight='bold')  # Make y-axis label bigger and bold\n",
    "\n",
    "# Rotate x-axis labels to avoid overlap if necessary\n",
    "plt.xticks(rotation=10)\n",
    "plt.grid(axis='y', linestyle=':', color='gray')  # Dotted grid for y-axis\n",
    "plt.show()\n"
   ]
  },
  {
   "cell_type": "code",
   "execution_count": 84,
   "metadata": {},
   "outputs": [
    {
     "data": {
      "text/plain": [
       "<Figure size 864x432 with 0 Axes>"
      ]
     },
     "metadata": {},
     "output_type": "display_data"
    },
    {
     "data": {
      "image/png": "[encoded data removed]",
      "text/plain": [
       "<Figure size 432x288 with 1 Axes>"
      ]
     },
     "metadata": {
      "needs_background": "light"
     },
     "output_type": "display_data"
    }
   ],
   "source": [
    "# damagelevel against typeofAircft# Step 1: Group by 'DamageLevel' and 'TypeOfAircraft' and count the accidents\n",
    "damage_level_by_aircraft = df.groupby(['TypeOfAircraft', 'DamageLevel']).size().unstack()\n",
    "\n",
    "# Step 2: Plot a stacked bar chart\n",
    "plt.figure(figsize=(12, 6))\n",
    "damage_level_by_aircraft.plot(kind='bar', stacked=True, color=['skyblue', 'lightcoral', 'yellowgreen', 'lightgrey'])\n",
    "\n",
    "# labels and title\n",
    "plt.title('Damage Level by Aircraft Type')\n",
    "plt.xlabel('Type of Aircraft', fontsize=14, fontweight='bold')  # Make x-axis label bigger and bold\n",
    "plt.ylabel('Number of Accidents', fontsize=14, fontweight='bold')  # Make y-axis label bigger and bold\n",
    "\n",
    "# Rotate x-axis labels to avoid overlap\n",
    "plt.xticks(rotation=45)\n",
    "plt.grid(axis='y', linestyle=':', color='gray')  # Dotted grid for y-axis\n",
    "plt.show()\n"
   ]
  },
  {
   "cell_type": "code",
   "execution_count": 85,
   "metadata": {},
   "outputs": [],
   "source": [
    "# # Damagelevel against Manufacturer\n",
    "# ---------------------------\n",
    "# Takes longs to run\n",
    "# ---------------------------\n",
    "# # Step 1: Group by 'DamageLevel' and 'Manufacturer' and count the accidents\n",
    "# damage_level_by_manufacturer = df.groupby(['Manufacturer', 'DamageLevel']).size().unstack()\n",
    "\n",
    "# # Step 2: Plot a stacked bar chart\n",
    "# plt.figure(figsize=(12, 6))\n",
    "# damage_level_by_manufacturer.plot(kind='bar', stacked=True, color=['skyblue', 'lightcoral', 'yellowgreen', 'lightgrey'])\n",
    "\n",
    "# # labels and title\n",
    "# plt.title('Damage Level by Manufacturer')\n",
    "# plt.xlabel('Manufacturer', fontsize=14, fontweight='bold')  # Make x-axis label bigger and bold\n",
    "# plt.ylabel('Number of Accidents', fontsize=14, fontweight='bold')  # Make y-axis label bigger and bold\n",
    "\n",
    "# # Rotate x-axis labels to avoid overlap\n",
    "# plt.xticks(rotation=45)\n",
    "# plt.grid(axis='y', linestyle=':', color='gray')  # Dotted grid for y-axis\n",
    "# plt.show()\n"
   ]
  },
  {
   "cell_type": "code",
   "execution_count": 86,
   "metadata": {},
   "outputs": [
    {
     "data": {
      "image/png": "[encoded data removed]",
      "text/plain": [
       "<Figure size 720x432 with 1 Axes>"
      ]
     },
     "metadata": {
      "needs_background": "light"
     },
     "output_type": "display_data"
    }
   ],
   "source": [
    "# passenger against number of accidents\n",
    "# Step 1: Group by 'Passengers' and count the accidents\n",
    "accidents_by_passenger_capacity = df.groupby('Passengers').size()\n",
    "\n",
    "# Step 2: Plot a line or scatter plot\n",
    "plt.figure(figsize=(10, 6))\n",
    "plt.plot(accidents_by_passenger_capacity.index, accidents_by_passenger_capacity.values, marker='o', color='dodgerblue', linestyle='-', linewidth=2, markersize=5)\n",
    "\n",
    "# labels and title\n",
    "plt.title('Accidents by Passenger Capacity')\n",
    "plt.xlabel('Passenger Capacity', fontsize=14, fontweight='bold')  # Make x-axis label bigger and bold\n",
    "plt.ylabel('Number of Accidents', fontsize=14, fontweight='bold')  # Make y-axis label bigger and bold\n",
    "\n",
    "# Show only the y-axis grid with dotted lines\n",
    "plt.grid(axis='y', linestyle=':', color='gray')  # Dotted grid for y-axis\n",
    "plt.show()\n"
   ]
  },
  {
   "cell_type": "markdown",
   "metadata": {},
   "source": [
    "## Objective 3:\n",
    "### Assess the Impact of Weather and Geographic Location – Determine how different weather conditions and regions contribute to aircraft accidents and identify aircraft best suited for various environments."
   ]
  },
  {
   "cell_type": "code",
   "execution_count": 87,
   "metadata": {},
   "outputs": [
    {
     "data": {
      "image/png": "[encoded data removed]",
      "text/plain": [
       "<Figure size 864x432 with 1 Axes>"
      ]
     },
     "metadata": {
      "needs_background": "light"
     },
     "output_type": "display_data"
    }
   ],
   "source": [
    "# weather against count of accident\n",
    "# Step 1: Group by 'Weather-Condition' and count the accidents\n",
    "accidents_per_weather_condition = df.groupby('Weather-Condition').size()\n",
    "\n",
    "# Step 2: Plot a bar chart\n",
    "plt.figure(figsize=(12, 6))\n",
    "accidents_per_weather_condition.sort_values(ascending=False).plot(kind='bar', color='mediumseagreen')\n",
    "\n",
    "# labels and title\n",
    "plt.title('Accidents by Weather Condition', fontsize=18, fontweight='bold') \n",
    "plt.xlabel('Weather Condition', fontsize=14, fontweight='bold')  # Make x-axis label bigger and bold\n",
    "plt.ylabel('Number of Accidents', fontsize=14, fontweight='bold')  # Make y-axis label bigger and bold\n",
    "\n",
    "# Rotate x-axis labels to avoid overlap\n",
    "plt.xticks(rotation=10)\n",
    "plt.grid(axis='y', linestyle=':', color='gray')  # Dotted grid for y-axis\n",
    "plt.show()\n",
    "\n"
   ]
  },
  {
   "cell_type": "code",
   "execution_count": 88,
   "metadata": {},
   "outputs": [
    {
     "data": {
      "image/png": "[encoded data removed]",
      "text/plain": [
       "<Figure size 720x432 with 1 Axes>"
      ]
     },
     "metadata": {
      "needs_background": "light"
     },
     "output_type": "display_data"
    }
   ],
   "source": [
    "# Location against count of accident\n",
    "# Step 1: Group by 'Location' and count the accidents\n",
    "accidents_per_location = df.groupby('Location').size()\n",
    "\n",
    "# Step 2: Sort and get the top locations (optional to make the plot more readable)\n",
    "top_locations = accidents_per_location.sort_values(ascending=False).head(10)\n",
    "\n",
    "# Step 3: Plot a horizontal bar chart\n",
    "plt.figure(figsize=(10, 6))\n",
    "top_locations.plot(kind='barh', color='dodgerblue')\n",
    "\n",
    "# labels and title\n",
    "plt.title('Top 10 Locations by Number of Accidents', fontsize=18, fontweight='bold') \n",
    "plt.xlabel('Number of Accidents', fontsize=14, fontweight='bold')  # Make x-axis label bigger and bold\n",
    "plt.ylabel('Location', fontsize=14, fontweight='bold')  # Make y-axis label bigger and bold\n",
    "\n",
    "# Grid for better readability\n",
    "plt.grid(axis='x', linestyle=':', color='gray')  # Dotted grid for x-axis\n",
    "plt.xticks(rotation=30)\n",
    "plt.show()\n"
   ]
  },
  {
   "cell_type": "code",
   "execution_count": null,
   "metadata": {},
   "outputs": [],
   "source": []
  },
  {
   "cell_type": "code",
   "execution_count": null,
   "metadata": {},
   "outputs": [],
   "source": []
  }
 ],
 "metadata": {
  "kernelspec": {
   "display_name": "learn-env",
   "language": "python",
   "name": "python3"
  },
  "language_info": {
   "codemirror_mode": {
    "name": "ipython",
    "version": 3
   },
   "file_extension": ".py",
   "mimetype": "text/x-python",
   "name": "python",
   "nbconvert_exporter": "python",
   "pygments_lexer": "ipython3",
   "version": "3.8.5"
  }
 },
 "nbformat": 4,
 "nbformat_minor": 4
}
